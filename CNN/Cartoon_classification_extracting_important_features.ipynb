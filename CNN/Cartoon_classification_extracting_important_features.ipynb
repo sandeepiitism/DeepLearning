{
  "nbformat": 4,
  "nbformat_minor": 0,
  "metadata": {
    "colab": {
      "provenance": [],
      "gpuType": "T4"
    },
    "kernelspec": {
      "name": "python3",
      "display_name": "Python 3"
    },
    "accelerator": "GPU"
  },
  "cells": [
    {
      "cell_type": "markdown",
      "metadata": {
        "id": "Sd_h453YseEx"
      },
      "source": [
        "# Cartoon_classification_extracting_important_features"
      ]
    },
    {
      "cell_type": "code",
      "metadata": {
        "colab": {
          "base_uri": "https://localhost:8080/",
          "height": 36
        },
        "id": "GFTBW79STIEY",
        "outputId": "0d46554b-6011-4c4a-b101-93cbaa7090a1"
      },
      "source": [
        "import cv2\n",
        "import numpy as np\n",
        "import os\n",
        "import zipfile\n",
        "from google.colab.patches import cv2_imshow\n",
        "import tensorflow as tf\n",
        "import pandas as pd\n",
        "import seaborn as sns\n",
        "import matplotlib.pyplot as plt\n",
        "tf.__version__"
      ],
      "execution_count": 1,
      "outputs": [
        {
          "output_type": "execute_result",
          "data": {
            "text/plain": [
              "'2.14.0'"
            ],
            "application/vnd.google.colaboratory.intrinsic+json": {
              "type": "string"
            }
          },
          "metadata": {},
          "execution_count": 1
        }
      ]
    },
    {
      "cell_type": "markdown",
      "metadata": {
        "id": "lW1ZuebL-Vm8"
      },
      "source": [
        "### Extracting pixels from images"
      ]
    },
    {
      "cell_type": "code",
      "metadata": {
        "colab": {
          "base_uri": "https://localhost:8080/"
        },
        "id": "fkK5nGhKUdlI",
        "outputId": "bf7d5f5d-624d-45bf-cc6c-f1b21ec6e2be"
      },
      "source": [
        "## uploading the data to drive and to colab\n",
        "from google.colab import drive\n",
        "drive.mount('/content/drive')"
      ],
      "execution_count": 2,
      "outputs": [
        {
          "output_type": "stream",
          "name": "stdout",
          "text": [
            "Mounted at /content/drive\n"
          ]
        }
      ]
    },
    {
      "cell_type": "code",
      "metadata": {
        "id": "QifI5PO1VMDK"
      },
      "source": [
        "# unzipping the cartoon folder\n",
        "path = '/content/drive/MyDrive/cartoon.zip'\n",
        "zip_object = zipfile.ZipFile(file = path, mode = 'r')\n",
        "zip_object.extractall('./')\n",
        "zip_object.close()"
      ],
      "execution_count": 3,
      "outputs": []
    },
    {
      "cell_type": "code",
      "metadata": {
        "colab": {
          "base_uri": "https://localhost:8080/"
        },
        "id": "ZujocpAoW6x5",
        "outputId": "da2e51fb-297c-414d-d92e-027be346a7b5"
      },
      "source": [
        "## adding all the images in the cartoon folder in a list using os.path and os.listdir function\n",
        "directory = '/content/cartoon'\n",
        "files = [os.path.join(directory, f) for f in sorted(os.listdir(directory))]\n",
        "print(files)"
      ],
      "execution_count": 6,
      "outputs": [
        {
          "output_type": "stream",
          "name": "stdout",
          "text": [
            "['/content/cartoon/.DS_Store', '/content/cartoon/bart1.bmp', '/content/cartoon/bart10.bmp', '/content/cartoon/bart100.bmp', '/content/cartoon/bart101.bmp', '/content/cartoon/bart102.bmp', '/content/cartoon/bart103.bmp', '/content/cartoon/bart104.bmp', '/content/cartoon/bart105.bmp', '/content/cartoon/bart106.bmp', '/content/cartoon/bart108.bmp', '/content/cartoon/bart109.bmp', '/content/cartoon/bart11.bmp', '/content/cartoon/bart110.bmp', '/content/cartoon/bart111.bmp', '/content/cartoon/bart112.bmp', '/content/cartoon/bart113.bmp', '/content/cartoon/bart114.bmp', '/content/cartoon/bart115.bmp', '/content/cartoon/bart116.bmp', '/content/cartoon/bart117.bmp', '/content/cartoon/bart118.bmp', '/content/cartoon/bart119.bmp', '/content/cartoon/bart12.bmp', '/content/cartoon/bart120.bmp', '/content/cartoon/bart121.bmp', '/content/cartoon/bart122.bmp', '/content/cartoon/bart123.bmp', '/content/cartoon/bart124.bmp', '/content/cartoon/bart125.bmp', '/content/cartoon/bart126.bmp', '/content/cartoon/bart127.bmp', '/content/cartoon/bart128.bmp', '/content/cartoon/bart13.bmp', '/content/cartoon/bart130.bmp', '/content/cartoon/bart131.bmp', '/content/cartoon/bart132.bmp', '/content/cartoon/bart133.bmp', '/content/cartoon/bart134.bmp', '/content/cartoon/bart135.bmp', '/content/cartoon/bart136.bmp', '/content/cartoon/bart137.bmp', '/content/cartoon/bart138.bmp', '/content/cartoon/bart139.bmp', '/content/cartoon/bart14.bmp', '/content/cartoon/bart141.bmp', '/content/cartoon/bart142.bmp', '/content/cartoon/bart143.bmp', '/content/cartoon/bart144.bmp', '/content/cartoon/bart145.bmp', '/content/cartoon/bart146.bmp', '/content/cartoon/bart147.bmp', '/content/cartoon/bart148.bmp', '/content/cartoon/bart149.bmp', '/content/cartoon/bart15.bmp', '/content/cartoon/bart150.bmp', '/content/cartoon/bart151.bmp', '/content/cartoon/bart153.bmp', '/content/cartoon/bart154.bmp', '/content/cartoon/bart155.bmp', '/content/cartoon/bart156.bmp', '/content/cartoon/bart157.bmp', '/content/cartoon/bart158.bmp', '/content/cartoon/bart159.bmp', '/content/cartoon/bart16.bmp', '/content/cartoon/bart160.bmp', '/content/cartoon/bart161.bmp', '/content/cartoon/bart162.bmp', '/content/cartoon/bart164.bmp', '/content/cartoon/bart165.bmp', '/content/cartoon/bart166.bmp', '/content/cartoon/bart167.bmp', '/content/cartoon/bart168.bmp', '/content/cartoon/bart169.bmp', '/content/cartoon/bart17.bmp', '/content/cartoon/bart18.bmp', '/content/cartoon/bart19.bmp', '/content/cartoon/bart2.bmp', '/content/cartoon/bart20.bmp', '/content/cartoon/bart21.bmp', '/content/cartoon/bart22.bmp', '/content/cartoon/bart23.bmp', '/content/cartoon/bart24.bmp', '/content/cartoon/bart25.bmp', '/content/cartoon/bart26.bmp', '/content/cartoon/bart27.bmp', '/content/cartoon/bart28.bmp', '/content/cartoon/bart29.bmp', '/content/cartoon/bart3.bmp', '/content/cartoon/bart30.bmp', '/content/cartoon/bart31.bmp', '/content/cartoon/bart32.bmp', '/content/cartoon/bart34.bmp', '/content/cartoon/bart35.bmp', '/content/cartoon/bart36.bmp', '/content/cartoon/bart37.bmp', '/content/cartoon/bart38.bmp', '/content/cartoon/bart39.bmp', '/content/cartoon/bart4.bmp', '/content/cartoon/bart40.bmp', '/content/cartoon/bart42.bmp', '/content/cartoon/bart43.bmp', '/content/cartoon/bart44.bmp', '/content/cartoon/bart45.bmp', '/content/cartoon/bart46.bmp', '/content/cartoon/bart47.bmp', '/content/cartoon/bart48.bmp', '/content/cartoon/bart49.bmp', '/content/cartoon/bart5.bmp', '/content/cartoon/bart50.bmp', '/content/cartoon/bart51.bmp', '/content/cartoon/bart52.bmp', '/content/cartoon/bart53.bmp', '/content/cartoon/bart54.bmp', '/content/cartoon/bart55.bmp', '/content/cartoon/bart56.bmp', '/content/cartoon/bart57.bmp', '/content/cartoon/bart58.bmp', '/content/cartoon/bart59.bmp', '/content/cartoon/bart6.bmp', '/content/cartoon/bart60.bmp', '/content/cartoon/bart61.bmp', '/content/cartoon/bart62.bmp', '/content/cartoon/bart63.bmp', '/content/cartoon/bart64.bmp', '/content/cartoon/bart65.bmp', '/content/cartoon/bart66.bmp', '/content/cartoon/bart67.bmp', '/content/cartoon/bart68.bmp', '/content/cartoon/bart69.bmp', '/content/cartoon/bart7.bmp', '/content/cartoon/bart70.bmp', '/content/cartoon/bart71.bmp', '/content/cartoon/bart72.bmp', '/content/cartoon/bart73.bmp', '/content/cartoon/bart74.bmp', '/content/cartoon/bart75.bmp', '/content/cartoon/bart76.bmp', '/content/cartoon/bart77.bmp', '/content/cartoon/bart79.bmp', '/content/cartoon/bart8.bmp', '/content/cartoon/bart80.bmp', '/content/cartoon/bart81.bmp', '/content/cartoon/bart82.bmp', '/content/cartoon/bart83.bmp', '/content/cartoon/bart84.bmp', '/content/cartoon/bart85.bmp', '/content/cartoon/bart86.bmp', '/content/cartoon/bart87.bmp', '/content/cartoon/bart89.bmp', '/content/cartoon/bart9.bmp', '/content/cartoon/bart90.bmp', '/content/cartoon/bart91.bmp', '/content/cartoon/bart92.bmp', '/content/cartoon/bart93.bmp', '/content/cartoon/bart94.bmp', '/content/cartoon/bart95.bmp', '/content/cartoon/bart96.bmp', '/content/cartoon/bart97.bmp', '/content/cartoon/bart98.bmp', '/content/cartoon/bart99.bmp', '/content/cartoon/homer1.bmp', '/content/cartoon/homer10.bmp', '/content/cartoon/homer100.bmp', '/content/cartoon/homer101.bmp', '/content/cartoon/homer102.bmp', '/content/cartoon/homer103.bmp', '/content/cartoon/homer104.bmp', '/content/cartoon/homer105.bmp', '/content/cartoon/homer106.bmp', '/content/cartoon/homer107.bmp', '/content/cartoon/homer109.bmp', '/content/cartoon/homer110.bmp', '/content/cartoon/homer112.bmp', '/content/cartoon/homer113.bmp', '/content/cartoon/homer115.bmp', '/content/cartoon/homer116.bmp', '/content/cartoon/homer117.bmp', '/content/cartoon/homer119.bmp', '/content/cartoon/homer120.bmp', '/content/cartoon/homer121.bmp', '/content/cartoon/homer122.bmp', '/content/cartoon/homer123.bmp', '/content/cartoon/homer124.bmp', '/content/cartoon/homer13.bmp', '/content/cartoon/homer14.bmp', '/content/cartoon/homer15.bmp', '/content/cartoon/homer16.bmp', '/content/cartoon/homer17.bmp', '/content/cartoon/homer18.bmp', '/content/cartoon/homer2.bmp', '/content/cartoon/homer20.bmp', '/content/cartoon/homer21.bmp', '/content/cartoon/homer22.bmp', '/content/cartoon/homer23.bmp', '/content/cartoon/homer24.bmp', '/content/cartoon/homer26.bmp', '/content/cartoon/homer27.bmp', '/content/cartoon/homer28.bmp', '/content/cartoon/homer29.bmp', '/content/cartoon/homer3.bmp', '/content/cartoon/homer30.bmp', '/content/cartoon/homer31.bmp', '/content/cartoon/homer32.bmp', '/content/cartoon/homer33.bmp', '/content/cartoon/homer34.bmp', '/content/cartoon/homer35.bmp', '/content/cartoon/homer36.bmp', '/content/cartoon/homer37.bmp', '/content/cartoon/homer38.bmp', '/content/cartoon/homer4.bmp', '/content/cartoon/homer40.bmp', '/content/cartoon/homer41.bmp', '/content/cartoon/homer43.bmp', '/content/cartoon/homer44.bmp', '/content/cartoon/homer45.bmp', '/content/cartoon/homer46.bmp', '/content/cartoon/homer47.bmp', '/content/cartoon/homer48.bmp', '/content/cartoon/homer49.bmp', '/content/cartoon/homer5.bmp', '/content/cartoon/homer50.bmp', '/content/cartoon/homer51.bmp', '/content/cartoon/homer52.bmp', '/content/cartoon/homer54.bmp', '/content/cartoon/homer55.bmp', '/content/cartoon/homer56.bmp', '/content/cartoon/homer57.bmp', '/content/cartoon/homer58.bmp', '/content/cartoon/homer59.bmp', '/content/cartoon/homer6.bmp', '/content/cartoon/homer60.bmp', '/content/cartoon/homer61.bmp', '/content/cartoon/homer62.bmp', '/content/cartoon/homer63.bmp', '/content/cartoon/homer65.bmp', '/content/cartoon/homer66.bmp', '/content/cartoon/homer68.bmp', '/content/cartoon/homer69.bmp', '/content/cartoon/homer7.bmp', '/content/cartoon/homer70.bmp', '/content/cartoon/homer71.bmp', '/content/cartoon/homer72.bmp', '/content/cartoon/homer73.bmp', '/content/cartoon/homer74.bmp', '/content/cartoon/homer75.bmp', '/content/cartoon/homer76.bmp', '/content/cartoon/homer77.bmp', '/content/cartoon/homer78.bmp', '/content/cartoon/homer79.bmp', '/content/cartoon/homer8.bmp', '/content/cartoon/homer80.bmp', '/content/cartoon/homer81.bmp', '/content/cartoon/homer82.bmp', '/content/cartoon/homer83.bmp', '/content/cartoon/homer84.bmp', '/content/cartoon/homer85.bmp', '/content/cartoon/homer86.bmp', '/content/cartoon/homer87.bmp', '/content/cartoon/homer9.bmp', '/content/cartoon/homer90.bmp', '/content/cartoon/homer91.bmp', '/content/cartoon/homer92.bmp', '/content/cartoon/homer93.bmp', '/content/cartoon/homer94.bmp', '/content/cartoon/homer95.bmp', '/content/cartoon/homer96.bmp', '/content/cartoon/homer97.bmp', '/content/cartoon/homer98.bmp', '/content/cartoon/homer99.bmp']\n"
          ]
        }
      ]
    },
    {
      "cell_type": "markdown",
      "metadata": {
        "id": "Z7ZL-zgsheKX"
      },
      "source": [
        "## Extracting Important Features"
      ]
    },
    {
      "cell_type": "markdown",
      "metadata": {
        "id": "Jx42w2NJhfU_"
      },
      "source": [
        "### Feature extractor"
      ]
    },
    {
      "cell_type": "code",
      "metadata": {
        "colab": {
          "base_uri": "https://localhost:8080/"
        },
        "id": "OuEDBAcktJ-G",
        "outputId": "4075d682-ccb9-4e16-d4f6-c80d612cfc94"
      },
      "source": [
        "files = [os.path.join(directory, f) for f in sorted(os.listdir(directory))]\n",
        "print(files)"
      ],
      "execution_count": 7,
      "outputs": [
        {
          "output_type": "stream",
          "name": "stdout",
          "text": [
            "['/content/cartoon/.DS_Store', '/content/cartoon/bart1.bmp', '/content/cartoon/bart10.bmp', '/content/cartoon/bart100.bmp', '/content/cartoon/bart101.bmp', '/content/cartoon/bart102.bmp', '/content/cartoon/bart103.bmp', '/content/cartoon/bart104.bmp', '/content/cartoon/bart105.bmp', '/content/cartoon/bart106.bmp', '/content/cartoon/bart108.bmp', '/content/cartoon/bart109.bmp', '/content/cartoon/bart11.bmp', '/content/cartoon/bart110.bmp', '/content/cartoon/bart111.bmp', '/content/cartoon/bart112.bmp', '/content/cartoon/bart113.bmp', '/content/cartoon/bart114.bmp', '/content/cartoon/bart115.bmp', '/content/cartoon/bart116.bmp', '/content/cartoon/bart117.bmp', '/content/cartoon/bart118.bmp', '/content/cartoon/bart119.bmp', '/content/cartoon/bart12.bmp', '/content/cartoon/bart120.bmp', '/content/cartoon/bart121.bmp', '/content/cartoon/bart122.bmp', '/content/cartoon/bart123.bmp', '/content/cartoon/bart124.bmp', '/content/cartoon/bart125.bmp', '/content/cartoon/bart126.bmp', '/content/cartoon/bart127.bmp', '/content/cartoon/bart128.bmp', '/content/cartoon/bart13.bmp', '/content/cartoon/bart130.bmp', '/content/cartoon/bart131.bmp', '/content/cartoon/bart132.bmp', '/content/cartoon/bart133.bmp', '/content/cartoon/bart134.bmp', '/content/cartoon/bart135.bmp', '/content/cartoon/bart136.bmp', '/content/cartoon/bart137.bmp', '/content/cartoon/bart138.bmp', '/content/cartoon/bart139.bmp', '/content/cartoon/bart14.bmp', '/content/cartoon/bart141.bmp', '/content/cartoon/bart142.bmp', '/content/cartoon/bart143.bmp', '/content/cartoon/bart144.bmp', '/content/cartoon/bart145.bmp', '/content/cartoon/bart146.bmp', '/content/cartoon/bart147.bmp', '/content/cartoon/bart148.bmp', '/content/cartoon/bart149.bmp', '/content/cartoon/bart15.bmp', '/content/cartoon/bart150.bmp', '/content/cartoon/bart151.bmp', '/content/cartoon/bart153.bmp', '/content/cartoon/bart154.bmp', '/content/cartoon/bart155.bmp', '/content/cartoon/bart156.bmp', '/content/cartoon/bart157.bmp', '/content/cartoon/bart158.bmp', '/content/cartoon/bart159.bmp', '/content/cartoon/bart16.bmp', '/content/cartoon/bart160.bmp', '/content/cartoon/bart161.bmp', '/content/cartoon/bart162.bmp', '/content/cartoon/bart164.bmp', '/content/cartoon/bart165.bmp', '/content/cartoon/bart166.bmp', '/content/cartoon/bart167.bmp', '/content/cartoon/bart168.bmp', '/content/cartoon/bart169.bmp', '/content/cartoon/bart17.bmp', '/content/cartoon/bart18.bmp', '/content/cartoon/bart19.bmp', '/content/cartoon/bart2.bmp', '/content/cartoon/bart20.bmp', '/content/cartoon/bart21.bmp', '/content/cartoon/bart22.bmp', '/content/cartoon/bart23.bmp', '/content/cartoon/bart24.bmp', '/content/cartoon/bart25.bmp', '/content/cartoon/bart26.bmp', '/content/cartoon/bart27.bmp', '/content/cartoon/bart28.bmp', '/content/cartoon/bart29.bmp', '/content/cartoon/bart3.bmp', '/content/cartoon/bart30.bmp', '/content/cartoon/bart31.bmp', '/content/cartoon/bart32.bmp', '/content/cartoon/bart34.bmp', '/content/cartoon/bart35.bmp', '/content/cartoon/bart36.bmp', '/content/cartoon/bart37.bmp', '/content/cartoon/bart38.bmp', '/content/cartoon/bart39.bmp', '/content/cartoon/bart4.bmp', '/content/cartoon/bart40.bmp', '/content/cartoon/bart42.bmp', '/content/cartoon/bart43.bmp', '/content/cartoon/bart44.bmp', '/content/cartoon/bart45.bmp', '/content/cartoon/bart46.bmp', '/content/cartoon/bart47.bmp', '/content/cartoon/bart48.bmp', '/content/cartoon/bart49.bmp', '/content/cartoon/bart5.bmp', '/content/cartoon/bart50.bmp', '/content/cartoon/bart51.bmp', '/content/cartoon/bart52.bmp', '/content/cartoon/bart53.bmp', '/content/cartoon/bart54.bmp', '/content/cartoon/bart55.bmp', '/content/cartoon/bart56.bmp', '/content/cartoon/bart57.bmp', '/content/cartoon/bart58.bmp', '/content/cartoon/bart59.bmp', '/content/cartoon/bart6.bmp', '/content/cartoon/bart60.bmp', '/content/cartoon/bart61.bmp', '/content/cartoon/bart62.bmp', '/content/cartoon/bart63.bmp', '/content/cartoon/bart64.bmp', '/content/cartoon/bart65.bmp', '/content/cartoon/bart66.bmp', '/content/cartoon/bart67.bmp', '/content/cartoon/bart68.bmp', '/content/cartoon/bart69.bmp', '/content/cartoon/bart7.bmp', '/content/cartoon/bart70.bmp', '/content/cartoon/bart71.bmp', '/content/cartoon/bart72.bmp', '/content/cartoon/bart73.bmp', '/content/cartoon/bart74.bmp', '/content/cartoon/bart75.bmp', '/content/cartoon/bart76.bmp', '/content/cartoon/bart77.bmp', '/content/cartoon/bart79.bmp', '/content/cartoon/bart8.bmp', '/content/cartoon/bart80.bmp', '/content/cartoon/bart81.bmp', '/content/cartoon/bart82.bmp', '/content/cartoon/bart83.bmp', '/content/cartoon/bart84.bmp', '/content/cartoon/bart85.bmp', '/content/cartoon/bart86.bmp', '/content/cartoon/bart87.bmp', '/content/cartoon/bart89.bmp', '/content/cartoon/bart9.bmp', '/content/cartoon/bart90.bmp', '/content/cartoon/bart91.bmp', '/content/cartoon/bart92.bmp', '/content/cartoon/bart93.bmp', '/content/cartoon/bart94.bmp', '/content/cartoon/bart95.bmp', '/content/cartoon/bart96.bmp', '/content/cartoon/bart97.bmp', '/content/cartoon/bart98.bmp', '/content/cartoon/bart99.bmp', '/content/cartoon/homer1.bmp', '/content/cartoon/homer10.bmp', '/content/cartoon/homer100.bmp', '/content/cartoon/homer101.bmp', '/content/cartoon/homer102.bmp', '/content/cartoon/homer103.bmp', '/content/cartoon/homer104.bmp', '/content/cartoon/homer105.bmp', '/content/cartoon/homer106.bmp', '/content/cartoon/homer107.bmp', '/content/cartoon/homer109.bmp', '/content/cartoon/homer110.bmp', '/content/cartoon/homer112.bmp', '/content/cartoon/homer113.bmp', '/content/cartoon/homer115.bmp', '/content/cartoon/homer116.bmp', '/content/cartoon/homer117.bmp', '/content/cartoon/homer119.bmp', '/content/cartoon/homer120.bmp', '/content/cartoon/homer121.bmp', '/content/cartoon/homer122.bmp', '/content/cartoon/homer123.bmp', '/content/cartoon/homer124.bmp', '/content/cartoon/homer13.bmp', '/content/cartoon/homer14.bmp', '/content/cartoon/homer15.bmp', '/content/cartoon/homer16.bmp', '/content/cartoon/homer17.bmp', '/content/cartoon/homer18.bmp', '/content/cartoon/homer2.bmp', '/content/cartoon/homer20.bmp', '/content/cartoon/homer21.bmp', '/content/cartoon/homer22.bmp', '/content/cartoon/homer23.bmp', '/content/cartoon/homer24.bmp', '/content/cartoon/homer26.bmp', '/content/cartoon/homer27.bmp', '/content/cartoon/homer28.bmp', '/content/cartoon/homer29.bmp', '/content/cartoon/homer3.bmp', '/content/cartoon/homer30.bmp', '/content/cartoon/homer31.bmp', '/content/cartoon/homer32.bmp', '/content/cartoon/homer33.bmp', '/content/cartoon/homer34.bmp', '/content/cartoon/homer35.bmp', '/content/cartoon/homer36.bmp', '/content/cartoon/homer37.bmp', '/content/cartoon/homer38.bmp', '/content/cartoon/homer4.bmp', '/content/cartoon/homer40.bmp', '/content/cartoon/homer41.bmp', '/content/cartoon/homer43.bmp', '/content/cartoon/homer44.bmp', '/content/cartoon/homer45.bmp', '/content/cartoon/homer46.bmp', '/content/cartoon/homer47.bmp', '/content/cartoon/homer48.bmp', '/content/cartoon/homer49.bmp', '/content/cartoon/homer5.bmp', '/content/cartoon/homer50.bmp', '/content/cartoon/homer51.bmp', '/content/cartoon/homer52.bmp', '/content/cartoon/homer54.bmp', '/content/cartoon/homer55.bmp', '/content/cartoon/homer56.bmp', '/content/cartoon/homer57.bmp', '/content/cartoon/homer58.bmp', '/content/cartoon/homer59.bmp', '/content/cartoon/homer6.bmp', '/content/cartoon/homer60.bmp', '/content/cartoon/homer61.bmp', '/content/cartoon/homer62.bmp', '/content/cartoon/homer63.bmp', '/content/cartoon/homer65.bmp', '/content/cartoon/homer66.bmp', '/content/cartoon/homer68.bmp', '/content/cartoon/homer69.bmp', '/content/cartoon/homer7.bmp', '/content/cartoon/homer70.bmp', '/content/cartoon/homer71.bmp', '/content/cartoon/homer72.bmp', '/content/cartoon/homer73.bmp', '/content/cartoon/homer74.bmp', '/content/cartoon/homer75.bmp', '/content/cartoon/homer76.bmp', '/content/cartoon/homer77.bmp', '/content/cartoon/homer78.bmp', '/content/cartoon/homer79.bmp', '/content/cartoon/homer8.bmp', '/content/cartoon/homer80.bmp', '/content/cartoon/homer81.bmp', '/content/cartoon/homer82.bmp', '/content/cartoon/homer83.bmp', '/content/cartoon/homer84.bmp', '/content/cartoon/homer85.bmp', '/content/cartoon/homer86.bmp', '/content/cartoon/homer87.bmp', '/content/cartoon/homer9.bmp', '/content/cartoon/homer90.bmp', '/content/cartoon/homer91.bmp', '/content/cartoon/homer92.bmp', '/content/cartoon/homer93.bmp', '/content/cartoon/homer94.bmp', '/content/cartoon/homer95.bmp', '/content/cartoon/homer96.bmp', '/content/cartoon/homer97.bmp', '/content/cartoon/homer98.bmp', '/content/cartoon/homer99.bmp']\n"
          ]
        }
      ]
    },
    {
      "cell_type": "code",
      "metadata": {
        "id": "69-wgt0ktwdW"
      },
      "source": [
        "## Homer --> mouth,pants,shoes,tshirt and Bart--> shorts,sneakers,class\n",
        "export = 'mouth,pants,shoes,tshirt,shorts,sneakers,class\\n'"
      ],
      "execution_count": 8,
      "outputs": []
    },
    {
      "cell_type": "code",
      "metadata": {
        "id": "bVeUDDZLuWBp"
      },
      "source": [
        "show_images = False\n",
        "features = []"
      ],
      "execution_count": 9,
      "outputs": []
    },
    {
      "cell_type": "code",
      "source": [
        "for image_path in files:\n",
        "  print(image_path)"
      ],
      "metadata": {
        "colab": {
          "base_uri": "https://localhost:8080/"
        },
        "id": "Z-rMvJMBseSD",
        "outputId": "7623cf50-1557-428a-d8a2-3bbb7fcdedab"
      },
      "execution_count": 10,
      "outputs": [
        {
          "output_type": "stream",
          "name": "stdout",
          "text": [
            "/content/cartoon/.DS_Store\n",
            "/content/cartoon/bart1.bmp\n",
            "/content/cartoon/bart10.bmp\n",
            "/content/cartoon/bart100.bmp\n",
            "/content/cartoon/bart101.bmp\n",
            "/content/cartoon/bart102.bmp\n",
            "/content/cartoon/bart103.bmp\n",
            "/content/cartoon/bart104.bmp\n",
            "/content/cartoon/bart105.bmp\n",
            "/content/cartoon/bart106.bmp\n",
            "/content/cartoon/bart108.bmp\n",
            "/content/cartoon/bart109.bmp\n",
            "/content/cartoon/bart11.bmp\n",
            "/content/cartoon/bart110.bmp\n",
            "/content/cartoon/bart111.bmp\n",
            "/content/cartoon/bart112.bmp\n",
            "/content/cartoon/bart113.bmp\n",
            "/content/cartoon/bart114.bmp\n",
            "/content/cartoon/bart115.bmp\n",
            "/content/cartoon/bart116.bmp\n",
            "/content/cartoon/bart117.bmp\n",
            "/content/cartoon/bart118.bmp\n",
            "/content/cartoon/bart119.bmp\n",
            "/content/cartoon/bart12.bmp\n",
            "/content/cartoon/bart120.bmp\n",
            "/content/cartoon/bart121.bmp\n",
            "/content/cartoon/bart122.bmp\n",
            "/content/cartoon/bart123.bmp\n",
            "/content/cartoon/bart124.bmp\n",
            "/content/cartoon/bart125.bmp\n",
            "/content/cartoon/bart126.bmp\n",
            "/content/cartoon/bart127.bmp\n",
            "/content/cartoon/bart128.bmp\n",
            "/content/cartoon/bart13.bmp\n",
            "/content/cartoon/bart130.bmp\n",
            "/content/cartoon/bart131.bmp\n",
            "/content/cartoon/bart132.bmp\n",
            "/content/cartoon/bart133.bmp\n",
            "/content/cartoon/bart134.bmp\n",
            "/content/cartoon/bart135.bmp\n",
            "/content/cartoon/bart136.bmp\n",
            "/content/cartoon/bart137.bmp\n",
            "/content/cartoon/bart138.bmp\n",
            "/content/cartoon/bart139.bmp\n",
            "/content/cartoon/bart14.bmp\n",
            "/content/cartoon/bart141.bmp\n",
            "/content/cartoon/bart142.bmp\n",
            "/content/cartoon/bart143.bmp\n",
            "/content/cartoon/bart144.bmp\n",
            "/content/cartoon/bart145.bmp\n",
            "/content/cartoon/bart146.bmp\n",
            "/content/cartoon/bart147.bmp\n",
            "/content/cartoon/bart148.bmp\n",
            "/content/cartoon/bart149.bmp\n",
            "/content/cartoon/bart15.bmp\n",
            "/content/cartoon/bart150.bmp\n",
            "/content/cartoon/bart151.bmp\n",
            "/content/cartoon/bart153.bmp\n",
            "/content/cartoon/bart154.bmp\n",
            "/content/cartoon/bart155.bmp\n",
            "/content/cartoon/bart156.bmp\n",
            "/content/cartoon/bart157.bmp\n",
            "/content/cartoon/bart158.bmp\n",
            "/content/cartoon/bart159.bmp\n",
            "/content/cartoon/bart16.bmp\n",
            "/content/cartoon/bart160.bmp\n",
            "/content/cartoon/bart161.bmp\n",
            "/content/cartoon/bart162.bmp\n",
            "/content/cartoon/bart164.bmp\n",
            "/content/cartoon/bart165.bmp\n",
            "/content/cartoon/bart166.bmp\n",
            "/content/cartoon/bart167.bmp\n",
            "/content/cartoon/bart168.bmp\n",
            "/content/cartoon/bart169.bmp\n",
            "/content/cartoon/bart17.bmp\n",
            "/content/cartoon/bart18.bmp\n",
            "/content/cartoon/bart19.bmp\n",
            "/content/cartoon/bart2.bmp\n",
            "/content/cartoon/bart20.bmp\n",
            "/content/cartoon/bart21.bmp\n",
            "/content/cartoon/bart22.bmp\n",
            "/content/cartoon/bart23.bmp\n",
            "/content/cartoon/bart24.bmp\n",
            "/content/cartoon/bart25.bmp\n",
            "/content/cartoon/bart26.bmp\n",
            "/content/cartoon/bart27.bmp\n",
            "/content/cartoon/bart28.bmp\n",
            "/content/cartoon/bart29.bmp\n",
            "/content/cartoon/bart3.bmp\n",
            "/content/cartoon/bart30.bmp\n",
            "/content/cartoon/bart31.bmp\n",
            "/content/cartoon/bart32.bmp\n",
            "/content/cartoon/bart34.bmp\n",
            "/content/cartoon/bart35.bmp\n",
            "/content/cartoon/bart36.bmp\n",
            "/content/cartoon/bart37.bmp\n",
            "/content/cartoon/bart38.bmp\n",
            "/content/cartoon/bart39.bmp\n",
            "/content/cartoon/bart4.bmp\n",
            "/content/cartoon/bart40.bmp\n",
            "/content/cartoon/bart42.bmp\n",
            "/content/cartoon/bart43.bmp\n",
            "/content/cartoon/bart44.bmp\n",
            "/content/cartoon/bart45.bmp\n",
            "/content/cartoon/bart46.bmp\n",
            "/content/cartoon/bart47.bmp\n",
            "/content/cartoon/bart48.bmp\n",
            "/content/cartoon/bart49.bmp\n",
            "/content/cartoon/bart5.bmp\n",
            "/content/cartoon/bart50.bmp\n",
            "/content/cartoon/bart51.bmp\n",
            "/content/cartoon/bart52.bmp\n",
            "/content/cartoon/bart53.bmp\n",
            "/content/cartoon/bart54.bmp\n",
            "/content/cartoon/bart55.bmp\n",
            "/content/cartoon/bart56.bmp\n",
            "/content/cartoon/bart57.bmp\n",
            "/content/cartoon/bart58.bmp\n",
            "/content/cartoon/bart59.bmp\n",
            "/content/cartoon/bart6.bmp\n",
            "/content/cartoon/bart60.bmp\n",
            "/content/cartoon/bart61.bmp\n",
            "/content/cartoon/bart62.bmp\n",
            "/content/cartoon/bart63.bmp\n",
            "/content/cartoon/bart64.bmp\n",
            "/content/cartoon/bart65.bmp\n",
            "/content/cartoon/bart66.bmp\n",
            "/content/cartoon/bart67.bmp\n",
            "/content/cartoon/bart68.bmp\n",
            "/content/cartoon/bart69.bmp\n",
            "/content/cartoon/bart7.bmp\n",
            "/content/cartoon/bart70.bmp\n",
            "/content/cartoon/bart71.bmp\n",
            "/content/cartoon/bart72.bmp\n",
            "/content/cartoon/bart73.bmp\n",
            "/content/cartoon/bart74.bmp\n",
            "/content/cartoon/bart75.bmp\n",
            "/content/cartoon/bart76.bmp\n",
            "/content/cartoon/bart77.bmp\n",
            "/content/cartoon/bart79.bmp\n",
            "/content/cartoon/bart8.bmp\n",
            "/content/cartoon/bart80.bmp\n",
            "/content/cartoon/bart81.bmp\n",
            "/content/cartoon/bart82.bmp\n",
            "/content/cartoon/bart83.bmp\n",
            "/content/cartoon/bart84.bmp\n",
            "/content/cartoon/bart85.bmp\n",
            "/content/cartoon/bart86.bmp\n",
            "/content/cartoon/bart87.bmp\n",
            "/content/cartoon/bart89.bmp\n",
            "/content/cartoon/bart9.bmp\n",
            "/content/cartoon/bart90.bmp\n",
            "/content/cartoon/bart91.bmp\n",
            "/content/cartoon/bart92.bmp\n",
            "/content/cartoon/bart93.bmp\n",
            "/content/cartoon/bart94.bmp\n",
            "/content/cartoon/bart95.bmp\n",
            "/content/cartoon/bart96.bmp\n",
            "/content/cartoon/bart97.bmp\n",
            "/content/cartoon/bart98.bmp\n",
            "/content/cartoon/bart99.bmp\n",
            "/content/cartoon/homer1.bmp\n",
            "/content/cartoon/homer10.bmp\n",
            "/content/cartoon/homer100.bmp\n",
            "/content/cartoon/homer101.bmp\n",
            "/content/cartoon/homer102.bmp\n",
            "/content/cartoon/homer103.bmp\n",
            "/content/cartoon/homer104.bmp\n",
            "/content/cartoon/homer105.bmp\n",
            "/content/cartoon/homer106.bmp\n",
            "/content/cartoon/homer107.bmp\n",
            "/content/cartoon/homer109.bmp\n",
            "/content/cartoon/homer110.bmp\n",
            "/content/cartoon/homer112.bmp\n",
            "/content/cartoon/homer113.bmp\n",
            "/content/cartoon/homer115.bmp\n",
            "/content/cartoon/homer116.bmp\n",
            "/content/cartoon/homer117.bmp\n",
            "/content/cartoon/homer119.bmp\n",
            "/content/cartoon/homer120.bmp\n",
            "/content/cartoon/homer121.bmp\n",
            "/content/cartoon/homer122.bmp\n",
            "/content/cartoon/homer123.bmp\n",
            "/content/cartoon/homer124.bmp\n",
            "/content/cartoon/homer13.bmp\n",
            "/content/cartoon/homer14.bmp\n",
            "/content/cartoon/homer15.bmp\n",
            "/content/cartoon/homer16.bmp\n",
            "/content/cartoon/homer17.bmp\n",
            "/content/cartoon/homer18.bmp\n",
            "/content/cartoon/homer2.bmp\n",
            "/content/cartoon/homer20.bmp\n",
            "/content/cartoon/homer21.bmp\n",
            "/content/cartoon/homer22.bmp\n",
            "/content/cartoon/homer23.bmp\n",
            "/content/cartoon/homer24.bmp\n",
            "/content/cartoon/homer26.bmp\n",
            "/content/cartoon/homer27.bmp\n",
            "/content/cartoon/homer28.bmp\n",
            "/content/cartoon/homer29.bmp\n",
            "/content/cartoon/homer3.bmp\n",
            "/content/cartoon/homer30.bmp\n",
            "/content/cartoon/homer31.bmp\n",
            "/content/cartoon/homer32.bmp\n",
            "/content/cartoon/homer33.bmp\n",
            "/content/cartoon/homer34.bmp\n",
            "/content/cartoon/homer35.bmp\n",
            "/content/cartoon/homer36.bmp\n",
            "/content/cartoon/homer37.bmp\n",
            "/content/cartoon/homer38.bmp\n",
            "/content/cartoon/homer4.bmp\n",
            "/content/cartoon/homer40.bmp\n",
            "/content/cartoon/homer41.bmp\n",
            "/content/cartoon/homer43.bmp\n",
            "/content/cartoon/homer44.bmp\n",
            "/content/cartoon/homer45.bmp\n",
            "/content/cartoon/homer46.bmp\n",
            "/content/cartoon/homer47.bmp\n",
            "/content/cartoon/homer48.bmp\n",
            "/content/cartoon/homer49.bmp\n",
            "/content/cartoon/homer5.bmp\n",
            "/content/cartoon/homer50.bmp\n",
            "/content/cartoon/homer51.bmp\n",
            "/content/cartoon/homer52.bmp\n",
            "/content/cartoon/homer54.bmp\n",
            "/content/cartoon/homer55.bmp\n",
            "/content/cartoon/homer56.bmp\n",
            "/content/cartoon/homer57.bmp\n",
            "/content/cartoon/homer58.bmp\n",
            "/content/cartoon/homer59.bmp\n",
            "/content/cartoon/homer6.bmp\n",
            "/content/cartoon/homer60.bmp\n",
            "/content/cartoon/homer61.bmp\n",
            "/content/cartoon/homer62.bmp\n",
            "/content/cartoon/homer63.bmp\n",
            "/content/cartoon/homer65.bmp\n",
            "/content/cartoon/homer66.bmp\n",
            "/content/cartoon/homer68.bmp\n",
            "/content/cartoon/homer69.bmp\n",
            "/content/cartoon/homer7.bmp\n",
            "/content/cartoon/homer70.bmp\n",
            "/content/cartoon/homer71.bmp\n",
            "/content/cartoon/homer72.bmp\n",
            "/content/cartoon/homer73.bmp\n",
            "/content/cartoon/homer74.bmp\n",
            "/content/cartoon/homer75.bmp\n",
            "/content/cartoon/homer76.bmp\n",
            "/content/cartoon/homer77.bmp\n",
            "/content/cartoon/homer78.bmp\n",
            "/content/cartoon/homer79.bmp\n",
            "/content/cartoon/homer8.bmp\n",
            "/content/cartoon/homer80.bmp\n",
            "/content/cartoon/homer81.bmp\n",
            "/content/cartoon/homer82.bmp\n",
            "/content/cartoon/homer83.bmp\n",
            "/content/cartoon/homer84.bmp\n",
            "/content/cartoon/homer85.bmp\n",
            "/content/cartoon/homer86.bmp\n",
            "/content/cartoon/homer87.bmp\n",
            "/content/cartoon/homer9.bmp\n",
            "/content/cartoon/homer90.bmp\n",
            "/content/cartoon/homer91.bmp\n",
            "/content/cartoon/homer92.bmp\n",
            "/content/cartoon/homer93.bmp\n",
            "/content/cartoon/homer94.bmp\n",
            "/content/cartoon/homer95.bmp\n",
            "/content/cartoon/homer96.bmp\n",
            "/content/cartoon/homer97.bmp\n",
            "/content/cartoon/homer98.bmp\n",
            "/content/cartoon/homer99.bmp\n"
          ]
        }
      ]
    },
    {
      "cell_type": "code",
      "metadata": {
        "colab": {
          "base_uri": "https://localhost:8080/"
        },
        "id": "d-56x6BF2ltX",
        "outputId": "707182b0-25df-4267-d8b0-ff93e0ac80ec"
      },
      "source": [
        "100 * 200"
      ],
      "execution_count": null,
      "outputs": [
        {
          "output_type": "execute_result",
          "data": {
            "text/plain": [
              "20000"
            ]
          },
          "metadata": {
            "tags": []
          },
          "execution_count": 9
        }
      ]
    },
    {
      "cell_type": "code",
      "metadata": {
        "colab": {
          "base_uri": "https://localhost:8080/"
        },
        "id": "rw3FCI832rZ6",
        "outputId": "454866de-d0c8-450f-da03-8a2e5956e8a2"
      },
      "source": [
        "(2000 / 20000) * 100"
      ],
      "execution_count": null,
      "outputs": [
        {
          "output_type": "execute_result",
          "data": {
            "text/plain": [
              "10.0"
            ]
          },
          "metadata": {
            "tags": []
          },
          "execution_count": 11
        }
      ]
    },
    {
      "cell_type": "code",
      "metadata": {
        "colab": {
          "base_uri": "https://localhost:8080/"
        },
        "id": "Kqtkg7217lRs",
        "outputId": "2af4bac9-eb44-46ac-dcc5-7b166ec5fdfb"
      },
      "source": [
        "100 / 2"
      ],
      "execution_count": null,
      "outputs": [
        {
          "output_type": "execute_result",
          "data": {
            "text/plain": [
              "50.0"
            ]
          },
          "metadata": {
            "tags": []
          },
          "execution_count": 16
        }
      ]
    },
    {
      "cell_type": "code",
      "metadata": {
        "id": "Ob_iiVISuebX"
      },
      "source": [
        "for image_path in files:\n",
        "  #print(image_path)\n",
        "  try:\n",
        "    original_image = cv2.imread(image_path)\n",
        "    (H, W) = original_image.shape[:2]\n",
        "  except:\n",
        "    continue\n",
        "\n",
        "  image = original_image.copy()\n",
        "  image_features = []\n",
        "  mouth = pants = shoes = 0\n",
        "  tshirt = shorts = sneakers = 0\n",
        "\n",
        "  image_name = os.path.basename(os.path.normpath(image_path))\n",
        "\n",
        "  if image_name.startswith('b'):\n",
        "    class_name = 0\n",
        "  else:\n",
        "    class_name = 1\n",
        "\n",
        "  for height in range(0, H):\n",
        "    for width in range(0, W):\n",
        "      blue = image.item(height, width, 0)\n",
        "      green = image.item(height, width, 1)\n",
        "      red = image.item(height, width, 2)\n",
        "\n",
        "      # Homer - brown mouth\n",
        "      if (blue >= 95 and blue <= 140 and green >= 160 and green <= 185 and red >= 175 and red <= 200):\n",
        "        image[height, width] = [0, 255, 255]\n",
        "        mouth += 1\n",
        "\n",
        "      # Homer - blue pants\n",
        "      if (blue >= 150 and blue <= 180 and green >= 98 and green <= 120 and red >= 0 and red <= 90):\n",
        "        image[height, width] = [0, 255, 255]\n",
        "        pants += 1\n",
        "\n",
        "      # Homer - gray shoes\n",
        "      if height > (H / 2):\n",
        "        if (blue >= 25 and blue <= 45 and green >= 25 and green <= 45 and red >= 25 and red <= 45):\n",
        "          image[height, width] = [0, 255, 255]\n",
        "          shoes += 1\n",
        "\n",
        "      # Bart - orange t-shirt\n",
        "      if (blue >= 11 and blue <= 22 and green >= 85 and green <= 105 and red >= 240 and red <= 255):\n",
        "        image[height, width] = [0, 255, 128]\n",
        "        tshirt += 1\n",
        "\n",
        "      # Bart - blue shorts\n",
        "      if (blue >= 125 and blue <= 170 and green >= 0 and green <= 12 and red >= 0 and red <= 20):\n",
        "        image[height, width] = [0, 255, 128]\n",
        "        shorts += 1\n",
        "\n",
        "      # Bart - blue sneakers\n",
        "      if height > (H / 2):\n",
        "        if (blue >= 125 and blue <= 170 and green >= 0 and green <= 12 and red >= 0 and red <= 20):\n",
        "          image[height, width] = [0, 255, 128]\n",
        "          sneakers += 1\n",
        "\n",
        "  mouth = round((mouth / (H * W)) * 100, 9)\n",
        "  pants = round((pants / (H * W)) * 100, 9)\n",
        "  shoes = round((shoes / (H * W)) * 100, 9)\n",
        "\n",
        "  tshirt = round((tshirt / (H * W)) * 100, 9)\n",
        "  shorts = round((shorts / (H * W)) * 100, 9)\n",
        "  sneakers = round((sneakers / (H * W)) * 100, 9)\n",
        "\n",
        "  image_features.append(mouth)\n",
        "  image_features.append(pants)\n",
        "  image_features.append(shoes)\n",
        "  image_features.append(tshirt)\n",
        "  image_features.append(shorts)\n",
        "  image_features.append(sneakers)\n",
        "  image_features.append(class_name)\n",
        "\n",
        "  features.append(image_features)\n",
        "\n",
        "  #print('Homer mouth: %s - Homer pants: %s - Homer shoes: %s' % (image_features[0], image_features[1], image_features[2]))\n",
        "  #print('Bart t-shirt: %s - Bart shorts: %s - Bart sneakers: %s' % (image_features[3], image_features[4], image_features[5]))\n",
        "\n",
        "  f = (\",\".join([str(item) for item in image_features]))\n",
        "  export += f + '\\n'\n",
        "\n",
        "  if show_images == True:\n",
        "    image = cv2.cvtColor(image, cv2.COLOR_BGR2RGB)\n",
        "    original_image = cv2.cvtColor(original_image, cv2.COLOR_BGR2RGB)\n",
        "    fig, im = plt.subplots(1, 2)\n",
        "    im[0].axis('off')\n",
        "    im[0].imshow(original_image)\n",
        "    im[1].axis('off')\n",
        "    im[1].imshow(image)\n",
        "    plt.show()"
      ],
      "execution_count": 10,
      "outputs": []
    },
    {
      "cell_type": "code",
      "metadata": {
        "colab": {
          "base_uri": "https://localhost:8080/",
          "height": 140
        },
        "id": "qvecTq1nCkI-",
        "outputId": "3128f56d-a351-4d1c-867e-ff377bf60697"
      },
      "source": [
        "export"
      ],
      "execution_count": 11,
      "outputs": [
        {
          "output_type": "execute_result",
          "data": {
            "text/plain": [
              "'mouth,pants,shoes,tshirt,shorts,sneakers,class\\n0.0,0.0,0.114799225,6.886101887,3.495204355,3.495204355,0\\n0.0,0.0,0.11007847,5.004901113,3.183888705,3.183888705,0\\n0.0,0.0,0.182518631,5.264620437,5.029682961,5.029682961,0\\n0.0,0.480168257,0.080028043,0.0,0.0,0.0,0\\n0.0,0.0,0.029707562,8.978929368,3.459119497,3.459119497,0\\n0.0,0.0,0.053304904,6.75432362,0.948827292,0.948827292,0\\n0.249585206,0.0,0.019853369,9.693407263,4.104683977,4.104683977,0\\n0.0,0.0,0.181208054,0.0,0.0,0.0,0\\n0.0,0.0,0.148868778,0.0,0.0,0.0,0\\n0.0,0.0,0.114762211,9.594752524,7.522715548,7.522715548,0\\n0.0,0.0,0.138655462,0.0,0.0,0.0,0\\n0.0,0.0,0.02400947,19.545383481,0.0,0.0,0\\n0.00307645,0.0,0.0,6.495154592,5.599138594,5.599138594,0\\n0.001317263,0.0,0.087817515,0.0,0.0,0.0,0\\n0.0,0.0,0.032184591,8.395721925,0.0,0.0,0\\n0.02105732,0.0,0.008503918,8.915750471,0.0,0.0,0\\n0.0,0.0,0.081055114,11.095816228,4.525111363,4.525111363,0\\n0.0,0.0,0.08757526,10.443349754,3.183296307,3.183296307,0\\n0.0,0.0,0.043806812,9.497408097,0.0,0.0,0\\n0.0,0.0,0.141247989,4.750581083,3.600482746,3.600482746,0\\n0.0,0.010463297,0.391691233,7.430305346,0.0,0.0,0\\n0.0,0.0,0.145441759,12.530766526,2.373417722,2.373417722,0\\n0.0,0.0,0.298828743,11.88730611,6.866729978,6.866729978,0\\n0.0,0.0,0.110318564,2.206749078,3.37340567,0.0,0\\n0.0,0.0,0.083622139,0.0,0.0,0.0,0\\n0.0,0.0,0.069784112,9.781371226,6.301652893,6.301652893,0\\n0.0,0.0,0.088388486,4.322113293,5.937642899,5.937642899,0\\n0.0,0.0,0.144211187,0.0,0.0,0.0,0\\n0.07,0.0,0.344285714,0.0,0.0,0.0,0\\n0.0,0.0,0.07980941,11.305241215,7.723942823,7.723942823,0\\n0.0,0.0,0.379403794,0.0,0.0,0.0,0\\n0.0,0.0,0.090175198,11.35992786,0.0,0.0,0\\n0.0,0.0,0.084393721,5.738773012,3.398924308,3.398924308,0\\n0.0,0.0,0.162677013,5.02834647,0.0,0.0,0\\n0.0,0.0,0.050130084,0.0,2.312329463,1.435370265,0\\n0.000832432,0.0,0.198951136,16.896695247,1.144593357,1.144593357,0\\n0.0,0.0,0.108054523,13.608921933,0.269640644,0.269640644,0\\n0.057218819,0.0,0.082649405,7.449427812,0.0,0.0,0\\n0.0,0.0,0.065466448,7.435477779,1.739896764,1.739896764,0\\n0.0,0.0,0.076230076,3.805959806,2.272349272,2.272349272,0\\n0.0,0.0,0.05304784,4.813762626,5.155285494,5.155285494,0\\n0.0,0.0,0.057656907,10.597756243,0.0,0.0,0\\n0.0,0.0,4.180478037,7.972817519,0.0,0.0,0\\n0.0,0.0,0.166613773,5.126150428,7.112821327,7.112821327,0\\n0.0,0.0,0.108311229,0.0,18.927203065,17.73135868,0\\n0.0,0.0,0.13699873,3.036351539,1.797919313,1.797919313,0\\n0.0,0.0,0.086580087,8.149012446,2.357954545,2.357954545,0\\n0.0,0.0,0.151135698,13.635152613,5.732015094,5.732015094,0\\n0.0,0.0,0.183020488,9.865659541,3.991215017,3.991215017,0\\n0.0,0.0,0.126150813,2.49238361,6.490779573,6.03685943,0\\n0.0,0.0,0.152807573,4.91155038,2.840773658,2.840773658,0\\n0.0,0.0,0.0,1.187012385,1.807232793,1.807232793,0\\n0.0,0.0,0.02433848,8.855312603,0.0,0.0,0\\n2.452787678,0.0,0.068104543,4.658248331,3.879910696,3.879910696,0\\n0.0,0.0,0.0,0.0,0.0,0.0,0\\n0.002290583,0.0,0.0,6.528926251,0.0,0.0,0\\n0.0,0.0,0.056179775,12.13282504,0.0,0.0,0\\n0.000888889,0.0,0.094222222,5.550222222,0.0,0.0,0\\n0.0,0.0,0.0,2.704001299,2.038146254,0.849606363,0\\n0.0,0.0,0.078947368,0.484892788,1.314814815,1.314814815,0\\n0.129449838,0.0,0.220989367,3.006010171,1.178455848,1.178455848,0\\n0.0,0.0,0.0,2.278061846,3.270189108,3.270189108,0\\n0.0,0.0,0.048163557,3.585693763,4.931366932,4.931366932,0\\n0.0,0.0,0.580333855,0.721749478,0.737235915,0.0,0\\n0.0,0.0,0.156095181,4.259996037,4.505419125,4.505419125,0\\n0.0,0.0,0.113855066,9.469978468,5.73372206,5.73372206,0\\n0.0,0.0,0.112589904,5.532449419,7.887174834,7.887174834,0\\n0.0,0.0,0.101010101,10.84387737,0.0,0.0,0\\n0.0,0.0,0.130730051,2.291680815,2.954499151,2.095755518,0\\n0.0,0.0,0.084417626,6.410571154,4.413835877,4.413835877,0\\n0.072235674,0.0,0.0,3.773204197,1.920500404,1.920500404,0\\n0.0,0.0,0.095862315,6.44172463,5.603486713,5.603486713,0\\n0.0,0.079648273,0.713011342,3.013253473,1.752262011,1.752262011,0\\n0.0,0.0,0.077600637,17.164367088,0.0,0.0,0\\n0.0,0.0,0.138044446,0.0,0.0,0.0,0\\n0.256359764,0.0,1.935279188,2.087344653,0.331116168,0.0189626,0\\n0.0,0.0,0.306571323,3.656376567,4.276107978,4.276107978,0\\n0.0,0.0,0.182729644,0.0,0.0,0.0,0\\n0.0,0.035811365,0.081114898,8.256461147,0.0,0.0,0\\n0.0,0.0,0.063650201,0.0,0.0,0.0,0\\n0.0,0.0,0.15935811,8.37577311,7.56728144,7.56728144,0\\n0.0,0.0,0.127103473,6.08575009,0.998925886,0.957303974,0\\n0.0,0.21020082,0.12724967,2.054235286,1.480091724,1.480091724,0\\n0.0,0.0,0.067023482,6.311297555,0.0,0.0,0\\n0.0,0.0,0.089739311,8.347980866,8.240442022,8.240442022,0\\n0.0,0.0,0.06409324,0.0,0.0,0.0,0\\n0.0,0.0,0.059352518,9.928507194,0.0,0.0,0\\n0.620192308,0.0,0.151442308,5.380608974,4.139423077,4.139423077,0\\n0.0,0.020169769,0.169082748,0.0,2.887281029,2.887281029,0\\n0.0,0.022174372,0.075276158,0.0,0.0,0.0,0\\n0.0,0.0,0.088223514,5.356195672,4.325658429,4.325658429,0\\n0.0,0.0,0.036128255,0.0,14.04862261,7.565858799,0\\n4.469270958,0.0,0.048356864,0.0,0.0,0.0,0\\n0.0,0.0,0.515769828,3.451480154,3.807950898,3.313264772,0\\n0.003738178,0.0,0.20746888,0.0,3.104556839,3.104556839,0\\n0.0,0.0,0.119900917,1.333403605,1.42563508,1.42563508,0\\n0.016800478,0.0,0.029723923,3.016978176,2.22412484,2.22412484,0\\n0.0,0.0,0.038138825,9.655055513,0.0,0.0,0\\n0.002855457,0.004283185,0.047115037,10.154480212,0.0,0.0,0\\n0.0,0.0,0.0,4.442616207,1.551764881,1.551764881,0\\n0.0,0.0,0.0,8.667226891,3.921848739,3.921848739,0\\n0.0,0.0,0.0,8.113564866,5.822234048,5.822234048,0\\n0.0,0.0,0.11212159,6.242393461,0.0,0.0,0\\n0.0,0.0,0.594795539,0.0,14.857215275,6.850287259,0\\n0.001554726,0.047419154,0.359919154,0.0,1.773165423,1.773165423,0\\n0.0,0.0,0.12787018,0.000919929,0.025758022,0.022998234,0\\n4.469270958,0.0,0.048356864,0.0,0.0,0.0,0\\n0.0,0.031103271,0.095440175,0.0,0.0,0.0,0\\n0.0,0.0,0.096296296,0.0,0.0,0.0,0\\n0.0,0.0,0.030959752,2.493227554,0.86880805,0.86880805,0\\n0.0,0.0,0.315630575,0.0,0.091487123,0.091487123,0\\n0.082892416,0.0,0.0,8.386243386,5.733686067,5.733686067,0\\n0.028748341,0.0,0.314020345,0.0,0.0,0.0,0\\n0.004464286,0.080357143,0.046875,0.064732143,0.0,0.0,0\\n0.0,0.0,0.162836426,0.0,0.0,0.0,0\\n0.0,0.0,0.047342881,0.0,0.0,0.0,0\\n0.002855457,0.004283185,0.047115037,10.154480212,0.0,0.0,0\\n0.0,0.0,0.0,11.901625849,0.436989778,0.436989778,0\\n0.0,0.0,0.06820873,0.0,7.009674726,7.009674726,0\\n0.0,0.0,0.0,2.423072216,3.600614606,1.095957467,0\\n0.0,0.0,0.048370171,0.0,0.0,0.0,0\\n0.046402056,0.0,0.0,0.0,0.0,0.0,0\\n0.0,0.0,0.125109894,0.0,0.0,0.0,0\\n0.0,0.0,0.495459566,12.964780955,0.997054853,0.026076819,0\\n0.024496995,0.0,0.169029266,3.695779984,0.013065064,0.004082833,0\\n0.126262626,0.0,0.089031339,0.178062678,0.0,0.0,0\\n0.0,0.0,0.342702852,4.158589495,1.07887935,1.07887935,0\\n0.0,0.0,0.009876543,0.540740741,3.417283951,3.417283951,0\\n0.0,0.0,0.093454492,7.286125887,5.362736407,5.362736407,0\\n0.001013274,0.061809707,0.194548586,4.348971527,4.550613031,4.550613031,0\\n0.0,0.0,0.069741492,12.124170851,0.0,0.0,0\\n0.0,0.0,0.173299101,8.090500642,0.118741977,0.118741977,0\\n0.0,0.0,0.562080987,2.018771789,0.0,0.0,0\\n0.0,0.0,0.0,8.474266319,5.609766802,5.609766802,0\\n0.0,0.076864807,0.0,0.0,0.0,0.0,0\\n0.0,0.0,0.366119137,3.460815357,0.0,0.0,0\\n0.0,0.0,0.235437937,10.429447853,0.0,0.0,0\\n0.0,0.0,0.694371751,0.0,0.0,0.0,0\\n0.039284559,0.0,0.233396497,8.228959652,6.133012895,6.133012895,0\\n0.0,0.0,0.101015515,5.829625995,2.764938958,2.764938958,0\\n0.0,0.0,0.1,0.0,0.0,0.0,0\\n0.0,0.0,0.140763817,1.193031037,0.0,0.0,0\\n0.0,0.0,0.137115161,4.095916838,0.0,0.0,0\\n0.0,0.0,0.076660132,9.58125974,6.173025687,6.173025687,0\\n0.0,0.0,0.101961416,2.589283319,0.0,0.0,0\\n0.0,0.0,0.32228575,4.400440044,0.0,0.0,0\\n0.0,0.0,0.49909064,6.990894315,4.090005498,4.090005498,0\\n0.0,0.0,0.122647849,0.0,0.0,0.0,0\\n0.0,0.0,0.145933977,0.0,0.0,0.0,0\\n0.0,0.0,0.179773057,7.88857369,5.175484892,5.175484892,0\\n0.0,0.0,0.024805103,0.0,0.0,0.0,0\\n0.0,0.0,0.159848485,0.0,0.0,0.0,0\\n0.002906977,0.0,0.149418605,6.029651163,0.0,0.0,0\\n0.0,0.0,0.701011074,3.420959718,0.0,0.0,0\\n0.0,0.0,0.3986195,0.0,0.0,0.0,0\\n0.006931208,0.0,0.072777682,0.0,0.0,0.0,0\\n0.001619433,0.0,0.136842105,9.861538462,8.660728745,8.660728745,0\\n0.0,0.0,0.058479532,4.980506823,0.072124756,0.0,0\\n0.0,0.0,0.167883747,9.668452534,1.034365711,1.034365711,0\\n0.0,0.0,0.041262818,10.734478157,5.981352718,5.981352718,0\\n0.979401078,16.958948664,2.404184248,2.48769339,0.0,0.0,1\\n0.058665773,15.566543748,0.64867583,0.0,0.0,0.0,1\\n1.829063147,14.074792961,2.1875,0.0,0.0,0.0,1\\n2.804717308,0.152271939,0.107180021,0.0,0.0,0.0,1\\n2.510348847,0.0,0.133630737,0.0,0.0,0.0,1\\n0.0,0.0,0.222503718,0.0,0.0,0.0,1\\n6.507196996,0.0,0.175231208,0.0,0.0,0.0,1\\n4.677915738,0.0,0.293961583,0.0,0.0,0.0,1\\n3.118380316,0.0,0.300431807,0.0,0.0,0.0,1\\n4.06671025,0.0,0.150645216,0.0,0.0,0.0,1\\n0.0,0.0,1.19478171,0.0,0.0,0.0,1\\n3.195100354,0.0,0.380755608,0.0,0.0,0.0,1\\n0.355610904,7.673539043,0.158664268,0.275356303,0.0,0.0,1\\n0.663501119,4.680165379,0.034754821,0.0,0.0,0.0,1\\n0.501514993,5.802685195,2.626423571,0.0,0.0,0.0,1\\n1.448672089,3.566102811,0.060380396,0.0,0.0,0.0,1\\n0.858062038,0.0,0.229520791,0.0,0.0,0.0,1\\n2.046468542,4.588248639,0.060496068,0.0,0.0,0.0,1\\n5.3241237,0.0,0.083744238,0.0,0.0,0.0,1\\n3.059849386,21.512485137,4.97238737,0.0,0.0,0.0,1\\n1.87017211,19.164520938,1.432443421,0.0,0.0,0.0,1\\n1.181676162,6.996385642,0.0,0.0,0.0,0.0,1\\n1.657903494,0.0,0.071214642,0.0,0.0,0.0,1\\n1.375206612,14.950413223,1.574380165,0.0,0.0,0.0,1\\n2.107477925,32.308912804,0.172461369,0.0,0.0,0.0,1\\n0.480936756,0.0,0.095098438,0.0,0.0,0.0,1\\n1.405737574,0.084906762,0.102418781,0.0,0.0,0.0,1\\n1.429483853,0.0,0.112570356,0.0,0.0,0.0,1\\n1.623553703,13.843546691,1.437531653,0.0,0.0,0.0,1\\n4.966005609,0.0,0.10440414,0.0,0.0,0.0,1\\n1.365418968,12.872923639,1.497854342,0.0,0.0,0.0,1\\n1.475956065,10.607126113,0.0,0.0,0.0,0.0,1\\n2.580283794,13.434466019,1.690627334,0.0,0.0,0.0,1\\n1.208582988,13.390433758,1.592026425,0.0,0.0,0.0,1\\n0.308702684,9.513506425,0.713021243,0.0,0.0,0.0,1\\n2.111849548,0.273614253,0.134332579,0.0,0.0,0.0,1\\n0.312468394,0.187906888,0.0,0.0,0.0,0.0,1\\n1.699590092,3.907748997,0.0,0.0,0.0,0.0,1\\n1.261645963,0.046760305,0.044995765,0.0,0.0,0.0,1\\n4.183953033,0.0,0.129158513,0.0,0.0,0.0,1\\n0.307761177,16.612575308,0.0,0.0,0.0,0.0,1\\n7.688952498,0.0,0.069515437,0.0,0.0,0.0,1\\n0.0,0.063628651,0.0,0.0,0.0,0.0,1\\n0.0,0.039908211,0.633542851,0.0,0.0,0.0,1\\n0.0,0.024797844,0.201617251,0.0,0.0,0.0,1\\n0.092525727,0.178281278,0.146687128,0.0,0.0,0.0,1\\n0.028179839,11.469194313,0.174202639,0.0,0.0,0.0,1\\n0.491803279,0.0,0.195081967,0.0,0.0,0.0,1\\n0.191131498,0.0,0.076452599,0.0,0.0,0.0,1\\n1.085376162,8.202874049,0.22541561,0.0,0.0,0.0,1\\n0.138848864,7.372088758,0.192554557,0.0,0.0,0.0,1\\n0.078528726,8.650825818,0.196321816,0.525635829,0.0,0.0,1\\n0.070499893,9.101044382,0.226255472,0.0,0.0,0.0,1\\n0.018296095,0.0,0.128072668,0.0,0.0,0.0,1\\n0.072990481,0.0,0.0304127,0.0,0.0,0.0,1\\n0.039355119,0.0,0.176419498,0.0,0.0,0.0,1\\n0.028068487,0.0,0.0,0.0,0.0,0.0,1\\n1.207367796,0.007130125,0.411170529,0.0,0.0,0.0,1\\n0.0,0.0,0.195828012,0.0,0.0,0.0,1\\n0.660317686,0.0,0.0,0.0,0.0,0.0,1\\n0.0,0.155041727,0.140366996,0.0,0.0,0.0,1\\n0.058665773,15.566543748,0.64867583,0.0,0.0,0.0,1\\n0.058696928,0.052827235,0.138916063,0.0,0.0,0.0,1\\n0.516451479,0.00666389,0.0,0.0,0.0,0.0,1\\n0.112978525,0.0,0.253034547,0.0,0.0,0.0,1\\n1.399440542,2.311739089,0.178804158,0.0,0.0,0.0,1\\n0.051243533,0.0,0.036502243,0.0,0.0,0.0,1\\n1.619217082,0.0,0.15658363,0.0,0.0,0.0,1\\n1.242105263,0.0,0.114127424,0.0,0.0,0.0,1\\n1.862687235,8.791415663,0.221833279,0.0,0.0,0.0,1\\n0.171260997,5.309090909,0.127859238,0.0,0.0,0.0,1\\n0.842998586,11.237623762,0.178217822,0.0,0.0,0.0,1\\n2.599648343,0.0,0.170742694,0.0,0.0,0.0,1\\n0.023988486,0.0,0.011423088,0.0,0.0,0.0,1\\n0.120609675,0.0,0.096090126,0.0,0.0,0.0,1\\n0.42369338,0.0,1.361207898,0.0,0.0,0.0,1\\n0.773406766,7.593233674,0.0,0.0,0.0,0.0,1\\n0.0,0.0,0.143328579,0.0,0.0,0.0,1\\n0.942271339,9.738548786,0.077940963,0.0,0.0,0.0,1\\n0.065261372,0.024146708,0.274097762,0.0,0.0,0.0,1\\n8.468309859,0.0,0.278755869,0.0,0.0,0.0,1\\n0.462344029,0.325868984,0.182895128,0.0,0.0,0.0,1\\n0.258885898,4.702521562,0.315195297,0.0,0.0,0.0,1\\n0.291149711,0.0,0.127377998,0.0,0.0,0.0,1\\n0.902278636,0.0,0.102879228,0.0,0.0,0.0,1\\n0.000558659,0.0,0.094413408,0.0,0.0,0.0,1\\n1.954776665,12.935145446,0.020664441,0.0,0.0,0.0,1\\n2.836879433,0.0,0.166272656,0.0,0.0,0.0,1\\n1.765465465,0.0,0.221021021,0.077177177,0.0,0.0,1\\n3.856391115,0.001529707,0.10402007,0.0,0.0,0.0,1\\n3.52862254,0.0,0.154541841,0.0,0.0,0.0,1\\n1.630342605,11.98906038,0.136391904,0.0,0.0,0.0,1\\n6.814814815,0.0,0.086140439,0.0,0.0,0.0,1\\n7.385644191,0.0,0.11119025,0.0,0.0,0.0,1\\n1.684732624,1.178557351,0.141242938,0.0,0.0,0.0,1\\n1.587927248,0.0,0.270285489,0.0,0.0,0.0,1\\n9.431089476,0.0,0.148923638,0.0,0.0,0.0,1\\n3.25017819,0.0,0.334348474,0.0,0.0,0.0,1\\n0.752833109,10.047759306,1.163529862,0.0,0.0,0.0,1\\n0.0,0.017687075,0.18877551,0.0,0.0,0.0,1\\n0.0,0.0,0.103598232,0.0,0.0,0.0,1\\n0.0,0.0,1.157139824,0.0,0.0,0.0,1\\n0.0,0.0,0.021648145,0.0,0.0,0.0,1\\n0.0,0.0,0.079567656,0.0,0.0,0.0,1\\n6.485411788,0.0,0.171984778,0.0,0.0,0.0,1\\n0.0,0.0,0.161636882,0.0,0.0,0.0,1\\n4.264975221,0.0,0.329939668,0.0,0.0,0.0,1\\n1.429133481,0.0,0.034558659,0.0,0.0,0.0,1\\n0.853902001,13.744247745,0.161778023,0.0,0.0,0.0,1\\n'"
            ],
            "application/vnd.google.colaboratory.intrinsic+json": {
              "type": "string"
            }
          },
          "metadata": {},
          "execution_count": 11
        }
      ]
    },
    {
      "cell_type": "code",
      "metadata": {
        "colab": {
          "base_uri": "https://localhost:8080/"
        },
        "id": "s3neDg6cCoHC",
        "outputId": "02214f46-f727-4a75-f029-64c7efcb2814"
      },
      "source": [
        "with open('features.csv', 'w') as file:\n",
        "  for l in export:\n",
        "    file.write(l)\n",
        "file.closed"
      ],
      "execution_count": 12,
      "outputs": [
        {
          "output_type": "execute_result",
          "data": {
            "text/plain": [
              "True"
            ]
          },
          "metadata": {},
          "execution_count": 12
        }
      ]
    },
    {
      "cell_type": "code",
      "metadata": {
        "colab": {
          "base_uri": "https://localhost:8080/",
          "height": 423
        },
        "id": "0LdQLSkLC6v6",
        "outputId": "934f7f9a-ef1b-433f-cf74-40df0007a6f5"
      },
      "source": [
        "dataset = pd.read_csv('features.csv')\n",
        "dataset"
      ],
      "execution_count": 13,
      "outputs": [
        {
          "output_type": "execute_result",
          "data": {
            "text/plain": [
              "        mouth      pants     shoes    tshirt    shorts  sneakers  class\n",
              "0    0.000000   0.000000  0.114799  6.886102  3.495204  3.495204      0\n",
              "1    0.000000   0.000000  0.110078  5.004901  3.183889  3.183889      0\n",
              "2    0.000000   0.000000  0.182519  5.264620  5.029683  5.029683      0\n",
              "3    0.000000   0.480168  0.080028  0.000000  0.000000  0.000000      0\n",
              "4    0.000000   0.000000  0.029708  8.978929  3.459119  3.459119      0\n",
              "..        ...        ...       ...       ...       ...       ...    ...\n",
              "264  6.485412   0.000000  0.171985  0.000000  0.000000  0.000000      1\n",
              "265  0.000000   0.000000  0.161637  0.000000  0.000000  0.000000      1\n",
              "266  4.264975   0.000000  0.329940  0.000000  0.000000  0.000000      1\n",
              "267  1.429133   0.000000  0.034559  0.000000  0.000000  0.000000      1\n",
              "268  0.853902  13.744248  0.161778  0.000000  0.000000  0.000000      1\n",
              "\n",
              "[269 rows x 7 columns]"
            ],
            "text/html": [
              "\n",
              "  <div id=\"df-f402db1c-8672-4e25-8a33-b463246bc728\" class=\"colab-df-container\">\n",
              "    <div>\n",
              "<style scoped>\n",
              "    .dataframe tbody tr th:only-of-type {\n",
              "        vertical-align: middle;\n",
              "    }\n",
              "\n",
              "    .dataframe tbody tr th {\n",
              "        vertical-align: top;\n",
              "    }\n",
              "\n",
              "    .dataframe thead th {\n",
              "        text-align: right;\n",
              "    }\n",
              "</style>\n",
              "<table border=\"1\" class=\"dataframe\">\n",
              "  <thead>\n",
              "    <tr style=\"text-align: right;\">\n",
              "      <th></th>\n",
              "      <th>mouth</th>\n",
              "      <th>pants</th>\n",
              "      <th>shoes</th>\n",
              "      <th>tshirt</th>\n",
              "      <th>shorts</th>\n",
              "      <th>sneakers</th>\n",
              "      <th>class</th>\n",
              "    </tr>\n",
              "  </thead>\n",
              "  <tbody>\n",
              "    <tr>\n",
              "      <th>0</th>\n",
              "      <td>0.000000</td>\n",
              "      <td>0.000000</td>\n",
              "      <td>0.114799</td>\n",
              "      <td>6.886102</td>\n",
              "      <td>3.495204</td>\n",
              "      <td>3.495204</td>\n",
              "      <td>0</td>\n",
              "    </tr>\n",
              "    <tr>\n",
              "      <th>1</th>\n",
              "      <td>0.000000</td>\n",
              "      <td>0.000000</td>\n",
              "      <td>0.110078</td>\n",
              "      <td>5.004901</td>\n",
              "      <td>3.183889</td>\n",
              "      <td>3.183889</td>\n",
              "      <td>0</td>\n",
              "    </tr>\n",
              "    <tr>\n",
              "      <th>2</th>\n",
              "      <td>0.000000</td>\n",
              "      <td>0.000000</td>\n",
              "      <td>0.182519</td>\n",
              "      <td>5.264620</td>\n",
              "      <td>5.029683</td>\n",
              "      <td>5.029683</td>\n",
              "      <td>0</td>\n",
              "    </tr>\n",
              "    <tr>\n",
              "      <th>3</th>\n",
              "      <td>0.000000</td>\n",
              "      <td>0.480168</td>\n",
              "      <td>0.080028</td>\n",
              "      <td>0.000000</td>\n",
              "      <td>0.000000</td>\n",
              "      <td>0.000000</td>\n",
              "      <td>0</td>\n",
              "    </tr>\n",
              "    <tr>\n",
              "      <th>4</th>\n",
              "      <td>0.000000</td>\n",
              "      <td>0.000000</td>\n",
              "      <td>0.029708</td>\n",
              "      <td>8.978929</td>\n",
              "      <td>3.459119</td>\n",
              "      <td>3.459119</td>\n",
              "      <td>0</td>\n",
              "    </tr>\n",
              "    <tr>\n",
              "      <th>...</th>\n",
              "      <td>...</td>\n",
              "      <td>...</td>\n",
              "      <td>...</td>\n",
              "      <td>...</td>\n",
              "      <td>...</td>\n",
              "      <td>...</td>\n",
              "      <td>...</td>\n",
              "    </tr>\n",
              "    <tr>\n",
              "      <th>264</th>\n",
              "      <td>6.485412</td>\n",
              "      <td>0.000000</td>\n",
              "      <td>0.171985</td>\n",
              "      <td>0.000000</td>\n",
              "      <td>0.000000</td>\n",
              "      <td>0.000000</td>\n",
              "      <td>1</td>\n",
              "    </tr>\n",
              "    <tr>\n",
              "      <th>265</th>\n",
              "      <td>0.000000</td>\n",
              "      <td>0.000000</td>\n",
              "      <td>0.161637</td>\n",
              "      <td>0.000000</td>\n",
              "      <td>0.000000</td>\n",
              "      <td>0.000000</td>\n",
              "      <td>1</td>\n",
              "    </tr>\n",
              "    <tr>\n",
              "      <th>266</th>\n",
              "      <td>4.264975</td>\n",
              "      <td>0.000000</td>\n",
              "      <td>0.329940</td>\n",
              "      <td>0.000000</td>\n",
              "      <td>0.000000</td>\n",
              "      <td>0.000000</td>\n",
              "      <td>1</td>\n",
              "    </tr>\n",
              "    <tr>\n",
              "      <th>267</th>\n",
              "      <td>1.429133</td>\n",
              "      <td>0.000000</td>\n",
              "      <td>0.034559</td>\n",
              "      <td>0.000000</td>\n",
              "      <td>0.000000</td>\n",
              "      <td>0.000000</td>\n",
              "      <td>1</td>\n",
              "    </tr>\n",
              "    <tr>\n",
              "      <th>268</th>\n",
              "      <td>0.853902</td>\n",
              "      <td>13.744248</td>\n",
              "      <td>0.161778</td>\n",
              "      <td>0.000000</td>\n",
              "      <td>0.000000</td>\n",
              "      <td>0.000000</td>\n",
              "      <td>1</td>\n",
              "    </tr>\n",
              "  </tbody>\n",
              "</table>\n",
              "<p>269 rows × 7 columns</p>\n",
              "</div>\n",
              "    <div class=\"colab-df-buttons\">\n",
              "\n",
              "  <div class=\"colab-df-container\">\n",
              "    <button class=\"colab-df-convert\" onclick=\"convertToInteractive('df-f402db1c-8672-4e25-8a33-b463246bc728')\"\n",
              "            title=\"Convert this dataframe to an interactive table.\"\n",
              "            style=\"display:none;\">\n",
              "\n",
              "  <svg xmlns=\"http://www.w3.org/2000/svg\" height=\"24px\" viewBox=\"0 -960 960 960\">\n",
              "    <path d=\"M120-120v-720h720v720H120Zm60-500h600v-160H180v160Zm220 220h160v-160H400v160Zm0 220h160v-160H400v160ZM180-400h160v-160H180v160Zm440 0h160v-160H620v160ZM180-180h160v-160H180v160Zm440 0h160v-160H620v160Z\"/>\n",
              "  </svg>\n",
              "    </button>\n",
              "\n",
              "  <style>\n",
              "    .colab-df-container {\n",
              "      display:flex;\n",
              "      gap: 12px;\n",
              "    }\n",
              "\n",
              "    .colab-df-convert {\n",
              "      background-color: #E8F0FE;\n",
              "      border: none;\n",
              "      border-radius: 50%;\n",
              "      cursor: pointer;\n",
              "      display: none;\n",
              "      fill: #1967D2;\n",
              "      height: 32px;\n",
              "      padding: 0 0 0 0;\n",
              "      width: 32px;\n",
              "    }\n",
              "\n",
              "    .colab-df-convert:hover {\n",
              "      background-color: #E2EBFA;\n",
              "      box-shadow: 0px 1px 2px rgba(60, 64, 67, 0.3), 0px 1px 3px 1px rgba(60, 64, 67, 0.15);\n",
              "      fill: #174EA6;\n",
              "    }\n",
              "\n",
              "    .colab-df-buttons div {\n",
              "      margin-bottom: 4px;\n",
              "    }\n",
              "\n",
              "    [theme=dark] .colab-df-convert {\n",
              "      background-color: #3B4455;\n",
              "      fill: #D2E3FC;\n",
              "    }\n",
              "\n",
              "    [theme=dark] .colab-df-convert:hover {\n",
              "      background-color: #434B5C;\n",
              "      box-shadow: 0px 1px 3px 1px rgba(0, 0, 0, 0.15);\n",
              "      filter: drop-shadow(0px 1px 2px rgba(0, 0, 0, 0.3));\n",
              "      fill: #FFFFFF;\n",
              "    }\n",
              "  </style>\n",
              "\n",
              "    <script>\n",
              "      const buttonEl =\n",
              "        document.querySelector('#df-f402db1c-8672-4e25-8a33-b463246bc728 button.colab-df-convert');\n",
              "      buttonEl.style.display =\n",
              "        google.colab.kernel.accessAllowed ? 'block' : 'none';\n",
              "\n",
              "      async function convertToInteractive(key) {\n",
              "        const element = document.querySelector('#df-f402db1c-8672-4e25-8a33-b463246bc728');\n",
              "        const dataTable =\n",
              "          await google.colab.kernel.invokeFunction('convertToInteractive',\n",
              "                                                    [key], {});\n",
              "        if (!dataTable) return;\n",
              "\n",
              "        const docLinkHtml = 'Like what you see? Visit the ' +\n",
              "          '<a target=\"_blank\" href=https://colab.research.google.com/notebooks/data_table.ipynb>data table notebook</a>'\n",
              "          + ' to learn more about interactive tables.';\n",
              "        element.innerHTML = '';\n",
              "        dataTable['output_type'] = 'display_data';\n",
              "        await google.colab.output.renderOutput(dataTable, element);\n",
              "        const docLink = document.createElement('div');\n",
              "        docLink.innerHTML = docLinkHtml;\n",
              "        element.appendChild(docLink);\n",
              "      }\n",
              "    </script>\n",
              "  </div>\n",
              "\n",
              "\n",
              "<div id=\"df-b1f8448e-ea59-4c1a-a011-b3fcf96455c1\">\n",
              "  <button class=\"colab-df-quickchart\" onclick=\"quickchart('df-b1f8448e-ea59-4c1a-a011-b3fcf96455c1')\"\n",
              "            title=\"Suggest charts\"\n",
              "            style=\"display:none;\">\n",
              "\n",
              "<svg xmlns=\"http://www.w3.org/2000/svg\" height=\"24px\"viewBox=\"0 0 24 24\"\n",
              "     width=\"24px\">\n",
              "    <g>\n",
              "        <path d=\"M19 3H5c-1.1 0-2 .9-2 2v14c0 1.1.9 2 2 2h14c1.1 0 2-.9 2-2V5c0-1.1-.9-2-2-2zM9 17H7v-7h2v7zm4 0h-2V7h2v10zm4 0h-2v-4h2v4z\"/>\n",
              "    </g>\n",
              "</svg>\n",
              "  </button>\n",
              "\n",
              "<style>\n",
              "  .colab-df-quickchart {\n",
              "      --bg-color: #E8F0FE;\n",
              "      --fill-color: #1967D2;\n",
              "      --hover-bg-color: #E2EBFA;\n",
              "      --hover-fill-color: #174EA6;\n",
              "      --disabled-fill-color: #AAA;\n",
              "      --disabled-bg-color: #DDD;\n",
              "  }\n",
              "\n",
              "  [theme=dark] .colab-df-quickchart {\n",
              "      --bg-color: #3B4455;\n",
              "      --fill-color: #D2E3FC;\n",
              "      --hover-bg-color: #434B5C;\n",
              "      --hover-fill-color: #FFFFFF;\n",
              "      --disabled-bg-color: #3B4455;\n",
              "      --disabled-fill-color: #666;\n",
              "  }\n",
              "\n",
              "  .colab-df-quickchart {\n",
              "    background-color: var(--bg-color);\n",
              "    border: none;\n",
              "    border-radius: 50%;\n",
              "    cursor: pointer;\n",
              "    display: none;\n",
              "    fill: var(--fill-color);\n",
              "    height: 32px;\n",
              "    padding: 0;\n",
              "    width: 32px;\n",
              "  }\n",
              "\n",
              "  .colab-df-quickchart:hover {\n",
              "    background-color: var(--hover-bg-color);\n",
              "    box-shadow: 0 1px 2px rgba(60, 64, 67, 0.3), 0 1px 3px 1px rgba(60, 64, 67, 0.15);\n",
              "    fill: var(--button-hover-fill-color);\n",
              "  }\n",
              "\n",
              "  .colab-df-quickchart-complete:disabled,\n",
              "  .colab-df-quickchart-complete:disabled:hover {\n",
              "    background-color: var(--disabled-bg-color);\n",
              "    fill: var(--disabled-fill-color);\n",
              "    box-shadow: none;\n",
              "  }\n",
              "\n",
              "  .colab-df-spinner {\n",
              "    border: 2px solid var(--fill-color);\n",
              "    border-color: transparent;\n",
              "    border-bottom-color: var(--fill-color);\n",
              "    animation:\n",
              "      spin 1s steps(1) infinite;\n",
              "  }\n",
              "\n",
              "  @keyframes spin {\n",
              "    0% {\n",
              "      border-color: transparent;\n",
              "      border-bottom-color: var(--fill-color);\n",
              "      border-left-color: var(--fill-color);\n",
              "    }\n",
              "    20% {\n",
              "      border-color: transparent;\n",
              "      border-left-color: var(--fill-color);\n",
              "      border-top-color: var(--fill-color);\n",
              "    }\n",
              "    30% {\n",
              "      border-color: transparent;\n",
              "      border-left-color: var(--fill-color);\n",
              "      border-top-color: var(--fill-color);\n",
              "      border-right-color: var(--fill-color);\n",
              "    }\n",
              "    40% {\n",
              "      border-color: transparent;\n",
              "      border-right-color: var(--fill-color);\n",
              "      border-top-color: var(--fill-color);\n",
              "    }\n",
              "    60% {\n",
              "      border-color: transparent;\n",
              "      border-right-color: var(--fill-color);\n",
              "    }\n",
              "    80% {\n",
              "      border-color: transparent;\n",
              "      border-right-color: var(--fill-color);\n",
              "      border-bottom-color: var(--fill-color);\n",
              "    }\n",
              "    90% {\n",
              "      border-color: transparent;\n",
              "      border-bottom-color: var(--fill-color);\n",
              "    }\n",
              "  }\n",
              "</style>\n",
              "\n",
              "  <script>\n",
              "    async function quickchart(key) {\n",
              "      const quickchartButtonEl =\n",
              "        document.querySelector('#' + key + ' button');\n",
              "      quickchartButtonEl.disabled = true;  // To prevent multiple clicks.\n",
              "      quickchartButtonEl.classList.add('colab-df-spinner');\n",
              "      try {\n",
              "        const charts = await google.colab.kernel.invokeFunction(\n",
              "            'suggestCharts', [key], {});\n",
              "      } catch (error) {\n",
              "        console.error('Error during call to suggestCharts:', error);\n",
              "      }\n",
              "      quickchartButtonEl.classList.remove('colab-df-spinner');\n",
              "      quickchartButtonEl.classList.add('colab-df-quickchart-complete');\n",
              "    }\n",
              "    (() => {\n",
              "      let quickchartButtonEl =\n",
              "        document.querySelector('#df-b1f8448e-ea59-4c1a-a011-b3fcf96455c1 button');\n",
              "      quickchartButtonEl.style.display =\n",
              "        google.colab.kernel.accessAllowed ? 'block' : 'none';\n",
              "    })();\n",
              "  </script>\n",
              "</div>\n",
              "    </div>\n",
              "  </div>\n"
            ]
          },
          "metadata": {},
          "execution_count": 13
        }
      ]
    },
    {
      "cell_type": "markdown",
      "metadata": {
        "id": "aBbNwE-1hkOC"
      },
      "source": [
        "### Train and test sets"
      ]
    },
    {
      "cell_type": "code",
      "metadata": {
        "colab": {
          "base_uri": "https://localhost:8080/"
        },
        "id": "IDqSPSzhFgrY",
        "outputId": "e1c82034-75e2-4b32-cd7a-af6274feef73"
      },
      "source": [
        "X = dataset.iloc[:, 0:6].values\n",
        "X"
      ],
      "execution_count": 14,
      "outputs": [
        {
          "output_type": "execute_result",
          "data": {
            "text/plain": [
              "array([[ 0.        ,  0.        ,  0.11479923,  6.88610189,  3.49520435,\n",
              "         3.49520435],\n",
              "       [ 0.        ,  0.        ,  0.11007847,  5.00490111,  3.18388871,\n",
              "         3.18388871],\n",
              "       [ 0.        ,  0.        ,  0.18251863,  5.26462044,  5.02968296,\n",
              "         5.02968296],\n",
              "       ...,\n",
              "       [ 4.26497522,  0.        ,  0.32993967,  0.        ,  0.        ,\n",
              "         0.        ],\n",
              "       [ 1.42913348,  0.        ,  0.03455866,  0.        ,  0.        ,\n",
              "         0.        ],\n",
              "       [ 0.853902  , 13.74424774,  0.16177802,  0.        ,  0.        ,\n",
              "         0.        ]])"
            ]
          },
          "metadata": {},
          "execution_count": 14
        }
      ]
    },
    {
      "cell_type": "code",
      "metadata": {
        "colab": {
          "base_uri": "https://localhost:8080/"
        },
        "id": "X6r9tkvpF8Q5",
        "outputId": "50bc5691-2f27-492b-9363-6d7439e29aa5"
      },
      "source": [
        "y = dataset.iloc[:, 6].values\n",
        "y"
      ],
      "execution_count": 15,
      "outputs": [
        {
          "output_type": "execute_result",
          "data": {
            "text/plain": [
              "array([0, 0, 0, 0, 0, 0, 0, 0, 0, 0, 0, 0, 0, 0, 0, 0, 0, 0, 0, 0, 0, 0,\n",
              "       0, 0, 0, 0, 0, 0, 0, 0, 0, 0, 0, 0, 0, 0, 0, 0, 0, 0, 0, 0, 0, 0,\n",
              "       0, 0, 0, 0, 0, 0, 0, 0, 0, 0, 0, 0, 0, 0, 0, 0, 0, 0, 0, 0, 0, 0,\n",
              "       0, 0, 0, 0, 0, 0, 0, 0, 0, 0, 0, 0, 0, 0, 0, 0, 0, 0, 0, 0, 0, 0,\n",
              "       0, 0, 0, 0, 0, 0, 0, 0, 0, 0, 0, 0, 0, 0, 0, 0, 0, 0, 0, 0, 0, 0,\n",
              "       0, 0, 0, 0, 0, 0, 0, 0, 0, 0, 0, 0, 0, 0, 0, 0, 0, 0, 0, 0, 0, 0,\n",
              "       0, 0, 0, 0, 0, 0, 0, 0, 0, 0, 0, 0, 0, 0, 0, 0, 0, 0, 0, 0, 0, 0,\n",
              "       0, 0, 0, 0, 0, 0, 1, 1, 1, 1, 1, 1, 1, 1, 1, 1, 1, 1, 1, 1, 1, 1,\n",
              "       1, 1, 1, 1, 1, 1, 1, 1, 1, 1, 1, 1, 1, 1, 1, 1, 1, 1, 1, 1, 1, 1,\n",
              "       1, 1, 1, 1, 1, 1, 1, 1, 1, 1, 1, 1, 1, 1, 1, 1, 1, 1, 1, 1, 1, 1,\n",
              "       1, 1, 1, 1, 1, 1, 1, 1, 1, 1, 1, 1, 1, 1, 1, 1, 1, 1, 1, 1, 1, 1,\n",
              "       1, 1, 1, 1, 1, 1, 1, 1, 1, 1, 1, 1, 1, 1, 1, 1, 1, 1, 1, 1, 1, 1,\n",
              "       1, 1, 1, 1, 1])"
            ]
          },
          "metadata": {},
          "execution_count": 15
        }
      ]
    },
    {
      "cell_type": "code",
      "metadata": {
        "id": "sNWbgVSvGEPV"
      },
      "source": [
        "from sklearn.model_selection import train_test_split\n",
        "X_train, X_test, y_train, y_test = train_test_split(X, y, test_size = 0.2, random_state = 1)"
      ],
      "execution_count": 16,
      "outputs": []
    },
    {
      "cell_type": "code",
      "metadata": {
        "colab": {
          "base_uri": "https://localhost:8080/"
        },
        "id": "Q5gyVLkNGfqa",
        "outputId": "c81e9ea6-4d3c-409f-fd00-7249721d0252"
      },
      "source": [
        "X_train.shape, y_train.shape"
      ],
      "execution_count": 17,
      "outputs": [
        {
          "output_type": "execute_result",
          "data": {
            "text/plain": [
              "((215, 6), (215,))"
            ]
          },
          "metadata": {},
          "execution_count": 17
        }
      ]
    },
    {
      "cell_type": "code",
      "metadata": {
        "colab": {
          "base_uri": "https://localhost:8080/"
        },
        "id": "7_LAfcAoGljx",
        "outputId": "75f79665-980e-43fd-8185-68a74a2b065f"
      },
      "source": [
        "X_test.shape, y_test.shape"
      ],
      "execution_count": 18,
      "outputs": [
        {
          "output_type": "execute_result",
          "data": {
            "text/plain": [
              "((54, 6), (54,))"
            ]
          },
          "metadata": {},
          "execution_count": 18
        }
      ]
    },
    {
      "cell_type": "markdown",
      "metadata": {
        "id": "7SWwQVVVhmrm"
      },
      "source": [
        "### Building and training the neural network"
      ]
    },
    {
      "cell_type": "code",
      "metadata": {
        "colab": {
          "base_uri": "https://localhost:8080/"
        },
        "id": "U6xz36sfH5Au",
        "outputId": "296750c1-b8b8-4a84-a810-7ce0dce34781"
      },
      "source": [
        "(6 + 2) / 2"
      ],
      "execution_count": null,
      "outputs": [
        {
          "output_type": "execute_result",
          "data": {
            "text/plain": [
              "4.0"
            ]
          },
          "metadata": {
            "tags": []
          },
          "execution_count": 40
        }
      ]
    },
    {
      "cell_type": "code",
      "metadata": {
        "id": "YR5KdlEJHMs1"
      },
      "source": [
        "# 6 -> 4 -> 4 -> 4 -> 1\n",
        "model = tf.keras.models.Sequential()\n",
        "model.add(tf.keras.layers.Dense(input_shape = (6,), units = 4, activation='relu'))\n",
        "model.add(tf.keras.layers.Dense(units = 4, activation='relu'))\n",
        "model.add(tf.keras.layers.Dense(units = 4, activation='relu'))\n",
        "model.add(tf.keras.layers.Dense(units = 1, activation='sigmoid'))"
      ],
      "execution_count": 20,
      "outputs": []
    },
    {
      "cell_type": "code",
      "metadata": {
        "colab": {
          "base_uri": "https://localhost:8080/"
        },
        "id": "OpNCC381ImEm",
        "outputId": "852165ed-167d-4671-ea89-286d7ea11634"
      },
      "source": [
        "model.summary()"
      ],
      "execution_count": 21,
      "outputs": [
        {
          "output_type": "stream",
          "name": "stdout",
          "text": [
            "Model: \"sequential_1\"\n",
            "_________________________________________________________________\n",
            " Layer (type)                Output Shape              Param #   \n",
            "=================================================================\n",
            " dense_4 (Dense)             (None, 4)                 28        \n",
            "                                                                 \n",
            " dense_5 (Dense)             (None, 4)                 20        \n",
            "                                                                 \n",
            " dense_6 (Dense)             (None, 4)                 20        \n",
            "                                                                 \n",
            " dense_7 (Dense)             (None, 1)                 5         \n",
            "                                                                 \n",
            "=================================================================\n",
            "Total params: 73 (292.00 Byte)\n",
            "Trainable params: 73 (292.00 Byte)\n",
            "Non-trainable params: 0 (0.00 Byte)\n",
            "_________________________________________________________________\n"
          ]
        }
      ]
    },
    {
      "cell_type": "code",
      "metadata": {
        "id": "Pj1g7YoJI1Re"
      },
      "source": [
        "model.compile(optimizer='Adam', loss='binary_crossentropy', metrics = ['accuracy'])"
      ],
      "execution_count": 22,
      "outputs": []
    },
    {
      "cell_type": "code",
      "metadata": {
        "colab": {
          "base_uri": "https://localhost:8080/"
        },
        "id": "PTBHELg0I_R9",
        "outputId": "abc4ae6c-c355-4bb0-b8c0-05291f2e95f0"
      },
      "source": [
        "history = model.fit(X_train, y_train, epochs = 50)"
      ],
      "execution_count": 23,
      "outputs": [
        {
          "output_type": "stream",
          "name": "stdout",
          "text": [
            "Epoch 1/50\n",
            "7/7 [==============================] - 8s 5ms/step - loss: 0.5026 - accuracy: 0.8930\n",
            "Epoch 2/50\n",
            "7/7 [==============================] - 0s 6ms/step - loss: 0.4711 - accuracy: 0.8651\n",
            "Epoch 3/50\n",
            "7/7 [==============================] - 0s 4ms/step - loss: 0.4489 - accuracy: 0.8558\n",
            "Epoch 4/50\n",
            "7/7 [==============================] - 0s 4ms/step - loss: 0.4308 - accuracy: 0.8605\n",
            "Epoch 5/50\n",
            "7/7 [==============================] - 0s 5ms/step - loss: 0.4156 - accuracy: 0.8744\n",
            "Epoch 6/50\n",
            "7/7 [==============================] - 0s 4ms/step - loss: 0.4009 - accuracy: 0.8744\n",
            "Epoch 7/50\n",
            "7/7 [==============================] - 0s 4ms/step - loss: 0.3877 - accuracy: 0.8744\n",
            "Epoch 8/50\n",
            "7/7 [==============================] - 0s 4ms/step - loss: 0.3748 - accuracy: 0.8837\n",
            "Epoch 9/50\n",
            "7/7 [==============================] - 0s 4ms/step - loss: 0.3633 - accuracy: 0.8884\n",
            "Epoch 10/50\n",
            "7/7 [==============================] - 0s 4ms/step - loss: 0.3533 - accuracy: 0.8837\n",
            "Epoch 11/50\n",
            "7/7 [==============================] - 0s 4ms/step - loss: 0.3434 - accuracy: 0.8791\n",
            "Epoch 12/50\n",
            "7/7 [==============================] - 0s 4ms/step - loss: 0.3347 - accuracy: 0.8791\n",
            "Epoch 13/50\n",
            "7/7 [==============================] - 0s 4ms/step - loss: 0.3266 - accuracy: 0.8837\n",
            "Epoch 14/50\n",
            "7/7 [==============================] - 0s 4ms/step - loss: 0.3189 - accuracy: 0.8884\n",
            "Epoch 15/50\n",
            "7/7 [==============================] - 0s 5ms/step - loss: 0.3116 - accuracy: 0.8884\n",
            "Epoch 16/50\n",
            "7/7 [==============================] - 0s 4ms/step - loss: 0.3049 - accuracy: 0.9023\n",
            "Epoch 17/50\n",
            "7/7 [==============================] - 0s 4ms/step - loss: 0.2990 - accuracy: 0.8977\n",
            "Epoch 18/50\n",
            "7/7 [==============================] - 0s 4ms/step - loss: 0.2928 - accuracy: 0.8977\n",
            "Epoch 19/50\n",
            "7/7 [==============================] - 0s 4ms/step - loss: 0.2872 - accuracy: 0.8977\n",
            "Epoch 20/50\n",
            "7/7 [==============================] - 0s 4ms/step - loss: 0.2810 - accuracy: 0.8977\n",
            "Epoch 21/50\n",
            "7/7 [==============================] - 0s 4ms/step - loss: 0.2743 - accuracy: 0.8977\n",
            "Epoch 22/50\n",
            "7/7 [==============================] - 0s 5ms/step - loss: 0.2683 - accuracy: 0.9023\n",
            "Epoch 23/50\n",
            "7/7 [==============================] - 0s 4ms/step - loss: 0.2635 - accuracy: 0.9023\n",
            "Epoch 24/50\n",
            "7/7 [==============================] - 0s 5ms/step - loss: 0.2589 - accuracy: 0.9023\n",
            "Epoch 25/50\n",
            "7/7 [==============================] - 0s 5ms/step - loss: 0.2557 - accuracy: 0.9023\n",
            "Epoch 26/50\n",
            "7/7 [==============================] - 0s 4ms/step - loss: 0.2520 - accuracy: 0.8930\n",
            "Epoch 27/50\n",
            "7/7 [==============================] - 0s 5ms/step - loss: 0.2492 - accuracy: 0.8930\n",
            "Epoch 28/50\n",
            "7/7 [==============================] - 0s 6ms/step - loss: 0.2472 - accuracy: 0.8930\n",
            "Epoch 29/50\n",
            "7/7 [==============================] - 0s 4ms/step - loss: 0.2446 - accuracy: 0.8884\n",
            "Epoch 30/50\n",
            "7/7 [==============================] - 0s 4ms/step - loss: 0.2426 - accuracy: 0.8884\n",
            "Epoch 31/50\n",
            "7/7 [==============================] - 0s 5ms/step - loss: 0.2412 - accuracy: 0.8884\n",
            "Epoch 32/50\n",
            "7/7 [==============================] - 0s 4ms/step - loss: 0.2393 - accuracy: 0.8884\n",
            "Epoch 33/50\n",
            "7/7 [==============================] - 0s 5ms/step - loss: 0.2382 - accuracy: 0.8698\n",
            "Epoch 34/50\n",
            "7/7 [==============================] - 0s 5ms/step - loss: 0.2367 - accuracy: 0.8698\n",
            "Epoch 35/50\n",
            "7/7 [==============================] - 0s 5ms/step - loss: 0.2356 - accuracy: 0.8791\n",
            "Epoch 36/50\n",
            "7/7 [==============================] - 0s 5ms/step - loss: 0.2346 - accuracy: 0.8837\n",
            "Epoch 37/50\n",
            "7/7 [==============================] - 0s 4ms/step - loss: 0.2335 - accuracy: 0.8837\n",
            "Epoch 38/50\n",
            "7/7 [==============================] - 0s 4ms/step - loss: 0.2326 - accuracy: 0.8837\n",
            "Epoch 39/50\n",
            "7/7 [==============================] - 0s 4ms/step - loss: 0.2317 - accuracy: 0.8930\n",
            "Epoch 40/50\n",
            "7/7 [==============================] - 0s 5ms/step - loss: 0.2307 - accuracy: 0.9023\n",
            "Epoch 41/50\n",
            "7/7 [==============================] - 0s 4ms/step - loss: 0.2299 - accuracy: 0.9023\n",
            "Epoch 42/50\n",
            "7/7 [==============================] - 0s 4ms/step - loss: 0.2292 - accuracy: 0.9023\n",
            "Epoch 43/50\n",
            "7/7 [==============================] - 0s 4ms/step - loss: 0.2285 - accuracy: 0.9023\n",
            "Epoch 44/50\n",
            "7/7 [==============================] - 0s 5ms/step - loss: 0.2278 - accuracy: 0.9023\n",
            "Epoch 45/50\n",
            "7/7 [==============================] - 0s 5ms/step - loss: 0.2272 - accuracy: 0.9023\n",
            "Epoch 46/50\n",
            "7/7 [==============================] - 0s 5ms/step - loss: 0.2265 - accuracy: 0.9023\n",
            "Epoch 47/50\n",
            "7/7 [==============================] - 0s 5ms/step - loss: 0.2259 - accuracy: 0.9023\n",
            "Epoch 48/50\n",
            "7/7 [==============================] - 0s 5ms/step - loss: 0.2251 - accuracy: 0.9023\n",
            "Epoch 49/50\n",
            "7/7 [==============================] - 0s 6ms/step - loss: 0.2245 - accuracy: 0.9023\n",
            "Epoch 50/50\n",
            "7/7 [==============================] - 0s 4ms/step - loss: 0.2241 - accuracy: 0.8977\n"
          ]
        }
      ]
    },
    {
      "cell_type": "markdown",
      "metadata": {
        "id": "ihTsEwaThri1"
      },
      "source": [
        "### Evaluating the neural network"
      ]
    },
    {
      "cell_type": "code",
      "metadata": {
        "colab": {
          "base_uri": "https://localhost:8080/"
        },
        "id": "FvhdH-ajLjgs",
        "outputId": "d6fe37b9-69f7-42ee-a665-10da401ab437"
      },
      "source": [
        "history.history.keys()"
      ],
      "execution_count": 24,
      "outputs": [
        {
          "output_type": "execute_result",
          "data": {
            "text/plain": [
              "dict_keys(['loss', 'accuracy'])"
            ]
          },
          "metadata": {},
          "execution_count": 24
        }
      ]
    },
    {
      "cell_type": "code",
      "metadata": {
        "colab": {
          "base_uri": "https://localhost:8080/",
          "height": 430
        },
        "id": "8JUs8oupLqqm",
        "outputId": "569845b0-c17b-455a-ad69-4f0adc18ef9b"
      },
      "source": [
        "plt.plot(history.history['loss']);"
      ],
      "execution_count": 25,
      "outputs": [
        {
          "output_type": "display_data",
          "data": {
            "text/plain": [
              "<Figure size 640x480 with 1 Axes>"
            ],
            "image/png": "[encoded data removed]"
          },
          "metadata": {}
        }
      ]
    },
    {
      "cell_type": "code",
      "metadata": {
        "colab": {
          "base_uri": "https://localhost:8080/",
          "height": 430
        },
        "id": "0IFjamyDL54q",
        "outputId": "31210b32-1de1-453c-cf70-5175f4ebcabb"
      },
      "source": [
        "plt.plot(history.history['accuracy']);"
      ],
      "execution_count": 26,
      "outputs": [
        {
          "output_type": "display_data",
          "data": {
            "text/plain": [
              "<Figure size 640x480 with 1 Axes>"
            ],
            "image/png": "[encoded data removed]"
          },
          "metadata": {}
        }
      ]
    },
    {
      "cell_type": "code",
      "metadata": {
        "colab": {
          "base_uri": "https://localhost:8080/"
        },
        "id": "PUKiO7ykMHbS",
        "outputId": "951a50b0-66f4-4566-b0a8-a8bfc3d8a704"
      },
      "source": [
        "X_test.shape"
      ],
      "execution_count": 27,
      "outputs": [
        {
          "output_type": "execute_result",
          "data": {
            "text/plain": [
              "(54, 6)"
            ]
          },
          "metadata": {},
          "execution_count": 27
        }
      ]
    },
    {
      "cell_type": "code",
      "metadata": {
        "colab": {
          "base_uri": "https://localhost:8080/"
        },
        "id": "gn2eQ0MyMLAB",
        "outputId": "cb95a9ea-98c5-4e47-9cf7-b0eab0cc1b0f"
      },
      "source": [
        "predictions = model.predict(X_test)\n",
        "predictions"
      ],
      "execution_count": 28,
      "outputs": [
        {
          "output_type": "stream",
          "name": "stdout",
          "text": [
            "2/2 [==============================] - 0s 11ms/step\n"
          ]
        },
        {
          "output_type": "execute_result",
          "data": {
            "text/plain": [
              "array([[7.23779749e-06],\n",
              "       [9.83496308e-01],\n",
              "       [2.95949206e-02],\n",
              "       [4.60181087e-01],\n",
              "       [3.70054170e-02],\n",
              "       [9.91026580e-01],\n",
              "       [2.79228721e-06],\n",
              "       [1.11975800e-02],\n",
              "       [2.92851776e-03],\n",
              "       [5.06489491e-03],\n",
              "       [3.97499055e-02],\n",
              "       [9.99973178e-01],\n",
              "       [8.38114023e-01],\n",
              "       [2.13664971e-05],\n",
              "       [4.48177695e-01],\n",
              "       [9.99951839e-01],\n",
              "       [6.50338471e-01],\n",
              "       [9.96930420e-01],\n",
              "       [4.44762528e-01],\n",
              "       [1.54826138e-02],\n",
              "       [2.08658958e-11],\n",
              "       [9.98793960e-01],\n",
              "       [9.79737103e-01],\n",
              "       [5.28012868e-04],\n",
              "       [1.24556764e-05],\n",
              "       [9.99752820e-01],\n",
              "       [5.71707010e-01],\n",
              "       [5.86959068e-03],\n",
              "       [9.81949866e-01],\n",
              "       [9.99963880e-01],\n",
              "       [9.71487045e-01],\n",
              "       [9.99999642e-01],\n",
              "       [9.99903560e-01],\n",
              "       [5.94954550e-01],\n",
              "       [9.99998808e-01],\n",
              "       [9.74066257e-01],\n",
              "       [4.95429570e-03],\n",
              "       [1.28289955e-02],\n",
              "       [4.51705396e-01],\n",
              "       [4.15786430e-02],\n",
              "       [9.72024679e-01],\n",
              "       [4.62880224e-01],\n",
              "       [4.80305025e-04],\n",
              "       [2.80874025e-04],\n",
              "       [7.58305323e-05],\n",
              "       [9.99664426e-01],\n",
              "       [8.14436018e-01],\n",
              "       [4.95439500e-01],\n",
              "       [3.00719657e-05],\n",
              "       [7.56866336e-01],\n",
              "       [1.14283779e-04],\n",
              "       [9.58202183e-01],\n",
              "       [9.84960020e-01],\n",
              "       [9.83680487e-01]], dtype=float32)"
            ]
          },
          "metadata": {},
          "execution_count": 28
        }
      ]
    },
    {
      "cell_type": "code",
      "metadata": {
        "colab": {
          "base_uri": "https://localhost:8080/"
        },
        "id": "1dhskJSKMee0",
        "outputId": "a82b97e5-7143-40d2-dfd7-3e1170ab2add"
      },
      "source": [
        "predictions = (predictions > 0.5)\n",
        "predictions"
      ],
      "execution_count": 29,
      "outputs": [
        {
          "output_type": "execute_result",
          "data": {
            "text/plain": [
              "array([[False],\n",
              "       [ True],\n",
              "       [False],\n",
              "       [False],\n",
              "       [False],\n",
              "       [ True],\n",
              "       [False],\n",
              "       [False],\n",
              "       [False],\n",
              "       [False],\n",
              "       [False],\n",
              "       [ True],\n",
              "       [ True],\n",
              "       [False],\n",
              "       [False],\n",
              "       [ True],\n",
              "       [ True],\n",
              "       [ True],\n",
              "       [False],\n",
              "       [False],\n",
              "       [False],\n",
              "       [ True],\n",
              "       [ True],\n",
              "       [False],\n",
              "       [False],\n",
              "       [ True],\n",
              "       [ True],\n",
              "       [False],\n",
              "       [ True],\n",
              "       [ True],\n",
              "       [ True],\n",
              "       [ True],\n",
              "       [ True],\n",
              "       [ True],\n",
              "       [ True],\n",
              "       [ True],\n",
              "       [False],\n",
              "       [False],\n",
              "       [False],\n",
              "       [False],\n",
              "       [ True],\n",
              "       [False],\n",
              "       [False],\n",
              "       [False],\n",
              "       [False],\n",
              "       [ True],\n",
              "       [ True],\n",
              "       [False],\n",
              "       [False],\n",
              "       [ True],\n",
              "       [False],\n",
              "       [ True],\n",
              "       [ True],\n",
              "       [ True]])"
            ]
          },
          "metadata": {},
          "execution_count": 29
        }
      ]
    },
    {
      "cell_type": "code",
      "metadata": {
        "colab": {
          "base_uri": "https://localhost:8080/"
        },
        "id": "SHibfXH2MmTw",
        "outputId": "1207154e-810a-4152-da20-dcb1f075be1a"
      },
      "source": [
        "y_test"
      ],
      "execution_count": 30,
      "outputs": [
        {
          "output_type": "execute_result",
          "data": {
            "text/plain": [
              "array([0, 1, 0, 0, 0, 1, 0, 0, 0, 0, 0, 1, 1, 0, 1, 1, 1, 1, 0, 0, 0, 1,\n",
              "       0, 0, 0, 1, 0, 0, 1, 1, 1, 1, 1, 1, 1, 1, 0, 0, 0, 0, 1, 1, 0, 0,\n",
              "       0, 1, 1, 0, 0, 1, 0, 1, 1, 1])"
            ]
          },
          "metadata": {},
          "execution_count": 30
        }
      ]
    },
    {
      "cell_type": "code",
      "metadata": {
        "colab": {
          "base_uri": "https://localhost:8080/"
        },
        "id": "Ik-g3y67MzDP",
        "outputId": "de1bc3f6-5117-41e4-fc7c-cbdc0666fb05"
      },
      "source": [
        "from sklearn.metrics import accuracy_score\n",
        "accuracy_score(y_test, predictions) # 0.68"
      ],
      "execution_count": 31,
      "outputs": [
        {
          "output_type": "execute_result",
          "data": {
            "text/plain": [
              "0.9259259259259259"
            ]
          },
          "metadata": {},
          "execution_count": 31
        }
      ]
    },
    {
      "cell_type": "code",
      "metadata": {
        "colab": {
          "base_uri": "https://localhost:8080/"
        },
        "id": "uUXZeU26NCmv",
        "outputId": "2a6c69c2-d7c4-4bf2-9744-f2bd7dfede83"
      },
      "source": [
        "from sklearn.metrics import confusion_matrix\n",
        "cm = confusion_matrix(y_test, predictions)\n",
        "cm"
      ],
      "execution_count": 32,
      "outputs": [
        {
          "output_type": "execute_result",
          "data": {
            "text/plain": [
              "array([[26,  2],\n",
              "       [ 2, 24]])"
            ]
          },
          "metadata": {},
          "execution_count": 32
        }
      ]
    },
    {
      "cell_type": "code",
      "metadata": {
        "colab": {
          "base_uri": "https://localhost:8080/",
          "height": 430
        },
        "id": "lFGzEld3NLWp",
        "outputId": "ba74288f-636a-40e1-9a7e-7ebb81574950"
      },
      "source": [
        "sns.heatmap(cm, annot=True);"
      ],
      "execution_count": 33,
      "outputs": [
        {
          "output_type": "display_data",
          "data": {
            "text/plain": [
              "<Figure size 640x480 with 2 Axes>"
            ],
            "image/png": "[encoded data removed]"
          },
          "metadata": {}
        }
      ]
    },
    {
      "cell_type": "code",
      "metadata": {
        "colab": {
          "base_uri": "https://localhost:8080/"
        },
        "id": "ulqAHhcbNa9z",
        "outputId": "ef78635c-747e-44a7-b77b-fafd571db9f4"
      },
      "source": [
        "from sklearn.metrics import classification_report\n",
        "print(classification_report(y_test, predictions))"
      ],
      "execution_count": 34,
      "outputs": [
        {
          "output_type": "stream",
          "name": "stdout",
          "text": [
            "              precision    recall  f1-score   support\n",
            "\n",
            "           0       0.93      0.93      0.93        28\n",
            "           1       0.92      0.92      0.92        26\n",
            "\n",
            "    accuracy                           0.93        54\n",
            "   macro avg       0.93      0.93      0.93        54\n",
            "weighted avg       0.93      0.93      0.93        54\n",
            "\n"
          ]
        }
      ]
    },
    {
      "cell_type": "markdown",
      "metadata": {
        "id": "jmDaG79zhuDG"
      },
      "source": [
        "### Saving, loading and classifying one single image"
      ]
    },
    {
      "cell_type": "code",
      "metadata": {
        "id": "2QoQRmGcOC-q"
      },
      "source": [
        "model_json = model.to_json()\n",
        "with open('model.json','w') as json_file:\n",
        "  json_file.write(model_json)"
      ],
      "execution_count": 35,
      "outputs": []
    },
    {
      "cell_type": "code",
      "metadata": {
        "id": "S7iXBGxROE9P",
        "colab": {
          "base_uri": "https://localhost:8080/"
        },
        "outputId": "e63fecc5-81db-4325-9bc1-0c75ba038787"
      },
      "source": [
        "from keras.models import save_model\n",
        "network2_saved = save_model(model, '/content/cartoon_feature_weights.hdf5')"
      ],
      "execution_count": 36,
      "outputs": [
        {
          "output_type": "stream",
          "name": "stderr",
          "text": [
            "<ipython-input-36-a5f324d7476e>:2: UserWarning: You are saving your model as an HDF5 file via `model.save()`. This file format is considered legacy. We recommend using instead the native Keras format, e.g. `model.save('my_model.keras')`.\n",
            "  network2_saved = save_model(model, '/content/cartoon_feature_weights.hdf5')\n"
          ]
        }
      ]
    },
    {
      "cell_type": "code",
      "metadata": {
        "colab": {
          "base_uri": "https://localhost:8080/",
          "height": 140
        },
        "id": "8ew8gHtqPVKu",
        "outputId": "02fff4fc-c34c-4018-c1c0-5df335c3eb17"
      },
      "source": [
        "with open('model.json', 'r') as json_file:\n",
        "  json_saved_model = json_file.read()\n",
        "json_saved_model"
      ],
      "execution_count": 37,
      "outputs": [
        {
          "output_type": "execute_result",
          "data": {
            "text/plain": [
              "'{\"class_name\": \"Sequential\", \"config\": {\"name\": \"sequential_1\", \"layers\": [{\"module\": \"keras.layers\", \"class_name\": \"InputLayer\", \"config\": {\"batch_input_shape\": [null, 6], \"dtype\": \"float32\", \"sparse\": false, \"ragged\": false, \"name\": \"dense_4_input\"}, \"registered_name\": null}, {\"module\": \"keras.layers\", \"class_name\": \"Dense\", \"config\": {\"name\": \"dense_4\", \"trainable\": true, \"dtype\": \"float32\", \"batch_input_shape\": [null, 6], \"units\": 4, \"activation\": \"relu\", \"use_bias\": true, \"kernel_initializer\": {\"module\": \"keras.initializers\", \"class_name\": \"GlorotUniform\", \"config\": {\"seed\": null}, \"registered_name\": null}, \"bias_initializer\": {\"module\": \"keras.initializers\", \"class_name\": \"Zeros\", \"config\": {}, \"registered_name\": null}, \"kernel_regularizer\": null, \"bias_regularizer\": null, \"activity_regularizer\": null, \"kernel_constraint\": null, \"bias_constraint\": null}, \"registered_name\": null, \"build_config\": {\"input_shape\": [null, 6]}}, {\"module\": \"keras.layers\", \"class_name\": \"Dense\", \"config\": {\"name\": \"dense_5\", \"trainable\": true, \"dtype\": \"float32\", \"units\": 4, \"activation\": \"relu\", \"use_bias\": true, \"kernel_initializer\": {\"module\": \"keras.initializers\", \"class_name\": \"GlorotUniform\", \"config\": {\"seed\": null}, \"registered_name\": null}, \"bias_initializer\": {\"module\": \"keras.initializers\", \"class_name\": \"Zeros\", \"config\": {}, \"registered_name\": null}, \"kernel_regularizer\": null, \"bias_regularizer\": null, \"activity_regularizer\": null, \"kernel_constraint\": null, \"bias_constraint\": null}, \"registered_name\": null, \"build_config\": {\"input_shape\": [null, 4]}}, {\"module\": \"keras.layers\", \"class_name\": \"Dense\", \"config\": {\"name\": \"dense_6\", \"trainable\": true, \"dtype\": \"float32\", \"units\": 4, \"activation\": \"relu\", \"use_bias\": true, \"kernel_initializer\": {\"module\": \"keras.initializers\", \"class_name\": \"GlorotUniform\", \"config\": {\"seed\": null}, \"registered_name\": null}, \"bias_initializer\": {\"module\": \"keras.initializers\", \"class_name\": \"Zeros\", \"config\": {}, \"registered_name\": null}, \"kernel_regularizer\": null, \"bias_regularizer\": null, \"activity_regularizer\": null, \"kernel_constraint\": null, \"bias_constraint\": null}, \"registered_name\": null, \"build_config\": {\"input_shape\": [null, 4]}}, {\"module\": \"keras.layers\", \"class_name\": \"Dense\", \"config\": {\"name\": \"dense_7\", \"trainable\": true, \"dtype\": \"float32\", \"units\": 1, \"activation\": \"sigmoid\", \"use_bias\": true, \"kernel_initializer\": {\"module\": \"keras.initializers\", \"class_name\": \"GlorotUniform\", \"config\": {\"seed\": null}, \"registered_name\": null}, \"bias_initializer\": {\"module\": \"keras.initializers\", \"class_name\": \"Zeros\", \"config\": {}, \"registered_name\": null}, \"kernel_regularizer\": null, \"bias_regularizer\": null, \"activity_regularizer\": null, \"kernel_constraint\": null, \"bias_constraint\": null}, \"registered_name\": null, \"build_config\": {\"input_shape\": [null, 4]}}]}, \"keras_version\": \"2.14.0\", \"backend\": \"tensorflow\"}'"
            ],
            "application/vnd.google.colaboratory.intrinsic+json": {
              "type": "string"
            }
          },
          "metadata": {},
          "execution_count": 37
        }
      ]
    },
    {
      "cell_type": "code",
      "metadata": {
        "id": "GI1hqFpROHP2"
      },
      "source": [
        "model_loaded = tf.keras.models.model_from_json(json_saved_model)\n",
        "model_loaded.load_weights('cartoon_feature_weights.hdf5')\n",
        "model_loaded.compile(loss = 'binary_crossentropy', optimizer='Adam', metrics=['accuracy'])"
      ],
      "execution_count": 39,
      "outputs": []
    },
    {
      "cell_type": "code",
      "metadata": {
        "colab": {
          "base_uri": "https://localhost:8080/"
        },
        "id": "9KX4EVEtOJ5w",
        "outputId": "f83cd91f-3d2b-424c-ee77-c40a71a9f533"
      },
      "source": [
        "model_loaded.summary()"
      ],
      "execution_count": 40,
      "outputs": [
        {
          "output_type": "stream",
          "name": "stdout",
          "text": [
            "Model: \"sequential_1\"\n",
            "_________________________________________________________________\n",
            " Layer (type)                Output Shape              Param #   \n",
            "=================================================================\n",
            " dense_4 (Dense)             (None, 4)                 28        \n",
            "                                                                 \n",
            " dense_5 (Dense)             (None, 4)                 20        \n",
            "                                                                 \n",
            " dense_6 (Dense)             (None, 4)                 20        \n",
            "                                                                 \n",
            " dense_7 (Dense)             (None, 1)                 5         \n",
            "                                                                 \n",
            "=================================================================\n",
            "Total params: 73 (292.00 Byte)\n",
            "Trainable params: 73 (292.00 Byte)\n",
            "Non-trainable params: 0 (0.00 Byte)\n",
            "_________________________________________________________________\n"
          ]
        }
      ]
    },
    {
      "cell_type": "code",
      "metadata": {
        "colab": {
          "base_uri": "https://localhost:8080/"
        },
        "id": "voNMSOANOMEI",
        "outputId": "52c549b6-dbed-4120-e1a8-e2bb481f5ced"
      },
      "source": [
        "test_image = X_test[0]\n",
        "test_image"
      ],
      "execution_count": 41,
      "outputs": [
        {
          "output_type": "execute_result",
          "data": {
            "text/plain": [
              "array([3.07645000e-03, 0.00000000e+00, 0.00000000e+00, 6.49515459e+00,\n",
              "       5.59913859e+00, 5.59913859e+00])"
            ]
          },
          "metadata": {},
          "execution_count": 41
        }
      ]
    },
    {
      "cell_type": "code",
      "metadata": {
        "colab": {
          "base_uri": "https://localhost:8080/"
        },
        "id": "J4RZmzeNOOUF",
        "outputId": "ee3ddc20-15c2-47ce-bdd8-9bbeca1c8aa5"
      },
      "source": [
        "test_image.shape"
      ],
      "execution_count": 42,
      "outputs": [
        {
          "output_type": "execute_result",
          "data": {
            "text/plain": [
              "(6,)"
            ]
          },
          "metadata": {},
          "execution_count": 42
        }
      ]
    },
    {
      "cell_type": "code",
      "metadata": {
        "colab": {
          "base_uri": "https://localhost:8080/"
        },
        "id": "zsmhAjaDOQFK",
        "outputId": "d786aa6b-c0e2-4d49-d7d9-011d2ca5cab7"
      },
      "source": [
        "test_image = test_image.reshape(1,-1)\n",
        "test_image.shape"
      ],
      "execution_count": 43,
      "outputs": [
        {
          "output_type": "execute_result",
          "data": {
            "text/plain": [
              "(1, 6)"
            ]
          },
          "metadata": {},
          "execution_count": 43
        }
      ]
    },
    {
      "cell_type": "code",
      "metadata": {
        "colab": {
          "base_uri": "https://localhost:8080/"
        },
        "id": "YwNz_BLCOSDZ",
        "outputId": "c7688686-fb30-4e00-e3c6-4e121422ace2"
      },
      "source": [
        "model_loaded.predict(test_image)[0][0]"
      ],
      "execution_count": 44,
      "outputs": [
        {
          "output_type": "stream",
          "name": "stdout",
          "text": [
            "1/1 [==============================] - 0s 55ms/step\n"
          ]
        },
        {
          "output_type": "execute_result",
          "data": {
            "text/plain": [
              "7.23779e-06"
            ]
          },
          "metadata": {},
          "execution_count": 44
        }
      ]
    },
    {
      "cell_type": "code",
      "metadata": {
        "colab": {
          "base_uri": "https://localhost:8080/"
        },
        "id": "0BnL0YF6OUVy",
        "outputId": "8c2928fb-7162-469a-ac07-24c1828334e4"
      },
      "source": [
        "if model_loaded.predict(test_image)[0][0] < 0.5:\n",
        "  print('Bart')\n",
        "else:\n",
        "  print('Homer')"
      ],
      "execution_count": 45,
      "outputs": [
        {
          "output_type": "stream",
          "name": "stdout",
          "text": [
            "1/1 [==============================] - 0s 25ms/step\n",
            "Bart\n"
          ]
        }
      ]
    }
  ]
}