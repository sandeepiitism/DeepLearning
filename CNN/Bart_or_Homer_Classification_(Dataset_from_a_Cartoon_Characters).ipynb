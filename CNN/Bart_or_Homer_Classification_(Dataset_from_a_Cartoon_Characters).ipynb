{
  "nbformat": 4,
  "nbformat_minor": 0,
  "metadata": {
    "colab": {
      "provenance": [],
      "gpuType": "T4"
    },
    "kernelspec": {
      "name": "python3",
      "display_name": "Python 3"
    },
    "accelerator": "GPU"
  },
  "cells": [
    {
      "cell_type": "markdown",
      "metadata": {
        "id": "Sd_h453YseEx"
      },
      "source": [
        "# **Bart** or **Homer** Classification (Dataset from a Cartoon Characters)"
      ]
    },
    {
      "cell_type": "markdown",
      "metadata": {
        "id": "nA9a2AFmsiFJ"
      },
      "source": [
        "### Importing the libraries"
      ]
    },
    {
      "cell_type": "code",
      "metadata": {
        "colab": {
          "base_uri": "https://localhost:8080/",
          "height": 36
        },
        "id": "GFTBW79STIEY",
        "outputId": "dc8dfd88-6880-4652-a5f9-8cdef5cfaf4a"
      },
      "source": [
        "import cv2\n",
        "import numpy as np\n",
        "import os\n",
        "import zipfile\n",
        "from google.colab.patches import cv2_imshow\n",
        "import tensorflow as tf\n",
        "import pandas as pd\n",
        "import seaborn as sns\n",
        "import matplotlib.pyplot as plt\n",
        "tf.__version__"
      ],
      "execution_count": 1,
      "outputs": [
        {
          "output_type": "execute_result",
          "data": {
            "text/plain": [
              "'2.14.0'"
            ],
            "application/vnd.google.colaboratory.intrinsic+json": {
              "type": "string"
            }
          },
          "metadata": {},
          "execution_count": 1
        }
      ]
    },
    {
      "cell_type": "markdown",
      "metadata": {
        "id": "lW1ZuebL-Vm8"
      },
      "source": [
        "### Extracting pixels from images"
      ]
    },
    {
      "cell_type": "code",
      "metadata": {
        "colab": {
          "base_uri": "https://localhost:8080/"
        },
        "id": "fkK5nGhKUdlI",
        "outputId": "61619700-cef8-4d12-a90f-7b9b17a30d3f"
      },
      "source": [
        "## loading the drive where the cartoon zip folder is stored\n",
        "from google.colab import drive\n",
        "drive.mount('/content/drive')"
      ],
      "execution_count": 2,
      "outputs": [
        {
          "output_type": "stream",
          "name": "stdout",
          "text": [
            "Mounted at /content/drive\n"
          ]
        }
      ]
    },
    {
      "cell_type": "code",
      "metadata": {
        "id": "QifI5PO1VMDK"
      },
      "source": [
        "# unzipping the cartoon folder\n",
        "path = '/content/drive/MyDrive/cartoon.zip'\n",
        "zip_object = zipfile.ZipFile(file = path, mode = 'r')\n",
        "zip_object.extractall('./')\n",
        "zip_object.close()"
      ],
      "execution_count": 3,
      "outputs": []
    },
    {
      "cell_type": "code",
      "metadata": {
        "colab": {
          "base_uri": "https://localhost:8080/"
        },
        "id": "ZujocpAoW6x5",
        "outputId": "81aa36d4-6388-4b38-cdeb-8a2e6325cb53"
      },
      "source": [
        "## adding all the images in the cartoon folder in a list using os.path and os.listdir function\n",
        "directory = '/content/cartoon'\n",
        "files = [os.path.join(directory, f) for f in sorted(os.listdir(directory))]\n",
        "print(files)"
      ],
      "execution_count": 4,
      "outputs": [
        {
          "output_type": "stream",
          "name": "stdout",
          "text": [
            "['/content/cartoon/.DS_Store', '/content/cartoon/bart1.bmp', '/content/cartoon/bart10.bmp', '/content/cartoon/bart100.bmp', '/content/cartoon/bart101.bmp', '/content/cartoon/bart102.bmp', '/content/cartoon/bart103.bmp', '/content/cartoon/bart104.bmp', '/content/cartoon/bart105.bmp', '/content/cartoon/bart106.bmp', '/content/cartoon/bart108.bmp', '/content/cartoon/bart109.bmp', '/content/cartoon/bart11.bmp', '/content/cartoon/bart110.bmp', '/content/cartoon/bart111.bmp', '/content/cartoon/bart112.bmp', '/content/cartoon/bart113.bmp', '/content/cartoon/bart114.bmp', '/content/cartoon/bart115.bmp', '/content/cartoon/bart116.bmp', '/content/cartoon/bart117.bmp', '/content/cartoon/bart118.bmp', '/content/cartoon/bart119.bmp', '/content/cartoon/bart12.bmp', '/content/cartoon/bart120.bmp', '/content/cartoon/bart121.bmp', '/content/cartoon/bart122.bmp', '/content/cartoon/bart123.bmp', '/content/cartoon/bart124.bmp', '/content/cartoon/bart125.bmp', '/content/cartoon/bart126.bmp', '/content/cartoon/bart127.bmp', '/content/cartoon/bart128.bmp', '/content/cartoon/bart13.bmp', '/content/cartoon/bart130.bmp', '/content/cartoon/bart131.bmp', '/content/cartoon/bart132.bmp', '/content/cartoon/bart133.bmp', '/content/cartoon/bart134.bmp', '/content/cartoon/bart135.bmp', '/content/cartoon/bart136.bmp', '/content/cartoon/bart137.bmp', '/content/cartoon/bart138.bmp', '/content/cartoon/bart139.bmp', '/content/cartoon/bart14.bmp', '/content/cartoon/bart141.bmp', '/content/cartoon/bart142.bmp', '/content/cartoon/bart143.bmp', '/content/cartoon/bart144.bmp', '/content/cartoon/bart145.bmp', '/content/cartoon/bart146.bmp', '/content/cartoon/bart147.bmp', '/content/cartoon/bart148.bmp', '/content/cartoon/bart149.bmp', '/content/cartoon/bart15.bmp', '/content/cartoon/bart150.bmp', '/content/cartoon/bart151.bmp', '/content/cartoon/bart153.bmp', '/content/cartoon/bart154.bmp', '/content/cartoon/bart155.bmp', '/content/cartoon/bart156.bmp', '/content/cartoon/bart157.bmp', '/content/cartoon/bart158.bmp', '/content/cartoon/bart159.bmp', '/content/cartoon/bart16.bmp', '/content/cartoon/bart160.bmp', '/content/cartoon/bart161.bmp', '/content/cartoon/bart162.bmp', '/content/cartoon/bart164.bmp', '/content/cartoon/bart165.bmp', '/content/cartoon/bart166.bmp', '/content/cartoon/bart167.bmp', '/content/cartoon/bart168.bmp', '/content/cartoon/bart169.bmp', '/content/cartoon/bart17.bmp', '/content/cartoon/bart18.bmp', '/content/cartoon/bart19.bmp', '/content/cartoon/bart2.bmp', '/content/cartoon/bart20.bmp', '/content/cartoon/bart21.bmp', '/content/cartoon/bart22.bmp', '/content/cartoon/bart23.bmp', '/content/cartoon/bart24.bmp', '/content/cartoon/bart25.bmp', '/content/cartoon/bart26.bmp', '/content/cartoon/bart27.bmp', '/content/cartoon/bart28.bmp', '/content/cartoon/bart29.bmp', '/content/cartoon/bart3.bmp', '/content/cartoon/bart30.bmp', '/content/cartoon/bart31.bmp', '/content/cartoon/bart32.bmp', '/content/cartoon/bart34.bmp', '/content/cartoon/bart35.bmp', '/content/cartoon/bart36.bmp', '/content/cartoon/bart37.bmp', '/content/cartoon/bart38.bmp', '/content/cartoon/bart39.bmp', '/content/cartoon/bart4.bmp', '/content/cartoon/bart40.bmp', '/content/cartoon/bart42.bmp', '/content/cartoon/bart43.bmp', '/content/cartoon/bart44.bmp', '/content/cartoon/bart45.bmp', '/content/cartoon/bart46.bmp', '/content/cartoon/bart47.bmp', '/content/cartoon/bart48.bmp', '/content/cartoon/bart49.bmp', '/content/cartoon/bart5.bmp', '/content/cartoon/bart50.bmp', '/content/cartoon/bart51.bmp', '/content/cartoon/bart52.bmp', '/content/cartoon/bart53.bmp', '/content/cartoon/bart54.bmp', '/content/cartoon/bart55.bmp', '/content/cartoon/bart56.bmp', '/content/cartoon/bart57.bmp', '/content/cartoon/bart58.bmp', '/content/cartoon/bart59.bmp', '/content/cartoon/bart6.bmp', '/content/cartoon/bart60.bmp', '/content/cartoon/bart61.bmp', '/content/cartoon/bart62.bmp', '/content/cartoon/bart63.bmp', '/content/cartoon/bart64.bmp', '/content/cartoon/bart65.bmp', '/content/cartoon/bart66.bmp', '/content/cartoon/bart67.bmp', '/content/cartoon/bart68.bmp', '/content/cartoon/bart69.bmp', '/content/cartoon/bart7.bmp', '/content/cartoon/bart70.bmp', '/content/cartoon/bart71.bmp', '/content/cartoon/bart72.bmp', '/content/cartoon/bart73.bmp', '/content/cartoon/bart74.bmp', '/content/cartoon/bart75.bmp', '/content/cartoon/bart76.bmp', '/content/cartoon/bart77.bmp', '/content/cartoon/bart79.bmp', '/content/cartoon/bart8.bmp', '/content/cartoon/bart80.bmp', '/content/cartoon/bart81.bmp', '/content/cartoon/bart82.bmp', '/content/cartoon/bart83.bmp', '/content/cartoon/bart84.bmp', '/content/cartoon/bart85.bmp', '/content/cartoon/bart86.bmp', '/content/cartoon/bart87.bmp', '/content/cartoon/bart89.bmp', '/content/cartoon/bart9.bmp', '/content/cartoon/bart90.bmp', '/content/cartoon/bart91.bmp', '/content/cartoon/bart92.bmp', '/content/cartoon/bart93.bmp', '/content/cartoon/bart94.bmp', '/content/cartoon/bart95.bmp', '/content/cartoon/bart96.bmp', '/content/cartoon/bart97.bmp', '/content/cartoon/bart98.bmp', '/content/cartoon/bart99.bmp', '/content/cartoon/homer1.bmp', '/content/cartoon/homer10.bmp', '/content/cartoon/homer100.bmp', '/content/cartoon/homer101.bmp', '/content/cartoon/homer102.bmp', '/content/cartoon/homer103.bmp', '/content/cartoon/homer104.bmp', '/content/cartoon/homer105.bmp', '/content/cartoon/homer106.bmp', '/content/cartoon/homer107.bmp', '/content/cartoon/homer109.bmp', '/content/cartoon/homer110.bmp', '/content/cartoon/homer112.bmp', '/content/cartoon/homer113.bmp', '/content/cartoon/homer115.bmp', '/content/cartoon/homer116.bmp', '/content/cartoon/homer117.bmp', '/content/cartoon/homer119.bmp', '/content/cartoon/homer120.bmp', '/content/cartoon/homer121.bmp', '/content/cartoon/homer122.bmp', '/content/cartoon/homer123.bmp', '/content/cartoon/homer124.bmp', '/content/cartoon/homer13.bmp', '/content/cartoon/homer14.bmp', '/content/cartoon/homer15.bmp', '/content/cartoon/homer16.bmp', '/content/cartoon/homer17.bmp', '/content/cartoon/homer18.bmp', '/content/cartoon/homer2.bmp', '/content/cartoon/homer20.bmp', '/content/cartoon/homer21.bmp', '/content/cartoon/homer22.bmp', '/content/cartoon/homer23.bmp', '/content/cartoon/homer24.bmp', '/content/cartoon/homer26.bmp', '/content/cartoon/homer27.bmp', '/content/cartoon/homer28.bmp', '/content/cartoon/homer29.bmp', '/content/cartoon/homer3.bmp', '/content/cartoon/homer30.bmp', '/content/cartoon/homer31.bmp', '/content/cartoon/homer32.bmp', '/content/cartoon/homer33.bmp', '/content/cartoon/homer34.bmp', '/content/cartoon/homer35.bmp', '/content/cartoon/homer36.bmp', '/content/cartoon/homer37.bmp', '/content/cartoon/homer38.bmp', '/content/cartoon/homer4.bmp', '/content/cartoon/homer40.bmp', '/content/cartoon/homer41.bmp', '/content/cartoon/homer43.bmp', '/content/cartoon/homer44.bmp', '/content/cartoon/homer45.bmp', '/content/cartoon/homer46.bmp', '/content/cartoon/homer47.bmp', '/content/cartoon/homer48.bmp', '/content/cartoon/homer49.bmp', '/content/cartoon/homer5.bmp', '/content/cartoon/homer50.bmp', '/content/cartoon/homer51.bmp', '/content/cartoon/homer52.bmp', '/content/cartoon/homer54.bmp', '/content/cartoon/homer55.bmp', '/content/cartoon/homer56.bmp', '/content/cartoon/homer57.bmp', '/content/cartoon/homer58.bmp', '/content/cartoon/homer59.bmp', '/content/cartoon/homer6.bmp', '/content/cartoon/homer60.bmp', '/content/cartoon/homer61.bmp', '/content/cartoon/homer62.bmp', '/content/cartoon/homer63.bmp', '/content/cartoon/homer65.bmp', '/content/cartoon/homer66.bmp', '/content/cartoon/homer68.bmp', '/content/cartoon/homer69.bmp', '/content/cartoon/homer7.bmp', '/content/cartoon/homer70.bmp', '/content/cartoon/homer71.bmp', '/content/cartoon/homer72.bmp', '/content/cartoon/homer73.bmp', '/content/cartoon/homer74.bmp', '/content/cartoon/homer75.bmp', '/content/cartoon/homer76.bmp', '/content/cartoon/homer77.bmp', '/content/cartoon/homer78.bmp', '/content/cartoon/homer79.bmp', '/content/cartoon/homer8.bmp', '/content/cartoon/homer80.bmp', '/content/cartoon/homer81.bmp', '/content/cartoon/homer82.bmp', '/content/cartoon/homer83.bmp', '/content/cartoon/homer84.bmp', '/content/cartoon/homer85.bmp', '/content/cartoon/homer86.bmp', '/content/cartoon/homer87.bmp', '/content/cartoon/homer9.bmp', '/content/cartoon/homer90.bmp', '/content/cartoon/homer91.bmp', '/content/cartoon/homer92.bmp', '/content/cartoon/homer93.bmp', '/content/cartoon/homer94.bmp', '/content/cartoon/homer95.bmp', '/content/cartoon/homer96.bmp', '/content/cartoon/homer97.bmp', '/content/cartoon/homer98.bmp', '/content/cartoon/homer99.bmp']\n"
          ]
        }
      ]
    },
    {
      "cell_type": "code",
      "metadata": {
        "id": "KFshwyM3X2mn"
      },
      "source": [
        "## lets try to convert all the images in this format size for fast training\n",
        "height, width = 128, 128"
      ],
      "execution_count": 7,
      "outputs": []
    },
    {
      "cell_type": "code",
      "metadata": {
        "id": "ddp3VtlHZCSi"
      },
      "source": [
        "## for classification we need images and their labels\n",
        "images = []\n",
        "classes = []"
      ],
      "execution_count": 6,
      "outputs": []
    },
    {
      "cell_type": "code",
      "source": [
        "## try and except because folder also has a \"cartoon/.DS_Store\" which can't be extracted\n",
        "for image_path in files:\n",
        "  try:\n",
        "    image = cv2.imread(image_path)\n",
        "    (H, W) = image.shape[:2]\n",
        "    # print(image_path)\n",
        "  except:\n",
        "    continue\n",
        "\n",
        "# image = cv2.reshape[image, (width, height)]"
      ],
      "metadata": {
        "id": "QOY1HOkvu1DI"
      },
      "execution_count": 9,
      "outputs": []
    },
    {
      "cell_type": "markdown",
      "source": [
        "To understand why using [:2] because don't want to consider the color channels"
      ],
      "metadata": {
        "id": "HYQMemJgwBrl"
      }
    },
    {
      "cell_type": "code",
      "metadata": {
        "colab": {
          "base_uri": "https://localhost:8080/"
        },
        "id": "UeGcoXzhbEb1",
        "outputId": "e87a50b7-4284-44ce-ff31-33364c8af1ec"
      },
      "source": [
        "image.shape"
      ],
      "execution_count": 10,
      "outputs": [
        {
          "output_type": "execute_result",
          "data": {
            "text/plain": [
              "(742, 509, 3)"
            ]
          },
          "metadata": {},
          "execution_count": 10
        }
      ]
    },
    {
      "cell_type": "code",
      "source": [
        "image.shape[:2]"
      ],
      "metadata": {
        "colab": {
          "base_uri": "https://localhost:8080/"
        },
        "id": "PdRvIA1xv9xQ",
        "outputId": "b7f95923-4eeb-48bb-9d32-99a60da801cb"
      },
      "execution_count": 11,
      "outputs": [
        {
          "output_type": "execute_result",
          "data": {
            "text/plain": [
              "(742, 509)"
            ]
          },
          "metadata": {},
          "execution_count": 11
        }
      ]
    },
    {
      "cell_type": "code",
      "source": [
        "## resizing the image as above width, height = 128, 128 is already mentioned\n",
        "image = cv2.resize(image, (width, height))"
      ],
      "metadata": {
        "id": "zhVPln1ewRku"
      },
      "execution_count": 14,
      "outputs": []
    },
    {
      "cell_type": "code",
      "source": [
        "## lets confirm whether the images turned to 128,128 from 742, 509\n",
        "image.shape[:2]"
      ],
      "metadata": {
        "colab": {
          "base_uri": "https://localhost:8080/"
        },
        "id": "wXvbR-r5w8ST",
        "outputId": "4df6460d-4a73-49ba-ce4e-7b4818f5c155"
      },
      "execution_count": 15,
      "outputs": [
        {
          "output_type": "execute_result",
          "data": {
            "text/plain": [
              "(128, 128)"
            ]
          },
          "metadata": {},
          "execution_count": 15
        }
      ]
    },
    {
      "cell_type": "code",
      "metadata": {
        "id": "nz08K9M6dt8l"
      },
      "source": [
        "## input layer if all three channels are used = 128 * 128 * 3 = 49152 parameters\n",
        "## input layer if only gray scale is used = 128 * 128 = 16384 parameters is used --> better choice to use gray scale"
      ],
      "execution_count": 16,
      "outputs": []
    },
    {
      "cell_type": "code",
      "source": [
        "## so sonverting to gray scale\n",
        "image = cv2.cvtColor(image, cv2.COLOR_BGR2GRAY)"
      ],
      "metadata": {
        "id": "AG6NdVxrxnGf"
      },
      "execution_count": 17,
      "outputs": []
    },
    {
      "cell_type": "code",
      "source": [
        "## displaying the gray scale images:\n",
        "cv2_imshow(image)\n",
        "print(image.shape)"
      ],
      "metadata": {
        "colab": {
          "base_uri": "https://localhost:8080/",
          "height": 162
        },
        "id": "XG7n0TJfxx0s",
        "outputId": "4e0cb802-fef8-4d93-db04-b314abe78519"
      },
      "execution_count": 18,
      "outputs": [
        {
          "output_type": "display_data",
          "data": {
            "text/plain": [
              "<PIL.Image.Image image mode=L size=128x128>"
            ],
            "image/png": "[encoded data removed]"
          },
          "metadata": {}
        },
        {
          "output_type": "stream",
          "name": "stdout",
          "text": [
            "(128, 128)\n"
          ]
        }
      ]
    },
    {
      "cell_type": "code",
      "source": [
        "## creat input vector as 128x128=16384 format\n",
        "cv2_imshow(image)\n",
        "image = image.ravel()\n",
        "print(image.shape)\n"
      ],
      "metadata": {
        "colab": {
          "base_uri": "https://localhost:8080/",
          "height": 162
        },
        "id": "HI1UbaOVyavI",
        "outputId": "cefec59d-22e5-4bbe-f720-af3e05a022fc"
      },
      "execution_count": 19,
      "outputs": [
        {
          "output_type": "display_data",
          "data": {
            "text/plain": [
              "<PIL.Image.Image image mode=L size=128x128>"
            ],
            "image/png": "[encoded data removed]"
          },
          "metadata": {}
        },
        {
          "output_type": "stream",
          "name": "stdout",
          "text": [
            "(16384,)\n"
          ]
        }
      ]
    },
    {
      "cell_type": "code",
      "source": [
        "## appending the above in image = []\n",
        "images = []\n",
        "images.append(image)\n",
        "\n",
        "# Convert the list of NumPy arrays to a NumPy array orelse you might face 'numpy.ndarray' object has no attribute 'append'\n",
        "images_array = np.array(images)\n",
        "print(images_array)"
      ],
      "metadata": {
        "colab": {
          "base_uri": "https://localhost:8080/"
        },
        "id": "elJSa3ALyzHg",
        "outputId": "9b687fba-6fbd-4228-8d96-b201104de767"
      },
      "execution_count": 36,
      "outputs": [
        {
          "output_type": "stream",
          "name": "stdout",
          "text": [
            "[[255 255 255 ... 255 255 255]]\n"
          ]
        }
      ]
    },
    {
      "cell_type": "code",
      "source": [
        "## creating binary classes as 0 and 1 and images as np.array (0,255....)\n",
        "\n",
        "import cv2\n",
        "import numpy as np\n",
        "\n",
        "# Assuming you have defined width and height somewhere in your code\n",
        "width = 128\n",
        "height = 128\n",
        "\n",
        "# Initialize an empty list to store NumPy arrays\n",
        "images = []\n",
        "classes = []\n",
        "\n",
        "for image_path in files:\n",
        "    try:\n",
        "        image = cv2.imread(image_path)\n",
        "        (H, W) = image.shape[:2]\n",
        "    except Exception as e:\n",
        "        print(f\"Error reading image {image_path}: {e}\")\n",
        "        continue\n",
        "\n",
        "    image = cv2.resize(image, (width, height))\n",
        "    image = cv2.cvtColor(image, cv2.COLOR_BGR2GRAY)\n",
        "\n",
        "    image = image.ravel()\n",
        "    images.append(image)\n",
        "\n",
        "  ## adding classes as 0 or 1 depending on whether cartoon character name start with b or not\n",
        "    image_name = os.path.basename(os.path.normpath(image_path))\n",
        "    if image_name.startswith('b'):\n",
        "      class_name = 0\n",
        "    else:\n",
        "      class_name = 1\n",
        "\n",
        "    classes.append(class_name)\n",
        "\n",
        "# Convert the list of NumPy arrays to a NumPy array orelse you might face 'numpy.ndarray' object has no attribute 'append'\n",
        "images_array = np.array(images)\n",
        "classes_array = np.array(classes)\n",
        "# print(images_array)\n",
        "#print(classes_array)\n"
      ],
      "metadata": {
        "colab": {
          "base_uri": "https://localhost:8080/"
        },
        "id": "iWsm_t8O26X4",
        "outputId": "ffa67988-a568-468b-aafd-527582994877"
      },
      "execution_count": 47,
      "outputs": [
        {
          "output_type": "stream",
          "name": "stdout",
          "text": [
            "Error reading image /content/cartoon/.DS_Store: 'NoneType' object has no attribute 'shape'\n"
          ]
        }
      ]
    },
    {
      "cell_type": "code",
      "metadata": {
        "colab": {
          "base_uri": "https://localhost:8080/"
        },
        "id": "cnJIYcDSkwZI",
        "outputId": "108adc87-c292-423b-848d-ee8509ab6be4"
      },
      "source": [
        "images"
      ],
      "execution_count": 48,
      "outputs": [
        {
          "output_type": "execute_result",
          "data": {
            "text/plain": [
              "[array([255, 255, 255, ..., 255, 255, 255], dtype=uint8),\n",
              " array([254, 254, 254, ..., 254, 254, 254], dtype=uint8),\n",
              " array([255, 255, 255, ..., 255, 255, 255], dtype=uint8),\n",
              " array([255, 255, 255, ..., 128, 123, 124], dtype=uint8),\n",
              " array([255, 255, 255, ..., 255, 255, 255], dtype=uint8),\n",
              " array([255, 255, 255, ..., 255, 255, 255], dtype=uint8),\n",
              " array([255, 255, 255, ..., 255, 255, 255], dtype=uint8),\n",
              " array([255, 255, 255, ..., 255, 255, 255], dtype=uint8),\n",
              " array([255, 255, 255, ..., 255, 255, 255], dtype=uint8),\n",
              " array([255, 255, 255, ..., 255, 255, 255], dtype=uint8),\n",
              " array([255, 255, 255, ..., 255, 255, 255], dtype=uint8),\n",
              " array([254, 254, 254, ..., 254, 254, 254], dtype=uint8),\n",
              " array([255, 255, 255, ..., 255, 255, 255], dtype=uint8),\n",
              " array([255, 255, 255, ..., 255, 255, 255], dtype=uint8),\n",
              " array([255, 255, 255, ..., 255, 255, 255], dtype=uint8),\n",
              " array([255, 255, 255, ..., 255, 255, 255], dtype=uint8),\n",
              " array([255, 255, 255, ..., 255, 255, 255], dtype=uint8),\n",
              " array([255, 255, 255, ..., 255, 255, 255], dtype=uint8),\n",
              " array([255, 255, 255, ..., 255, 255, 255], dtype=uint8),\n",
              " array([255, 255, 255, ..., 255, 255, 255], dtype=uint8),\n",
              " array([255, 255, 255, ..., 252, 255, 255], dtype=uint8),\n",
              " array([255, 255, 255, ..., 255, 255, 255], dtype=uint8),\n",
              " array([255, 255, 255, ..., 255, 255, 255], dtype=uint8),\n",
              " array([255, 255, 255, ..., 255, 255, 255], dtype=uint8),\n",
              " array([255, 255, 255, ..., 255, 255, 255], dtype=uint8),\n",
              " array([255, 255, 255, ..., 255, 255, 255], dtype=uint8),\n",
              " array([255, 255, 255, ..., 255, 255, 255], dtype=uint8),\n",
              " array([255, 255, 255, ..., 255, 255, 255], dtype=uint8),\n",
              " array([255, 255, 255, ..., 255, 255, 255], dtype=uint8),\n",
              " array([255, 255, 255, ..., 255, 255, 255], dtype=uint8),\n",
              " array([255, 255, 255, ..., 255, 255, 255], dtype=uint8),\n",
              " array([255, 255, 255, ..., 255, 255, 255], dtype=uint8),\n",
              " array([255, 255, 255, ..., 255, 255, 255], dtype=uint8),\n",
              " array([255, 255, 255, ..., 255, 255, 255], dtype=uint8),\n",
              " array([255, 255, 255, ..., 253, 252, 253], dtype=uint8),\n",
              " array([255, 255, 255, ..., 255, 255, 255], dtype=uint8),\n",
              " array([255, 255, 255, ..., 255, 255, 255], dtype=uint8),\n",
              " array([255, 255, 255, ..., 255, 255, 255], dtype=uint8),\n",
              " array([255, 255, 255, ..., 255, 255, 255], dtype=uint8),\n",
              " array([255, 255, 255, ..., 255, 255, 255], dtype=uint8),\n",
              " array([255, 255, 255, ..., 255, 255, 255], dtype=uint8),\n",
              " array([255, 255, 255, ..., 255, 255, 255], dtype=uint8),\n",
              " array([255, 255, 255, ..., 255, 255, 255], dtype=uint8),\n",
              " array([255, 255, 255, ..., 255, 255, 255], dtype=uint8),\n",
              " array([255, 255, 255, ..., 255, 255, 254], dtype=uint8),\n",
              " array([255, 255, 255, ..., 255, 255, 255], dtype=uint8),\n",
              " array([255, 255, 255, ..., 254, 255, 255], dtype=uint8),\n",
              " array([255, 255, 255, ..., 255, 255, 255], dtype=uint8),\n",
              " array([254, 255, 254, ..., 255, 254, 255], dtype=uint8),\n",
              " array([255, 255, 255, ..., 255, 255, 255], dtype=uint8),\n",
              " array([255, 255, 255, ..., 255, 255, 255], dtype=uint8),\n",
              " array([255, 255, 255, ..., 255, 255, 255], dtype=uint8),\n",
              " array([255, 255, 252, ..., 252, 255, 255], dtype=uint8),\n",
              " array([254, 254, 254, ..., 254, 254, 254], dtype=uint8),\n",
              " array([255, 255, 255, ..., 255, 255, 255], dtype=uint8),\n",
              " array([255, 255, 255, ..., 255, 255, 255], dtype=uint8),\n",
              " array([255, 255, 255, ..., 255, 255, 255], dtype=uint8),\n",
              " array([255, 255, 255, ..., 255, 255, 255], dtype=uint8),\n",
              " array([255, 255, 255, ..., 255, 255, 255], dtype=uint8),\n",
              " array([255, 255, 255, ..., 255, 255, 255], dtype=uint8),\n",
              " array([255, 255, 255, ..., 255, 255, 255], dtype=uint8),\n",
              " array([255, 255, 255, ..., 255, 255, 255], dtype=uint8),\n",
              " array([255, 255, 255, ..., 255, 255, 255], dtype=uint8),\n",
              " array([254, 254, 254, ..., 254, 254, 254], dtype=uint8),\n",
              " array([255, 255, 255, ..., 255, 255, 255], dtype=uint8),\n",
              " array([255, 255, 255, ..., 255, 255, 255], dtype=uint8),\n",
              " array([255, 255, 255, ..., 255, 255, 255], dtype=uint8),\n",
              " array([255, 255, 255, ..., 255, 255, 255], dtype=uint8),\n",
              " array([255, 255, 255, ..., 255, 255, 255], dtype=uint8),\n",
              " array([255, 255, 255, ..., 255, 255, 255], dtype=uint8),\n",
              " array([255, 255, 255, ..., 255, 255, 255], dtype=uint8),\n",
              " array([255, 255, 255, ..., 255, 255, 255], dtype=uint8),\n",
              " array([255, 255, 255, ..., 255, 255, 255], dtype=uint8),\n",
              " array([254, 254, 254, ..., 254, 254, 254], dtype=uint8),\n",
              " array([254, 254, 254, ..., 254, 254, 254], dtype=uint8),\n",
              " array([254, 254, 254, ..., 254, 254, 254], dtype=uint8),\n",
              " array([254, 254, 254, ..., 254, 254, 254], dtype=uint8),\n",
              " array([254, 254, 254, ..., 254, 254, 254], dtype=uint8),\n",
              " array([254, 254, 254, ..., 254, 254, 254], dtype=uint8),\n",
              " array([254, 254, 254, ..., 254, 254, 254], dtype=uint8),\n",
              " array([255, 255, 255, ..., 255, 255, 255], dtype=uint8),\n",
              " array([255, 255, 255, ..., 255, 255, 255], dtype=uint8),\n",
              " array([255, 255, 255, ..., 255, 255, 255], dtype=uint8),\n",
              " array([255, 255, 255, ..., 255, 255, 255], dtype=uint8),\n",
              " array([255, 255, 255, ..., 255, 255, 255], dtype=uint8),\n",
              " array([255, 255, 255, ..., 255, 255, 255], dtype=uint8),\n",
              " array([254, 254, 254, ..., 254, 254, 254], dtype=uint8),\n",
              " array([255, 255, 255, ..., 255, 255, 255], dtype=uint8),\n",
              " array([254, 254, 254, ..., 254, 254, 254], dtype=uint8),\n",
              " array([254, 254, 254, ..., 254, 254, 254], dtype=uint8),\n",
              " array([255, 254, 255, ..., 255, 255, 255], dtype=uint8),\n",
              " array([255, 255, 255, ..., 255, 255, 255], dtype=uint8),\n",
              " array([255, 255, 255, ..., 255, 255, 255], dtype=uint8),\n",
              " array([255, 255, 255, ..., 255, 255, 255], dtype=uint8),\n",
              " array([255, 255, 255, ..., 255, 255, 255], dtype=uint8),\n",
              " array([255, 255, 255, ..., 255, 255, 255], dtype=uint8),\n",
              " array([255, 255, 255, ..., 254, 255, 255], dtype=uint8),\n",
              " array([255, 255, 255, ..., 255, 255, 255], dtype=uint8),\n",
              " array([255, 255, 255, ..., 255, 255, 255], dtype=uint8),\n",
              " array([255, 255, 255, ..., 255, 255, 255], dtype=uint8),\n",
              " array([255, 255, 255, ..., 255, 255, 255], dtype=uint8),\n",
              " array([255, 255, 255, ..., 255, 255, 255], dtype=uint8),\n",
              " array([255, 255, 255, ..., 255, 255, 255], dtype=uint8),\n",
              " array([255, 255, 255, ..., 255, 255, 255], dtype=uint8),\n",
              " array([255, 255, 255, ..., 255, 255, 255], dtype=uint8),\n",
              " array([255, 255, 255, ..., 255, 255, 255], dtype=uint8),\n",
              " array([255, 255, 255, ..., 255, 255, 255], dtype=uint8),\n",
              " array([255, 255, 255, ..., 255, 255, 255], dtype=uint8),\n",
              " array([255, 255, 255, ..., 255, 255, 255], dtype=uint8),\n",
              " array([255, 255, 255, ..., 255, 255, 255], dtype=uint8),\n",
              " array([255, 255, 255, ..., 255, 255, 255], dtype=uint8),\n",
              " array([255, 255, 255, ..., 255, 255, 255], dtype=uint8),\n",
              " array([252, 251, 249, ..., 245, 249, 252], dtype=uint8),\n",
              " array([255, 255, 254, ..., 255, 255, 255], dtype=uint8),\n",
              " array([255, 254, 252, ..., 252, 255, 253], dtype=uint8),\n",
              " array([255, 254, 255, ..., 252, 255, 254], dtype=uint8),\n",
              " array([255, 255, 255, ..., 255, 255, 255], dtype=uint8),\n",
              " array([255, 255, 255, ..., 255, 255, 255], dtype=uint8),\n",
              " array([255, 255, 255, ..., 255, 255, 255], dtype=uint8),\n",
              " array([255, 255, 255, ..., 255, 255, 255], dtype=uint8),\n",
              " array([255, 255, 255, ..., 255, 255, 255], dtype=uint8),\n",
              " array([255, 255, 255, ..., 255, 255, 255], dtype=uint8),\n",
              " array([255, 255, 255, ..., 255, 255, 255], dtype=uint8),\n",
              " array([255, 255, 255, ..., 255, 255, 255], dtype=uint8),\n",
              " array([255, 255, 255, ..., 255, 255, 255], dtype=uint8),\n",
              " array([255, 255, 255, ..., 255, 255, 255], dtype=uint8),\n",
              " array([255, 255, 255, ..., 255, 255, 255], dtype=uint8),\n",
              " array([255, 255, 255, ..., 255, 255, 255], dtype=uint8),\n",
              " array([255, 255, 255, ..., 255, 255, 255], dtype=uint8),\n",
              " array([255, 255, 255, ..., 255, 255, 255], dtype=uint8),\n",
              " array([255, 255, 255, ..., 255, 255, 255], dtype=uint8),\n",
              " array([255, 255, 255, ..., 255, 255, 255], dtype=uint8),\n",
              " array([255, 255, 255, ..., 255, 255, 255], dtype=uint8),\n",
              " array([255, 255, 255, ..., 255, 255, 255], dtype=uint8),\n",
              " array([255, 255, 255, ..., 255, 255, 255], dtype=uint8),\n",
              " array([176, 176, 176, ..., 255, 255, 255], dtype=uint8),\n",
              " array([255, 255, 255, ..., 255, 255, 255], dtype=uint8),\n",
              " array([255, 255, 255, ..., 255, 255, 255], dtype=uint8),\n",
              " array([255, 255, 255, ..., 255, 255, 255], dtype=uint8),\n",
              " array([255, 255, 255, ..., 255, 255, 255], dtype=uint8),\n",
              " array([255, 255, 255, ..., 255, 255, 255], dtype=uint8),\n",
              " array([255, 255, 255, ..., 255, 255, 255], dtype=uint8),\n",
              " array([255, 255, 255, ..., 255, 255, 255], dtype=uint8),\n",
              " array([255, 255, 255, ..., 255, 255, 255], dtype=uint8),\n",
              " array([255, 255, 255, ..., 255, 255, 255], dtype=uint8),\n",
              " array([255, 255, 255, ..., 255, 255, 255], dtype=uint8),\n",
              " array([255, 255, 255, ..., 255, 255, 255], dtype=uint8),\n",
              " array([255, 255, 255, ..., 255, 255, 255], dtype=uint8),\n",
              " array([255, 255, 255, ..., 255, 255, 255], dtype=uint8),\n",
              " array([254, 254, 254, ..., 254, 254, 254], dtype=uint8),\n",
              " array([255, 255, 255, ..., 255, 253, 251], dtype=uint8),\n",
              " array([255, 255, 255, ..., 255, 255, 255], dtype=uint8),\n",
              " array([255, 255, 255, ..., 255, 255, 255], dtype=uint8),\n",
              " array([255, 255, 255, ..., 252, 253, 251], dtype=uint8),\n",
              " array([255, 255, 255, ..., 255, 255, 255], dtype=uint8),\n",
              " array([255, 255, 255, ..., 255, 255, 255], dtype=uint8),\n",
              " array([255, 255, 255, ..., 255, 255, 255], dtype=uint8),\n",
              " array([255, 255, 255, ..., 255, 255, 255], dtype=uint8),\n",
              " array([255, 255, 255, ..., 255, 255, 255], dtype=uint8),\n",
              " array([255, 255, 255, ..., 255, 255, 255], dtype=uint8),\n",
              " array([254, 254, 254, ..., 254, 254, 254], dtype=uint8),\n",
              " array([255, 255, 255, ..., 255, 255, 255], dtype=uint8),\n",
              " array([255, 255, 255, ..., 255, 255, 255], dtype=uint8),\n",
              " array([255, 255, 255, ..., 255, 255, 255], dtype=uint8),\n",
              " array([255, 255, 255, ..., 255, 255, 255], dtype=uint8),\n",
              " array([255, 255, 255, ...,  66,   8, 207], dtype=uint8),\n",
              " array([255, 255, 255, ..., 165, 255, 255], dtype=uint8),\n",
              " array([255, 255, 255, ..., 162,  17, 254], dtype=uint8),\n",
              " array([255, 255, 255, ..., 255, 255, 255], dtype=uint8),\n",
              " array([255, 255, 255, ..., 182,  90, 255], dtype=uint8),\n",
              " array([255, 255, 255, ..., 255, 255, 255], dtype=uint8),\n",
              " array([255, 255, 255, ..., 182, 182,  53], dtype=uint8),\n",
              " array([255, 255, 255, ..., 255, 255, 255], dtype=uint8),\n",
              " array([255, 255, 255, ..., 255, 255, 255], dtype=uint8),\n",
              " array([255, 255, 255, ..., 255, 255, 255], dtype=uint8),\n",
              " array([255, 255, 255, ..., 255, 255, 255], dtype=uint8),\n",
              " array([255, 255, 255, ..., 255, 255, 255], dtype=uint8),\n",
              " array([255, 255, 255, ..., 255, 255, 255], dtype=uint8),\n",
              " array([255, 255, 255, ..., 255, 255, 255], dtype=uint8),\n",
              " array([255, 255, 255, ..., 255, 255, 255], dtype=uint8),\n",
              " array([255, 255, 255, ..., 255, 255, 255], dtype=uint8),\n",
              " array([255, 255, 255, ..., 255, 255, 255], dtype=uint8),\n",
              " array([255, 255, 255, ..., 255, 255, 255], dtype=uint8),\n",
              " array([255, 255, 255, ..., 255, 255, 255], dtype=uint8),\n",
              " array([255, 255, 255, ..., 255, 255, 255], dtype=uint8),\n",
              " array([255, 255, 255, ..., 255, 255, 255], dtype=uint8),\n",
              " array([255, 255, 255, ..., 255, 255, 255], dtype=uint8),\n",
              " array([255, 255, 255, ..., 255, 255, 255], dtype=uint8),\n",
              " array([255, 255, 255, ..., 255, 255, 255], dtype=uint8),\n",
              " array([255, 255, 255, ..., 255, 255, 255], dtype=uint8),\n",
              " array([255, 255, 255, ..., 255, 255, 255], dtype=uint8),\n",
              " array([255, 255, 255, ..., 255, 255, 255], dtype=uint8),\n",
              " array([255, 255, 255, ..., 255, 255, 255], dtype=uint8),\n",
              " array([255, 255, 255, ..., 255, 255, 255], dtype=uint8),\n",
              " array([255, 255, 255, ..., 255, 255, 255], dtype=uint8),\n",
              " array([255, 255, 255, ..., 255, 255, 255], dtype=uint8),\n",
              " array([255, 255, 255, ..., 255, 255, 255], dtype=uint8),\n",
              " array([255, 255, 255, ...,  28, 255, 255], dtype=uint8),\n",
              " array([255, 255, 255, ..., 255, 255, 255], dtype=uint8),\n",
              " array([255, 255, 255, ..., 182, 103, 111], dtype=uint8),\n",
              " array([255, 255, 255, ..., 255, 255, 255], dtype=uint8),\n",
              " array([255, 255, 255, ..., 255, 255, 255], dtype=uint8),\n",
              " array([255, 255, 255, ..., 255, 255, 255], dtype=uint8),\n",
              " array([252, 255, 253, ..., 255, 255, 255], dtype=uint8),\n",
              " array([255, 255, 255, ..., 255, 255, 255], dtype=uint8),\n",
              " array([255, 255, 255, ..., 255, 255, 255], dtype=uint8),\n",
              " array([255, 255, 255, ..., 255, 255, 255], dtype=uint8),\n",
              " array([250, 252, 252, ..., 255, 255, 255], dtype=uint8),\n",
              " array([255, 255, 255, ...,  71,  49, 255], dtype=uint8),\n",
              " array([255, 255, 255, ..., 255, 255, 255], dtype=uint8),\n",
              " array([255, 255, 255, ..., 255, 255, 255], dtype=uint8),\n",
              " array([255, 255, 255, ..., 255, 255, 255], dtype=uint8),\n",
              " array([255, 255, 255, ..., 255, 255, 255], dtype=uint8),\n",
              " array([255, 255, 255, ..., 255, 255, 255], dtype=uint8),\n",
              " array([255, 255, 255, ..., 184, 142, 255], dtype=uint8),\n",
              " array([255, 255, 255, ..., 255, 255, 255], dtype=uint8),\n",
              " array([255, 255, 255, ..., 255, 255, 255], dtype=uint8),\n",
              " array([255, 255, 255, ..., 255, 255, 255], dtype=uint8),\n",
              " array([255, 255, 255, ..., 255, 255, 255], dtype=uint8),\n",
              " array([255, 255, 255, ..., 255, 255, 255], dtype=uint8),\n",
              " array([255, 255, 255, ..., 255, 255, 255], dtype=uint8),\n",
              " array([255, 255, 255, ..., 255, 255, 255], dtype=uint8),\n",
              " array([255, 255, 255, ..., 255, 255, 251], dtype=uint8),\n",
              " array([255, 255, 255, ..., 255, 255, 255], dtype=uint8),\n",
              " array([255, 255, 255, ..., 255, 255, 255], dtype=uint8),\n",
              " array([255, 255, 255, ..., 255, 255, 255], dtype=uint8),\n",
              " array([255, 255, 255, ..., 255, 255, 255], dtype=uint8),\n",
              " array([255, 255, 255, ..., 255, 255, 255], dtype=uint8),\n",
              " array([255, 255, 255, ..., 255, 255, 255], dtype=uint8),\n",
              " array([255, 255, 255, ..., 255, 255, 255], dtype=uint8),\n",
              " array([255, 255, 255, ..., 255, 255, 255], dtype=uint8),\n",
              " array([255, 255, 255, ..., 255, 255, 255], dtype=uint8),\n",
              " array([255, 255, 255, ..., 182, 229, 255], dtype=uint8),\n",
              " array([64, 63, 63, ..., 63, 63, 63], dtype=uint8),\n",
              " array([255, 255, 255, ..., 255, 255, 255], dtype=uint8),\n",
              " array([255, 255, 255, ..., 255, 255, 255], dtype=uint8),\n",
              " array([255, 255, 255, ..., 255, 255, 255], dtype=uint8),\n",
              " array([255, 255, 255, ..., 255, 255, 255], dtype=uint8),\n",
              " array([255, 255, 255, ..., 255, 255, 255], dtype=uint8),\n",
              " array([255, 253, 253, ..., 255, 255, 255], dtype=uint8),\n",
              " array([255, 255, 255, ..., 255, 255, 255], dtype=uint8),\n",
              " array([255, 255, 255, ..., 255, 255, 255], dtype=uint8),\n",
              " array([255, 255, 255, ..., 255, 255, 255], dtype=uint8),\n",
              " array([255, 255, 255, ..., 255, 255, 255], dtype=uint8),\n",
              " array([255, 255, 255, ..., 255, 255, 255], dtype=uint8),\n",
              " array([255, 255, 255, ..., 255, 255, 255], dtype=uint8),\n",
              " array([255, 255, 255, ..., 255, 255, 255], dtype=uint8),\n",
              " array([255, 255, 255, ..., 255, 255, 255], dtype=uint8),\n",
              " array([255, 255, 255, ..., 255, 255, 255], dtype=uint8),\n",
              " array([255, 255, 255, ..., 255, 255, 255], dtype=uint8),\n",
              " array([255, 255, 255, ..., 255, 255, 255], dtype=uint8),\n",
              " array([255, 255, 255, ..., 255, 255, 255], dtype=uint8),\n",
              " array([255, 254, 255, ..., 157, 255, 255], dtype=uint8),\n",
              " array([253, 250, 250, ...,  75, 255, 255], dtype=uint8),\n",
              " array([255, 255, 255, ..., 255, 255, 255], dtype=uint8),\n",
              " array([255, 255, 255, ..., 255, 255, 255], dtype=uint8),\n",
              " array([255, 255, 255, ..., 255, 255, 255], dtype=uint8),\n",
              " array([255, 255, 255, ..., 255, 255, 255], dtype=uint8),\n",
              " array([255, 255, 255, ..., 255, 255, 255], dtype=uint8),\n",
              " array([255, 255, 255, ..., 255, 255, 255], dtype=uint8),\n",
              " array([255, 255, 255, ..., 255, 255, 255], dtype=uint8),\n",
              " array([255, 255, 255, ..., 255, 255, 255], dtype=uint8),\n",
              " array([255, 255, 255, ..., 255, 255, 255], dtype=uint8),\n",
              " array([255, 255, 255, ..., 255, 255, 255], dtype=uint8),\n",
              " array([255, 255, 255, ..., 255, 255, 255], dtype=uint8),\n",
              " array([255, 255, 255, ..., 255, 255, 255], dtype=uint8),\n",
              " array([255, 255, 255, ..., 228, 255, 255], dtype=uint8),\n",
              " array([255, 255, 255, ..., 255, 255, 254], dtype=uint8),\n",
              " array([255, 255, 255, ..., 255, 255, 255], dtype=uint8)]"
            ]
          },
          "metadata": {},
          "execution_count": 48
        }
      ]
    },
    {
      "cell_type": "code",
      "metadata": {
        "colab": {
          "base_uri": "https://localhost:8080/"
        },
        "id": "UlDcSJGImC4D",
        "outputId": "c8b47c63-38a7-4315-b8de-4c34dfe25b2f"
      },
      "source": [
        "print(classes)"
      ],
      "execution_count": 49,
      "outputs": [
        {
          "output_type": "stream",
          "name": "stdout",
          "text": [
            "[0, 0, 0, 0, 0, 0, 0, 0, 0, 0, 0, 0, 0, 0, 0, 0, 0, 0, 0, 0, 0, 0, 0, 0, 0, 0, 0, 0, 0, 0, 0, 0, 0, 0, 0, 0, 0, 0, 0, 0, 0, 0, 0, 0, 0, 0, 0, 0, 0, 0, 0, 0, 0, 0, 0, 0, 0, 0, 0, 0, 0, 0, 0, 0, 0, 0, 0, 0, 0, 0, 0, 0, 0, 0, 0, 0, 0, 0, 0, 0, 0, 0, 0, 0, 0, 0, 0, 0, 0, 0, 0, 0, 0, 0, 0, 0, 0, 0, 0, 0, 0, 0, 0, 0, 0, 0, 0, 0, 0, 0, 0, 0, 0, 0, 0, 0, 0, 0, 0, 0, 0, 0, 0, 0, 0, 0, 0, 0, 0, 0, 0, 0, 0, 0, 0, 0, 0, 0, 0, 0, 0, 0, 0, 0, 0, 0, 0, 0, 0, 0, 0, 0, 0, 0, 0, 0, 0, 0, 0, 0, 1, 1, 1, 1, 1, 1, 1, 1, 1, 1, 1, 1, 1, 1, 1, 1, 1, 1, 1, 1, 1, 1, 1, 1, 1, 1, 1, 1, 1, 1, 1, 1, 1, 1, 1, 1, 1, 1, 1, 1, 1, 1, 1, 1, 1, 1, 1, 1, 1, 1, 1, 1, 1, 1, 1, 1, 1, 1, 1, 1, 1, 1, 1, 1, 1, 1, 1, 1, 1, 1, 1, 1, 1, 1, 1, 1, 1, 1, 1, 1, 1, 1, 1, 1, 1, 1, 1, 1, 1, 1, 1, 1, 1, 1, 1, 1, 1, 1, 1, 1, 1, 1, 1, 1, 1, 1, 1, 1, 1]\n"
          ]
        }
      ]
    },
    {
      "cell_type": "code",
      "metadata": {
        "colab": {
          "base_uri": "https://localhost:8080/"
        },
        "id": "E15KDg0gmx2T",
        "outputId": "b16496b2-9bb7-425d-8a0b-2a96822f3a50"
      },
      "source": [
        "type(images), type(classes)"
      ],
      "execution_count": 50,
      "outputs": [
        {
          "output_type": "execute_result",
          "data": {
            "text/plain": [
              "(list, list)"
            ]
          },
          "metadata": {},
          "execution_count": 50
        }
      ]
    },
    {
      "cell_type": "code",
      "metadata": {
        "id": "bqt0SBHam4Ld"
      },
      "source": [
        "X = np.asarray(images)\n",
        "y = np.asarray(classes)"
      ],
      "execution_count": 51,
      "outputs": []
    },
    {
      "cell_type": "code",
      "metadata": {
        "colab": {
          "base_uri": "https://localhost:8080/"
        },
        "id": "C5nlkwN3nLAq",
        "outputId": "cca06db5-713d-45b8-be07-3ce72d6a03e7"
      },
      "source": [
        "### type list to numpy array is required as tensorflow required this format\n",
        "type(X), type(y)"
      ],
      "execution_count": 52,
      "outputs": [
        {
          "output_type": "execute_result",
          "data": {
            "text/plain": [
              "(numpy.ndarray, numpy.ndarray)"
            ]
          },
          "metadata": {},
          "execution_count": 52
        }
      ]
    },
    {
      "cell_type": "code",
      "metadata": {
        "colab": {
          "base_uri": "https://localhost:8080/"
        },
        "id": "sp54zFz0nUJC",
        "outputId": "73003a36-9994-4a99-af65-47bc937a0845"
      },
      "source": [
        "# 128 * 128 = 16384\n",
        "X.shape"
      ],
      "execution_count": 55,
      "outputs": [
        {
          "output_type": "execute_result",
          "data": {
            "text/plain": [
              "(269, 16384)"
            ]
          },
          "metadata": {},
          "execution_count": 55
        }
      ]
    },
    {
      "cell_type": "code",
      "metadata": {
        "colab": {
          "base_uri": "https://localhost:8080/"
        },
        "id": "g4mHg97Kn49z",
        "outputId": "3078e8b1-b8be-4bf8-bbaa-2559e5d2fe82"
      },
      "source": [
        "## total images we have 269 which are now divided as 0 and 1\n",
        "y.shape"
      ],
      "execution_count": 54,
      "outputs": [
        {
          "output_type": "execute_result",
          "data": {
            "text/plain": [
              "(269,)"
            ]
          },
          "metadata": {},
          "execution_count": 54
        }
      ]
    },
    {
      "cell_type": "code",
      "metadata": {
        "colab": {
          "base_uri": "https://localhost:8080/"
        },
        "id": "ee__p8KXoAkY",
        "outputId": "31fbb8b4-eea5-4a29-f958-a12e05b78eee"
      },
      "source": [
        "y"
      ],
      "execution_count": 56,
      "outputs": [
        {
          "output_type": "execute_result",
          "data": {
            "text/plain": [
              "array([0, 0, 0, 0, 0, 0, 0, 0, 0, 0, 0, 0, 0, 0, 0, 0, 0, 0, 0, 0, 0, 0,\n",
              "       0, 0, 0, 0, 0, 0, 0, 0, 0, 0, 0, 0, 0, 0, 0, 0, 0, 0, 0, 0, 0, 0,\n",
              "       0, 0, 0, 0, 0, 0, 0, 0, 0, 0, 0, 0, 0, 0, 0, 0, 0, 0, 0, 0, 0, 0,\n",
              "       0, 0, 0, 0, 0, 0, 0, 0, 0, 0, 0, 0, 0, 0, 0, 0, 0, 0, 0, 0, 0, 0,\n",
              "       0, 0, 0, 0, 0, 0, 0, 0, 0, 0, 0, 0, 0, 0, 0, 0, 0, 0, 0, 0, 0, 0,\n",
              "       0, 0, 0, 0, 0, 0, 0, 0, 0, 0, 0, 0, 0, 0, 0, 0, 0, 0, 0, 0, 0, 0,\n",
              "       0, 0, 0, 0, 0, 0, 0, 0, 0, 0, 0, 0, 0, 0, 0, 0, 0, 0, 0, 0, 0, 0,\n",
              "       0, 0, 0, 0, 0, 0, 1, 1, 1, 1, 1, 1, 1, 1, 1, 1, 1, 1, 1, 1, 1, 1,\n",
              "       1, 1, 1, 1, 1, 1, 1, 1, 1, 1, 1, 1, 1, 1, 1, 1, 1, 1, 1, 1, 1, 1,\n",
              "       1, 1, 1, 1, 1, 1, 1, 1, 1, 1, 1, 1, 1, 1, 1, 1, 1, 1, 1, 1, 1, 1,\n",
              "       1, 1, 1, 1, 1, 1, 1, 1, 1, 1, 1, 1, 1, 1, 1, 1, 1, 1, 1, 1, 1, 1,\n",
              "       1, 1, 1, 1, 1, 1, 1, 1, 1, 1, 1, 1, 1, 1, 1, 1, 1, 1, 1, 1, 1, 1,\n",
              "       1, 1, 1, 1, 1])"
            ]
          },
          "metadata": {},
          "execution_count": 56
        }
      ]
    },
    {
      "cell_type": "code",
      "source": [
        "X[0]"
      ],
      "metadata": {
        "colab": {
          "base_uri": "https://localhost:8080/"
        },
        "id": "gxNvJNY_8XFg",
        "outputId": "0b751e5b-f577-4332-b56e-ff2ea233a9c3"
      },
      "execution_count": 57,
      "outputs": [
        {
          "output_type": "execute_result",
          "data": {
            "text/plain": [
              "array([255, 255, 255, ..., 255, 255, 255], dtype=uint8)"
            ]
          },
          "metadata": {},
          "execution_count": 57
        }
      ]
    },
    {
      "cell_type": "code",
      "metadata": {
        "colab": {
          "base_uri": "https://localhost:8080/"
        },
        "id": "8TgtZDHEoMvA",
        "outputId": "67d96fba-dbe3-42fe-ac08-dc01f6861b9e"
      },
      "source": [
        "## X[0] is 1-D array, who convert it into metric format use shape method\n",
        "X[0].reshape(width, height).shape"
      ],
      "execution_count": 58,
      "outputs": [
        {
          "output_type": "execute_result",
          "data": {
            "text/plain": [
              "(128, 128)"
            ]
          },
          "metadata": {},
          "execution_count": 58
        }
      ]
    },
    {
      "cell_type": "code",
      "metadata": {
        "colab": {
          "base_uri": "https://localhost:8080/",
          "height": 145
        },
        "id": "gHCkNxfGoCtI",
        "outputId": "ac5f7f1e-c049-447d-c410-11cb9a4faf25"
      },
      "source": [
        "## on converting to metrics method you can vizualise the 0th index character\n",
        "cv2_imshow(X[0].reshape(width, height))"
      ],
      "execution_count": 59,
      "outputs": [
        {
          "output_type": "display_data",
          "data": {
            "text/plain": [
              "<PIL.Image.Image image mode=L size=128x128>"
            ],
            "image/png": "[encoded data removed]"
          },
          "metadata": {}
        }
      ]
    },
    {
      "cell_type": "code",
      "metadata": {
        "colab": {
          "base_uri": "https://localhost:8080/",
          "height": 145
        },
        "id": "YzRsI8WqojBn",
        "outputId": "d2ca0a9b-bf5e-481a-a620-ddad7cb332ee"
      },
      "source": [
        "## any random character\n",
        "cv2_imshow(X[200].reshape(width, height))"
      ],
      "execution_count": 60,
      "outputs": [
        {
          "output_type": "display_data",
          "data": {
            "text/plain": [
              "<PIL.Image.Image image mode=L size=128x128>"
            ],
            "image/png": "[encoded data removed]"
          },
          "metadata": {}
        }
      ]
    },
    {
      "cell_type": "code",
      "source": [
        "y"
      ],
      "metadata": {
        "colab": {
          "base_uri": "https://localhost:8080/"
        },
        "id": "WUM3h71L9C4C",
        "outputId": "bf4b683d-11bf-440d-a56b-ef81329c55ed"
      },
      "execution_count": 62,
      "outputs": [
        {
          "output_type": "execute_result",
          "data": {
            "text/plain": [
              "array([0, 0, 0, 0, 0, 0, 0, 0, 0, 0, 0, 0, 0, 0, 0, 0, 0, 0, 0, 0, 0, 0,\n",
              "       0, 0, 0, 0, 0, 0, 0, 0, 0, 0, 0, 0, 0, 0, 0, 0, 0, 0, 0, 0, 0, 0,\n",
              "       0, 0, 0, 0, 0, 0, 0, 0, 0, 0, 0, 0, 0, 0, 0, 0, 0, 0, 0, 0, 0, 0,\n",
              "       0, 0, 0, 0, 0, 0, 0, 0, 0, 0, 0, 0, 0, 0, 0, 0, 0, 0, 0, 0, 0, 0,\n",
              "       0, 0, 0, 0, 0, 0, 0, 0, 0, 0, 0, 0, 0, 0, 0, 0, 0, 0, 0, 0, 0, 0,\n",
              "       0, 0, 0, 0, 0, 0, 0, 0, 0, 0, 0, 0, 0, 0, 0, 0, 0, 0, 0, 0, 0, 0,\n",
              "       0, 0, 0, 0, 0, 0, 0, 0, 0, 0, 0, 0, 0, 0, 0, 0, 0, 0, 0, 0, 0, 0,\n",
              "       0, 0, 0, 0, 0, 0, 1, 1, 1, 1, 1, 1, 1, 1, 1, 1, 1, 1, 1, 1, 1, 1,\n",
              "       1, 1, 1, 1, 1, 1, 1, 1, 1, 1, 1, 1, 1, 1, 1, 1, 1, 1, 1, 1, 1, 1,\n",
              "       1, 1, 1, 1, 1, 1, 1, 1, 1, 1, 1, 1, 1, 1, 1, 1, 1, 1, 1, 1, 1, 1,\n",
              "       1, 1, 1, 1, 1, 1, 1, 1, 1, 1, 1, 1, 1, 1, 1, 1, 1, 1, 1, 1, 1, 1,\n",
              "       1, 1, 1, 1, 1, 1, 1, 1, 1, 1, 1, 1, 1, 1, 1, 1, 1, 1, 1, 1, 1, 1,\n",
              "       1, 1, 1, 1, 1])"
            ]
          },
          "metadata": {},
          "execution_count": 62
        }
      ]
    },
    {
      "cell_type": "code",
      "metadata": {
        "colab": {
          "base_uri": "https://localhost:8080/"
        },
        "id": "LuskbXHRo3Sj",
        "outputId": "55d4eb5c-921d-48e6-fe55-8607437dd175"
      },
      "source": [
        "## to count the 0 and 1 classes\n",
        "np.unique(y, return_counts=True)"
      ],
      "execution_count": 64,
      "outputs": [
        {
          "output_type": "execute_result",
          "data": {
            "text/plain": [
              "(array([0, 1]), array([160, 109]))"
            ]
          },
          "metadata": {},
          "execution_count": 64
        }
      ]
    },
    {
      "cell_type": "markdown",
      "metadata": {
        "id": "R0L0KqcGBs_c"
      },
      "source": [
        "### Normalizing the data using **MinMaxScaler**"
      ]
    },
    {
      "cell_type": "markdown",
      "source": [
        "Normalizing while help to faster the computation"
      ],
      "metadata": {
        "id": "ecMaE8Jz9orr"
      }
    },
    {
      "cell_type": "code",
      "metadata": {
        "colab": {
          "base_uri": "https://localhost:8080/"
        },
        "id": "-ssFm4xUpTpC",
        "outputId": "9c19b361-24c1-4906-a21b-62b1972c8ae9"
      },
      "source": [
        "X[0].max(), X[0].min()"
      ],
      "execution_count": 65,
      "outputs": [
        {
          "output_type": "execute_result",
          "data": {
            "text/plain": [
              "(255, 0)"
            ]
          },
          "metadata": {},
          "execution_count": 65
        }
      ]
    },
    {
      "cell_type": "code",
      "metadata": {
        "id": "9e4Me4nUqEHd"
      },
      "source": [
        "from sklearn.preprocessing import MinMaxScaler\n",
        "scaler = MinMaxScaler()\n",
        "X = scaler.fit_transform(X)"
      ],
      "execution_count": 66,
      "outputs": []
    },
    {
      "cell_type": "code",
      "metadata": {
        "colab": {
          "base_uri": "https://localhost:8080/"
        },
        "id": "gWVmAIYrqQJg",
        "outputId": "ec30b4f4-6e58-4391-8d0a-b69d629eca12"
      },
      "source": [
        "X[0].max(), X[0].min()"
      ],
      "execution_count": 67,
      "outputs": [
        {
          "output_type": "execute_result",
          "data": {
            "text/plain": [
              "(1.0000000000000002, 0.0)"
            ]
          },
          "metadata": {},
          "execution_count": 67
        }
      ]
    },
    {
      "cell_type": "code",
      "metadata": {
        "colab": {
          "base_uri": "https://localhost:8080/"
        },
        "id": "HQJF-MXqqX-F",
        "outputId": "53a5daf5-e81d-4c8a-ae4b-55684fdd740d"
      },
      "source": [
        "X[1]"
      ],
      "execution_count": 68,
      "outputs": [
        {
          "output_type": "execute_result",
          "data": {
            "text/plain": [
              "array([0.9947644 , 0.99479167, 0.99479167, ..., 0.99559471, 0.99595142,\n",
              "       0.9950495 ])"
            ]
          },
          "metadata": {},
          "execution_count": 68
        }
      ]
    },
    {
      "cell_type": "markdown",
      "metadata": {
        "id": "HU2aiuznKCpM"
      },
      "source": [
        "### Train and test set"
      ]
    },
    {
      "cell_type": "code",
      "metadata": {
        "id": "THqcwPi-rLLP"
      },
      "source": [
        "from sklearn.model_selection import train_test_split"
      ],
      "execution_count": 69,
      "outputs": []
    },
    {
      "cell_type": "code",
      "metadata": {
        "id": "ef0u63UXrPHQ"
      },
      "source": [
        "X_train, X_test, y_train, y_test = train_test_split(X, y, test_size = 0.2, random_state = 1)"
      ],
      "execution_count": 70,
      "outputs": []
    },
    {
      "cell_type": "code",
      "metadata": {
        "colab": {
          "base_uri": "https://localhost:8080/"
        },
        "id": "665tA6vMr6Oh",
        "outputId": "efd9e398-5f02-4f07-b817-472fe9374363"
      },
      "source": [
        "## 80% train data\n",
        "X_train.shape, y_train.shape"
      ],
      "execution_count": 71,
      "outputs": [
        {
          "output_type": "execute_result",
          "data": {
            "text/plain": [
              "((215, 16384), (215,))"
            ]
          },
          "metadata": {},
          "execution_count": 71
        }
      ]
    },
    {
      "cell_type": "code",
      "metadata": {
        "colab": {
          "base_uri": "https://localhost:8080/"
        },
        "id": "G-VnU7kdsDrj",
        "outputId": "96b9c9bb-3e04-4b5b-a5d4-6f1a5443bd85"
      },
      "source": [
        "## 20% test data\n",
        "X_test.shape, y_test.shape"
      ],
      "execution_count": 72,
      "outputs": [
        {
          "output_type": "execute_result",
          "data": {
            "text/plain": [
              "((54, 16384), (54,))"
            ]
          },
          "metadata": {},
          "execution_count": 72
        }
      ]
    },
    {
      "cell_type": "markdown",
      "metadata": {
        "id": "c_8D8Q-5NR7z"
      },
      "source": [
        "# **Building** and **training** the neural network"
      ]
    },
    {
      "cell_type": "code",
      "metadata": {
        "colab": {
          "base_uri": "https://localhost:8080/"
        },
        "id": "gV1mN8IOzQCz",
        "outputId": "27ac8171-0c55-4a3e-d481-0753b52e76c7"
      },
      "source": [
        "## two hidden layers each having half the input parameters\n",
        "(16384 + 2) / 2"
      ],
      "execution_count": 73,
      "outputs": [
        {
          "output_type": "execute_result",
          "data": {
            "text/plain": [
              "8193.0"
            ]
          },
          "metadata": {},
          "execution_count": 73
        }
      ]
    },
    {
      "cell_type": "code",
      "metadata": {
        "id": "H57NM0bHyikx"
      },
      "source": [
        "# 16384 -> 8193 -> 8193 -> 1\n",
        "models = tf.keras.models.Sequential()\n",
        "models.add(tf.keras.layers.Dense(input_shape=(16384,), units=8193, activation='relu'))\n",
        "models.add(tf.keras.layers.Dense(units=8193, activation = 'relu'))\n",
        "models.add(tf.keras.layers.Dense(units = 1, activation = 'sigmoid'))"
      ],
      "execution_count": 74,
      "outputs": []
    },
    {
      "cell_type": "code",
      "metadata": {
        "colab": {
          "base_uri": "https://localhost:8080/"
        },
        "id": "25-6KI9p02FU",
        "outputId": "c835dd1e-d02c-43c6-ba95-23ab075ed024"
      },
      "source": [
        "models.summary()"
      ],
      "execution_count": 75,
      "outputs": [
        {
          "output_type": "stream",
          "name": "stdout",
          "text": [
            "Model: \"sequential\"\n",
            "_________________________________________________________________\n",
            " Layer (type)                Output Shape              Param #   \n",
            "=================================================================\n",
            " dense (Dense)               (None, 8193)              134242305 \n",
            "                                                                 \n",
            " dense_1 (Dense)             (None, 8193)              67133442  \n",
            "                                                                 \n",
            " dense_2 (Dense)             (None, 1)                 8194      \n",
            "                                                                 \n",
            "=================================================================\n",
            "Total params: 201383941 (768.22 MB)\n",
            "Trainable params: 201383941 (768.22 MB)\n",
            "Non-trainable params: 0 (0.00 Byte)\n",
            "_________________________________________________________________\n"
          ]
        }
      ]
    },
    {
      "cell_type": "code",
      "metadata": {
        "id": "irg12cX11DmD"
      },
      "source": [
        "# https://keras.io/api/optimizers/\n",
        "# https://keras.io/api/losses/\n",
        "models.compile(optimizer='Adam', loss='binary_crossentropy', metrics = ['accuracy'])"
      ],
      "execution_count": 76,
      "outputs": []
    },
    {
      "cell_type": "code",
      "metadata": {
        "colab": {
          "base_uri": "https://localhost:8080/"
        },
        "id": "ngcz4Mw_1pLL",
        "outputId": "9d188d37-de2c-4fc0-aa79-cb6dab861491"
      },
      "source": [
        "history = models.fit(X_train, y_train, epochs=50)"
      ],
      "execution_count": 77,
      "outputs": [
        {
          "output_type": "stream",
          "name": "stdout",
          "text": [
            "Epoch 1/50\n",
            "7/7 [==============================] - 6s 57ms/step - loss: 113.9709 - accuracy: 0.5302\n",
            "Epoch 2/50\n",
            "7/7 [==============================] - 0s 55ms/step - loss: 17.2855 - accuracy: 0.5023\n",
            "Epoch 3/50\n",
            "7/7 [==============================] - 0s 55ms/step - loss: 12.3734 - accuracy: 0.5209\n",
            "Epoch 4/50\n",
            "7/7 [==============================] - 0s 54ms/step - loss: 11.2633 - accuracy: 0.5023\n",
            "Epoch 5/50\n",
            "7/7 [==============================] - 0s 54ms/step - loss: 8.2555 - accuracy: 0.5256\n",
            "Epoch 6/50\n",
            "7/7 [==============================] - 0s 55ms/step - loss: 4.7040 - accuracy: 0.6140\n",
            "Epoch 7/50\n",
            "7/7 [==============================] - 0s 55ms/step - loss: 1.5440 - accuracy: 0.4837\n",
            "Epoch 8/50\n",
            "7/7 [==============================] - 0s 56ms/step - loss: 0.7072 - accuracy: 0.5209\n",
            "Epoch 9/50\n",
            "7/7 [==============================] - 0s 55ms/step - loss: 0.6540 - accuracy: 0.6140\n",
            "Epoch 10/50\n",
            "7/7 [==============================] - 0s 55ms/step - loss: 0.6598 - accuracy: 0.6140\n",
            "Epoch 11/50\n",
            "7/7 [==============================] - 0s 55ms/step - loss: 0.6520 - accuracy: 0.6605\n",
            "Epoch 12/50\n",
            "7/7 [==============================] - 0s 55ms/step - loss: 0.6286 - accuracy: 0.6512\n",
            "Epoch 13/50\n",
            "7/7 [==============================] - 0s 56ms/step - loss: 0.5785 - accuracy: 0.6977\n",
            "Epoch 14/50\n",
            "7/7 [==============================] - 0s 55ms/step - loss: 0.5981 - accuracy: 0.6744\n",
            "Epoch 15/50\n",
            "7/7 [==============================] - 0s 55ms/step - loss: 0.5912 - accuracy: 0.7116\n",
            "Epoch 16/50\n",
            "7/7 [==============================] - 0s 56ms/step - loss: 0.5618 - accuracy: 0.7023\n",
            "Epoch 17/50\n",
            "7/7 [==============================] - 0s 55ms/step - loss: 0.7592 - accuracy: 0.5860\n",
            "Epoch 18/50\n",
            "7/7 [==============================] - 0s 55ms/step - loss: 0.6438 - accuracy: 0.6791\n",
            "Epoch 19/50\n",
            "7/7 [==============================] - 0s 56ms/step - loss: 0.5997 - accuracy: 0.6326\n",
            "Epoch 20/50\n",
            "7/7 [==============================] - 0s 55ms/step - loss: 0.6582 - accuracy: 0.5953\n",
            "Epoch 21/50\n",
            "7/7 [==============================] - 0s 56ms/step - loss: 0.5840 - accuracy: 0.6837\n",
            "Epoch 22/50\n",
            "7/7 [==============================] - 0s 57ms/step - loss: 0.5541 - accuracy: 0.7023\n",
            "Epoch 23/50\n",
            "7/7 [==============================] - 0s 56ms/step - loss: 0.4657 - accuracy: 0.8000\n",
            "Epoch 24/50\n",
            "7/7 [==============================] - 0s 55ms/step - loss: 0.5367 - accuracy: 0.7163\n",
            "Epoch 25/50\n",
            "7/7 [==============================] - 0s 55ms/step - loss: 0.4911 - accuracy: 0.7488\n",
            "Epoch 26/50\n",
            "7/7 [==============================] - 0s 55ms/step - loss: 0.4245 - accuracy: 0.8047\n",
            "Epoch 27/50\n",
            "7/7 [==============================] - 0s 57ms/step - loss: 0.4741 - accuracy: 0.7721\n",
            "Epoch 28/50\n",
            "7/7 [==============================] - 0s 58ms/step - loss: 0.3942 - accuracy: 0.8279\n",
            "Epoch 29/50\n",
            "7/7 [==============================] - 0s 58ms/step - loss: 0.6133 - accuracy: 0.6698\n",
            "Epoch 30/50\n",
            "7/7 [==============================] - 0s 59ms/step - loss: 0.4870 - accuracy: 0.7581\n",
            "Epoch 31/50\n",
            "7/7 [==============================] - 0s 58ms/step - loss: 0.4514 - accuracy: 0.7628\n",
            "Epoch 32/50\n",
            "7/7 [==============================] - 0s 58ms/step - loss: 0.4722 - accuracy: 0.7488\n",
            "Epoch 33/50\n",
            "7/7 [==============================] - 0s 58ms/step - loss: 0.3699 - accuracy: 0.8326\n",
            "Epoch 34/50\n",
            "7/7 [==============================] - 0s 57ms/step - loss: 0.3707 - accuracy: 0.8233\n",
            "Epoch 35/50\n",
            "7/7 [==============================] - 0s 58ms/step - loss: 0.3360 - accuracy: 0.8419\n",
            "Epoch 36/50\n",
            "7/7 [==============================] - 0s 58ms/step - loss: 0.2739 - accuracy: 0.8930\n",
            "Epoch 37/50\n",
            "7/7 [==============================] - 0s 59ms/step - loss: 0.2412 - accuracy: 0.8884\n",
            "Epoch 38/50\n",
            "7/7 [==============================] - 0s 56ms/step - loss: 0.2545 - accuracy: 0.8744\n",
            "Epoch 39/50\n",
            "7/7 [==============================] - 0s 56ms/step - loss: 0.1971 - accuracy: 0.9070\n",
            "Epoch 40/50\n",
            "7/7 [==============================] - 0s 55ms/step - loss: 0.1181 - accuracy: 0.9628\n",
            "Epoch 41/50\n",
            "7/7 [==============================] - 0s 55ms/step - loss: 0.1263 - accuracy: 0.9581\n",
            "Epoch 42/50\n",
            "7/7 [==============================] - 0s 55ms/step - loss: 0.0597 - accuracy: 0.9907\n",
            "Epoch 43/50\n",
            "7/7 [==============================] - 0s 55ms/step - loss: 0.0480 - accuracy: 1.0000\n",
            "Epoch 44/50\n",
            "7/7 [==============================] - 0s 55ms/step - loss: 0.0297 - accuracy: 1.0000\n",
            "Epoch 45/50\n",
            "7/7 [==============================] - 0s 55ms/step - loss: 0.0298 - accuracy: 1.0000\n",
            "Epoch 46/50\n",
            "7/7 [==============================] - 0s 55ms/step - loss: 0.0458 - accuracy: 0.9907\n",
            "Epoch 47/50\n",
            "7/7 [==============================] - 0s 55ms/step - loss: 0.0303 - accuracy: 0.9953\n",
            "Epoch 48/50\n",
            "7/7 [==============================] - 0s 55ms/step - loss: 0.0164 - accuracy: 1.0000\n",
            "Epoch 49/50\n",
            "7/7 [==============================] - 0s 55ms/step - loss: 0.0290 - accuracy: 0.9953\n",
            "Epoch 50/50\n",
            "7/7 [==============================] - 0s 55ms/step - loss: 0.6009 - accuracy: 0.8233\n"
          ]
        }
      ]
    },
    {
      "cell_type": "markdown",
      "metadata": {
        "id": "48crjefERiK8"
      },
      "source": [
        "### Evaluating the neural network"
      ]
    },
    {
      "cell_type": "code",
      "metadata": {
        "colab": {
          "base_uri": "https://localhost:8080/"
        },
        "id": "28Vm3OJS4TVe",
        "outputId": "9f527be7-20be-4015-e0a0-91b0439a320f"
      },
      "source": [
        "history.history.keys()"
      ],
      "execution_count": 78,
      "outputs": [
        {
          "output_type": "execute_result",
          "data": {
            "text/plain": [
              "dict_keys(['loss', 'accuracy'])"
            ]
          },
          "metadata": {},
          "execution_count": 78
        }
      ]
    },
    {
      "cell_type": "code",
      "metadata": {
        "colab": {
          "base_uri": "https://localhost:8080/",
          "height": 430
        },
        "id": "V7AKGPka4bKZ",
        "outputId": "e6eb4787-e90d-46e2-8dd5-97dea9e72a14"
      },
      "source": [
        "plt.plot(history.history['loss']);"
      ],
      "execution_count": 79,
      "outputs": [
        {
          "output_type": "display_data",
          "data": {
            "text/plain": [
              "<Figure size 640x480 with 1 Axes>"
            ],
            "image/png": "[encoded data removed]"
          },
          "metadata": {}
        }
      ]
    },
    {
      "cell_type": "code",
      "metadata": {
        "colab": {
          "base_uri": "https://localhost:8080/",
          "height": 430
        },
        "id": "CEJNeGV54-DW",
        "outputId": "2753b87d-5b2f-4cd0-ebb3-ec124f444fcb"
      },
      "source": [
        "plt.plot(history.history['accuracy']);"
      ],
      "execution_count": 80,
      "outputs": [
        {
          "output_type": "display_data",
          "data": {
            "text/plain": [
              "<Figure size 640x480 with 1 Axes>"
            ],
            "image/png": "[encoded data removed]"
          },
          "metadata": {}
        }
      ]
    },
    {
      "cell_type": "code",
      "metadata": {
        "colab": {
          "base_uri": "https://localhost:8080/"
        },
        "id": "0JwKmxDK5HL1",
        "outputId": "8726ceb3-b898-4380-95c7-9571004dfa41"
      },
      "source": [
        "X_test.shape"
      ],
      "execution_count": 81,
      "outputs": [
        {
          "output_type": "execute_result",
          "data": {
            "text/plain": [
              "(54, 16384)"
            ]
          },
          "metadata": {},
          "execution_count": 81
        }
      ]
    },
    {
      "cell_type": "code",
      "metadata": {
        "colab": {
          "base_uri": "https://localhost:8080/"
        },
        "id": "cngX7KFi5QaU",
        "outputId": "a9d1109a-b925-4664-fa8a-5c884732c013"
      },
      "source": [
        "predictions = models.predict(X_test)\n",
        "predictions"
      ],
      "execution_count": 82,
      "outputs": [
        {
          "output_type": "stream",
          "name": "stdout",
          "text": [
            "2/2 [==============================] - 0s 7ms/step\n"
          ]
        },
        {
          "output_type": "execute_result",
          "data": {
            "text/plain": [
              "array([[2.40831537e-06],\n",
              "       [1.71979060e-04],\n",
              "       [1.01089718e-05],\n",
              "       [4.84025259e-06],\n",
              "       [4.10914872e-05],\n",
              "       [1.53694305e-06],\n",
              "       [9.44334315e-04],\n",
              "       [4.38743118e-05],\n",
              "       [3.77274337e-05],\n",
              "       [2.82247056e-05],\n",
              "       [3.81368932e-06],\n",
              "       [9.30890813e-03],\n",
              "       [7.57587550e-05],\n",
              "       [1.59611063e-05],\n",
              "       [7.90609556e-06],\n",
              "       [3.11405529e-06],\n",
              "       [7.01619911e-06],\n",
              "       [1.95909615e-05],\n",
              "       [1.39014282e-05],\n",
              "       [3.45797389e-06],\n",
              "       [1.11604850e-05],\n",
              "       [2.15475302e-05],\n",
              "       [2.49803088e-06],\n",
              "       [7.28699251e-06],\n",
              "       [8.71654356e-06],\n",
              "       [2.75332732e-05],\n",
              "       [5.94159837e-06],\n",
              "       [2.56106814e-05],\n",
              "       [8.62146226e-06],\n",
              "       [1.68838276e-04],\n",
              "       [5.54017242e-06],\n",
              "       [1.13293319e-03],\n",
              "       [3.48614376e-05],\n",
              "       [2.15145496e-06],\n",
              "       [3.20689450e-03],\n",
              "       [1.11851625e-06],\n",
              "       [8.62773777e-06],\n",
              "       [9.17363468e-06],\n",
              "       [6.66750157e-06],\n",
              "       [1.61343280e-06],\n",
              "       [3.90195346e-05],\n",
              "       [3.43931315e-05],\n",
              "       [7.99269401e-06],\n",
              "       [1.96741098e-06],\n",
              "       [3.25135193e-06],\n",
              "       [1.00172265e-05],\n",
              "       [3.52939278e-05],\n",
              "       [1.53264284e-06],\n",
              "       [1.90980390e-05],\n",
              "       [3.00571061e-04],\n",
              "       [8.13338488e-07],\n",
              "       [1.86950729e-05],\n",
              "       [4.46917693e-05],\n",
              "       [8.00738053e-06]], dtype=float32)"
            ]
          },
          "metadata": {},
          "execution_count": 82
        }
      ]
    },
    {
      "cell_type": "code",
      "metadata": {
        "id": "GedMGQx05uVW"
      },
      "source": [
        "# 0 False - Bart\n",
        "# 1 True  - Homer"
      ],
      "execution_count": null,
      "outputs": []
    },
    {
      "cell_type": "code",
      "metadata": {
        "colab": {
          "base_uri": "https://localhost:8080/"
        },
        "id": "Y9wQd80r50wc",
        "outputId": "63dcf9da-8296-4543-fc6b-e885bd090c1c"
      },
      "source": [
        "predictions = (predictions > 0.5)\n",
        "predictions"
      ],
      "execution_count": 83,
      "outputs": [
        {
          "output_type": "execute_result",
          "data": {
            "text/plain": [
              "array([[False],\n",
              "       [False],\n",
              "       [False],\n",
              "       [False],\n",
              "       [False],\n",
              "       [False],\n",
              "       [False],\n",
              "       [False],\n",
              "       [False],\n",
              "       [False],\n",
              "       [False],\n",
              "       [False],\n",
              "       [False],\n",
              "       [False],\n",
              "       [False],\n",
              "       [False],\n",
              "       [False],\n",
              "       [False],\n",
              "       [False],\n",
              "       [False],\n",
              "       [False],\n",
              "       [False],\n",
              "       [False],\n",
              "       [False],\n",
              "       [False],\n",
              "       [False],\n",
              "       [False],\n",
              "       [False],\n",
              "       [False],\n",
              "       [False],\n",
              "       [False],\n",
              "       [False],\n",
              "       [False],\n",
              "       [False],\n",
              "       [False],\n",
              "       [False],\n",
              "       [False],\n",
              "       [False],\n",
              "       [False],\n",
              "       [False],\n",
              "       [False],\n",
              "       [False],\n",
              "       [False],\n",
              "       [False],\n",
              "       [False],\n",
              "       [False],\n",
              "       [False],\n",
              "       [False],\n",
              "       [False],\n",
              "       [False],\n",
              "       [False],\n",
              "       [False],\n",
              "       [False],\n",
              "       [False]])"
            ]
          },
          "metadata": {},
          "execution_count": 83
        }
      ]
    },
    {
      "cell_type": "code",
      "metadata": {
        "colab": {
          "base_uri": "https://localhost:8080/"
        },
        "id": "SXwq0DyH6ERQ",
        "outputId": "2e664f63-7b6f-4397-920f-e44142448a37"
      },
      "source": [
        "y_test"
      ],
      "execution_count": 84,
      "outputs": [
        {
          "output_type": "execute_result",
          "data": {
            "text/plain": [
              "array([0, 1, 0, 0, 0, 1, 0, 0, 0, 0, 0, 1, 1, 0, 1, 1, 1, 1, 0, 0, 0, 1,\n",
              "       0, 0, 0, 1, 0, 0, 1, 1, 1, 1, 1, 1, 1, 1, 0, 0, 0, 0, 1, 1, 0, 0,\n",
              "       0, 1, 1, 0, 0, 1, 0, 1, 1, 1])"
            ]
          },
          "metadata": {},
          "execution_count": 84
        }
      ]
    },
    {
      "cell_type": "code",
      "metadata": {
        "colab": {
          "base_uri": "https://localhost:8080/"
        },
        "id": "QpW5mjb36htq",
        "outputId": "e719071a-c32b-4bde-c50f-fd2c8898a6de"
      },
      "source": [
        "from sklearn.metrics import accuracy_score\n",
        "accuracy_score(y_test, predictions)"
      ],
      "execution_count": 85,
      "outputs": [
        {
          "output_type": "execute_result",
          "data": {
            "text/plain": [
              "0.5185185185185185"
            ]
          },
          "metadata": {},
          "execution_count": 85
        }
      ]
    },
    {
      "cell_type": "markdown",
      "source": [
        "**Training Accuracy** --> 99-100% <br>\n",
        "**Test Accuracy** --> 51.85%"
      ],
      "metadata": {
        "id": "ZoEoLorhBiEk"
      }
    },
    {
      "cell_type": "code",
      "metadata": {
        "colab": {
          "base_uri": "https://localhost:8080/"
        },
        "id": "8ejKCrBT6-ta",
        "outputId": "a76c7ccd-81ed-4107-f888-fab0dbfaea05"
      },
      "source": [
        "from sklearn.metrics import confusion_matrix\n",
        "cm = confusion_matrix(y_test, predictions)\n",
        "cm"
      ],
      "execution_count": 86,
      "outputs": [
        {
          "output_type": "execute_result",
          "data": {
            "text/plain": [
              "array([[28,  0],\n",
              "       [26,  0]])"
            ]
          },
          "metadata": {},
          "execution_count": 86
        }
      ]
    },
    {
      "cell_type": "code",
      "metadata": {
        "colab": {
          "base_uri": "https://localhost:8080/",
          "height": 430
        },
        "id": "ZGUreFjc7N7Q",
        "outputId": "673b26c7-c107-479f-dd71-87ab8cd6fbf3"
      },
      "source": [
        "sns.heatmap(cm, annot=True);"
      ],
      "execution_count": 87,
      "outputs": [
        {
          "output_type": "display_data",
          "data": {
            "text/plain": [
              "<Figure size 640x480 with 2 Axes>"
            ],
            "image/png": "[encoded data removed]"
          },
          "metadata": {}
        }
      ]
    },
    {
      "cell_type": "code",
      "metadata": {
        "colab": {
          "base_uri": "https://localhost:8080/"
        },
        "id": "yaxPTvBM7rKj",
        "outputId": "144a2ca3-370b-4b70-d9d4-58f76605b2bb"
      },
      "source": [
        "from sklearn.metrics import classification_report\n",
        "print(classification_report(y_test, predictions))"
      ],
      "execution_count": 88,
      "outputs": [
        {
          "output_type": "stream",
          "name": "stdout",
          "text": [
            "              precision    recall  f1-score   support\n",
            "\n",
            "           0       0.52      1.00      0.68        28\n",
            "           1       0.00      0.00      0.00        26\n",
            "\n",
            "    accuracy                           0.52        54\n",
            "   macro avg       0.26      0.50      0.34        54\n",
            "weighted avg       0.27      0.52      0.35        54\n",
            "\n"
          ]
        },
        {
          "output_type": "stream",
          "name": "stderr",
          "text": [
            "/usr/local/lib/python3.10/dist-packages/sklearn/metrics/_classification.py:1344: UndefinedMetricWarning: Precision and F-score are ill-defined and being set to 0.0 in labels with no predicted samples. Use `zero_division` parameter to control this behavior.\n",
            "  _warn_prf(average, modifier, msg_start, len(result))\n",
            "/usr/local/lib/python3.10/dist-packages/sklearn/metrics/_classification.py:1344: UndefinedMetricWarning: Precision and F-score are ill-defined and being set to 0.0 in labels with no predicted samples. Use `zero_division` parameter to control this behavior.\n",
            "  _warn_prf(average, modifier, msg_start, len(result))\n",
            "/usr/local/lib/python3.10/dist-packages/sklearn/metrics/_classification.py:1344: UndefinedMetricWarning: Precision and F-score are ill-defined and being set to 0.0 in labels with no predicted samples. Use `zero_division` parameter to control this behavior.\n",
            "  _warn_prf(average, modifier, msg_start, len(result))\n"
          ]
        }
      ]
    },
    {
      "cell_type": "markdown",
      "metadata": {
        "id": "CUDXG0HyXAav"
      },
      "source": [
        "# **Saving**"
      ]
    },
    {
      "cell_type": "code",
      "metadata": {
        "id": "UqxI9XbT9pYO"
      },
      "source": [
        "## for saving the network use to_json\n",
        "model_json = models.to_json()\n",
        "with open('cartoon_model.json', 'w') as json_file:\n",
        "  json_file.write(model_json)"
      ],
      "execution_count": 89,
      "outputs": []
    },
    {
      "cell_type": "code",
      "metadata": {
        "id": "B5GaT76u-JeL",
        "colab": {
          "base_uri": "https://localhost:8080/"
        },
        "outputId": "c16574e7-0ea9-45d4-80be-572db250aca8"
      },
      "source": [
        "## for saving the model weights use save_model --> hdf5 is used for tensorflow\n",
        "from keras.models import save_model\n",
        "model_saved = save_model(models, 'cartoon_weights.hdf5')"
      ],
      "execution_count": 90,
      "outputs": [
        {
          "output_type": "stream",
          "name": "stderr",
          "text": [
            "<ipython-input-90-d96a22c9b504>:3: UserWarning: You are saving your model as an HDF5 file via `model.save()`. This file format is considered legacy. We recommend using instead the native Keras format, e.g. `model.save('my_model.keras')`.\n",
            "  model_saved = save_model(models, 'cartoon_weights.hdf5')\n"
          ]
        }
      ]
    },
    {
      "cell_type": "markdown",
      "source": [
        "# **Loading**"
      ],
      "metadata": {
        "id": "m-q_GI01GmwM"
      }
    },
    {
      "cell_type": "code",
      "metadata": {
        "colab": {
          "base_uri": "https://localhost:8080/",
          "height": 140
        },
        "id": "jxMh7aQV-p_D",
        "outputId": "8fbe8efb-66a5-48c2-c026-4cc418499207"
      },
      "source": [
        "## loading the network i.e json file\n",
        "with open('cartoon_model.json') as json_file:\n",
        "  json_saved_model = json_file.read()\n",
        "json_saved_model"
      ],
      "execution_count": 91,
      "outputs": [
        {
          "output_type": "execute_result",
          "data": {
            "text/plain": [
              "'{\"class_name\": \"Sequential\", \"config\": {\"name\": \"sequential\", \"layers\": [{\"module\": \"keras.layers\", \"class_name\": \"InputLayer\", \"config\": {\"batch_input_shape\": [null, 16384], \"dtype\": \"float32\", \"sparse\": false, \"ragged\": false, \"name\": \"dense_input\"}, \"registered_name\": null}, {\"module\": \"keras.layers\", \"class_name\": \"Dense\", \"config\": {\"name\": \"dense\", \"trainable\": true, \"dtype\": \"float32\", \"batch_input_shape\": [null, 16384], \"units\": 8193, \"activation\": \"relu\", \"use_bias\": true, \"kernel_initializer\": {\"module\": \"keras.initializers\", \"class_name\": \"GlorotUniform\", \"config\": {\"seed\": null}, \"registered_name\": null}, \"bias_initializer\": {\"module\": \"keras.initializers\", \"class_name\": \"Zeros\", \"config\": {}, \"registered_name\": null}, \"kernel_regularizer\": null, \"bias_regularizer\": null, \"activity_regularizer\": null, \"kernel_constraint\": null, \"bias_constraint\": null}, \"registered_name\": null, \"build_config\": {\"input_shape\": [null, 16384]}}, {\"module\": \"keras.layers\", \"class_name\": \"Dense\", \"config\": {\"name\": \"dense_1\", \"trainable\": true, \"dtype\": \"float32\", \"units\": 8193, \"activation\": \"relu\", \"use_bias\": true, \"kernel_initializer\": {\"module\": \"keras.initializers\", \"class_name\": \"GlorotUniform\", \"config\": {\"seed\": null}, \"registered_name\": null}, \"bias_initializer\": {\"module\": \"keras.initializers\", \"class_name\": \"Zeros\", \"config\": {}, \"registered_name\": null}, \"kernel_regularizer\": null, \"bias_regularizer\": null, \"activity_regularizer\": null, \"kernel_constraint\": null, \"bias_constraint\": null}, \"registered_name\": null, \"build_config\": {\"input_shape\": [null, 8193]}}, {\"module\": \"keras.layers\", \"class_name\": \"Dense\", \"config\": {\"name\": \"dense_2\", \"trainable\": true, \"dtype\": \"float32\", \"units\": 1, \"activation\": \"sigmoid\", \"use_bias\": true, \"kernel_initializer\": {\"module\": \"keras.initializers\", \"class_name\": \"GlorotUniform\", \"config\": {\"seed\": null}, \"registered_name\": null}, \"bias_initializer\": {\"module\": \"keras.initializers\", \"class_name\": \"Zeros\", \"config\": {}, \"registered_name\": null}, \"kernel_regularizer\": null, \"bias_regularizer\": null, \"activity_regularizer\": null, \"kernel_constraint\": null, \"bias_constraint\": null}, \"registered_name\": null, \"build_config\": {\"input_shape\": [null, 8193]}}]}, \"keras_version\": \"2.14.0\", \"backend\": \"tensorflow\"}'"
            ],
            "application/vnd.google.colaboratory.intrinsic+json": {
              "type": "string"
            }
          },
          "metadata": {},
          "execution_count": 91
        }
      ]
    },
    {
      "cell_type": "code",
      "metadata": {
        "id": "ZpYCPtI3_Gz7"
      },
      "source": [
        "models_loaded = tf.keras.models.model_from_json(json_saved_model)\n",
        "models_loaded.load_weights('/content/cartoon_weights.hdf5')\n",
        "models_loaded.compile(loss = 'binary_crossentropy', optimizer = 'Adam', metrics = ['accuracy'])"
      ],
      "execution_count": 93,
      "outputs": []
    },
    {
      "cell_type": "code",
      "metadata": {
        "colab": {
          "base_uri": "https://localhost:8080/"
        },
        "id": "SEzEYUZs_itp",
        "outputId": "55383708-af36-433a-a281-f6165e52241d"
      },
      "source": [
        "models_loaded.summary()"
      ],
      "execution_count": 94,
      "outputs": [
        {
          "output_type": "stream",
          "name": "stdout",
          "text": [
            "Model: \"sequential\"\n",
            "_________________________________________________________________\n",
            " Layer (type)                Output Shape              Param #   \n",
            "=================================================================\n",
            " dense (Dense)               (None, 8193)              134242305 \n",
            "                                                                 \n",
            " dense_1 (Dense)             (None, 8193)              67133442  \n",
            "                                                                 \n",
            " dense_2 (Dense)             (None, 1)                 8194      \n",
            "                                                                 \n",
            "=================================================================\n",
            "Total params: 201383941 (768.22 MB)\n",
            "Trainable params: 201383941 (768.22 MB)\n",
            "Non-trainable params: 0 (0.00 Byte)\n",
            "_________________________________________________________________\n"
          ]
        }
      ]
    },
    {
      "cell_type": "markdown",
      "metadata": {
        "id": "skw6tU94aCL1"
      },
      "source": [
        "# Test data **formatting**"
      ]
    },
    {
      "cell_type": "code",
      "metadata": {
        "colab": {
          "base_uri": "https://localhost:8080/"
        },
        "id": "lUWw5JQMALJf",
        "outputId": "3e84bd06-3db1-44e5-bc9e-b14ab4171dba"
      },
      "source": [
        "## image is in the form of vector and we need it in metric format i.e rows and columns\n",
        "X_test[0].shape"
      ],
      "execution_count": 95,
      "outputs": [
        {
          "output_type": "execute_result",
          "data": {
            "text/plain": [
              "(16384,)"
            ]
          },
          "metadata": {},
          "execution_count": 95
        }
      ]
    },
    {
      "cell_type": "code",
      "metadata": {
        "colab": {
          "base_uri": "https://localhost:8080/"
        },
        "id": "QJ1XcexrBsA-",
        "outputId": "9485b492-335a-4904-ed8a-d998e336c2eb"
      },
      "source": [
        "## since the test data is in normalized format, it will show 1 or 0.\n",
        "test_image = X_test[0]\n",
        "test_image"
      ],
      "execution_count": 98,
      "outputs": [
        {
          "output_type": "execute_result",
          "data": {
            "text/plain": [
              "array([1., 1., 1., ..., 1., 1., 1.])"
            ]
          },
          "metadata": {},
          "execution_count": 98
        }
      ]
    },
    {
      "cell_type": "code",
      "source": [
        "## being all 1 --> complete black\n",
        "cv2_imshow(test_image.reshape(width, height))"
      ],
      "metadata": {
        "colab": {
          "base_uri": "https://localhost:8080/",
          "height": 145
        },
        "id": "VcMpJYCNEaNB",
        "outputId": "0efd284e-3341-42bd-99b2-6cc7541a03fa"
      },
      "execution_count": 99,
      "outputs": [
        {
          "output_type": "display_data",
          "data": {
            "text/plain": [
              "<PIL.Image.Image image mode=L size=128x128>"
            ],
            "image/png": "[encoded data removed]"
          },
          "metadata": {}
        }
      ]
    },
    {
      "cell_type": "code",
      "metadata": {
        "id": "4Q9FnUZFACU9"
      },
      "source": [
        "## for a single sample image--> reshape(1,-1) and if single feature use --> (-1,1)\n",
        "test_image = X_test[34]\n",
        "test_image = scaler.inverse_transform(test_image.reshape(1, -1))"
      ],
      "execution_count": 100,
      "outputs": []
    },
    {
      "cell_type": "code",
      "metadata": {
        "colab": {
          "base_uri": "https://localhost:8080/"
        },
        "id": "ofs7FHc4CQXH",
        "outputId": "4eebc91c-4675-4baf-c3e6-20dc4ced8ae9"
      },
      "source": [
        "## now it is converted to original 0-255 format\n",
        "test_image"
      ],
      "execution_count": 102,
      "outputs": [
        {
          "output_type": "execute_result",
          "data": {
            "text/plain": [
              "array([[255., 255., 255., ..., 255., 255., 255.]])"
            ]
          },
          "metadata": {},
          "execution_count": 102
        }
      ]
    },
    {
      "cell_type": "code",
      "metadata": {
        "colab": {
          "base_uri": "https://localhost:8080/",
          "height": 145
        },
        "id": "qWwpZzIYB6bw",
        "outputId": "bbb0f983-e9a2-4c0f-f299-763de172cf41"
      },
      "source": [
        "## now not that black box is showing\n",
        "cv2_imshow(test_image.reshape(width, height))"
      ],
      "execution_count": 103,
      "outputs": [
        {
          "output_type": "display_data",
          "data": {
            "text/plain": [
              "<PIL.Image.Image image mode=L size=128x128>"
            ],
            "image/png": "[encoded data removed]"
          },
          "metadata": {}
        }
      ]
    },
    {
      "cell_type": "markdown",
      "source": [
        "# **Prediction** part"
      ],
      "metadata": {
        "id": "tGj2Zu3UFNej"
      }
    },
    {
      "cell_type": "code",
      "metadata": {
        "colab": {
          "base_uri": "https://localhost:8080/"
        },
        "id": "Pc7HfJ7ZCXrH",
        "outputId": "e9834fed-fb2c-4caf-ec52-d8b2b3380594"
      },
      "source": [
        "models_loaded.predict(test_image)[0][0]"
      ],
      "execution_count": 104,
      "outputs": [
        {
          "output_type": "stream",
          "name": "stdout",
          "text": [
            "1/1 [==============================] - 0s 78ms/step\n"
          ]
        },
        {
          "output_type": "execute_result",
          "data": {
            "text/plain": [
              "0.0"
            ]
          },
          "metadata": {},
          "execution_count": 104
        }
      ]
    },
    {
      "cell_type": "code",
      "metadata": {
        "colab": {
          "base_uri": "https://localhost:8080/"
        },
        "id": "EFgIlAWOCqR7",
        "outputId": "f0694649-97e9-4d6c-8c66-89eeffaaf692"
      },
      "source": [
        "if models_loaded.predict(test_image)[0][0] < 0.5:\n",
        "  print('Bart')\n",
        "else:\n",
        "  print('Homer')"
      ],
      "execution_count": 105,
      "outputs": [
        {
          "output_type": "stream",
          "name": "stdout",
          "text": [
            "1/1 [==============================] - 0s 17ms/step\n",
            "Bart\n"
          ]
        }
      ]
    },
    {
      "cell_type": "markdown",
      "source": [
        "above wrong prediction --> homer predicted as Bart"
      ],
      "metadata": {
        "id": "OBXTCA84FmaZ"
      }
    },
    {
      "cell_type": "code",
      "source": [
        "## another test --> 33rd image is santa\n",
        "test_image = X_test[33]\n",
        "test_image = scaler.inverse_transform(test_image.reshape(1, -1))\n",
        "cv2_imshow(test_image.reshape(width, height))"
      ],
      "metadata": {
        "colab": {
          "base_uri": "https://localhost:8080/",
          "height": 145
        },
        "id": "nPZICElSFsgO",
        "outputId": "aab77f6d-c48e-47e4-a554-573d2537105c"
      },
      "execution_count": 106,
      "outputs": [
        {
          "output_type": "display_data",
          "data": {
            "text/plain": [
              "<PIL.Image.Image image mode=L size=128x128>"
            ],
            "image/png": "[encoded data removed]"
          },
          "metadata": {}
        }
      ]
    },
    {
      "cell_type": "code",
      "source": [
        "## predicted wrongly again\n",
        "if models_loaded.predict(test_image)[0][0] < 0.5:\n",
        "  print('Bart')\n",
        "else:\n",
        "  print('Homer')\n"
      ],
      "metadata": {
        "colab": {
          "base_uri": "https://localhost:8080/"
        },
        "id": "c2BPVGe1F5fe",
        "outputId": "d08b74ae-2051-4951-eb41-455caf851f01"
      },
      "execution_count": 107,
      "outputs": [
        {
          "output_type": "stream",
          "name": "stdout",
          "text": [
            "1/1 [==============================] - 0s 24ms/step\n",
            "Bart\n"
          ]
        }
      ]
    }
  ]
}