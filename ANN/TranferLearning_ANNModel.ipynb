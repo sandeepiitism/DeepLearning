{
  "nbformat": 4,
  "nbformat_minor": 0,
  "metadata": {
    "colab": {
      "provenance": [],
      "gpuType": "T4"
    },
    "kernelspec": {
      "name": "python3",
      "display_name": "Python 3"
    },
    "language_info": {
      "name": "python"
    },
    "accelerator": "GPU"
  },
  "cells": [
    {
      "cell_type": "markdown",
      "source": [
        "# Transfer learning\n",
        "Taking the ANN model and freezing the last layer for even-odd\n",
        "\n",
        "## New problem statement -\n",
        "Classify handwritten digits into odd and even"
      ],
      "metadata": {
        "id": "expvKPdBFtAV"
      }
    },
    {
      "cell_type": "code",
      "source": [
        "pretrained_model = tf.keras.models.load_model(\"mnist_full.h5\")"
      ],
      "metadata": {
        "id": "vXnB2ea7Ahq5"
      },
      "execution_count": null,
      "outputs": []
    },
    {
      "cell_type": "code",
      "source": [
        "pretrained_model.summary()"
      ],
      "metadata": {
        "colab": {
          "base_uri": "https://localhost:8080/"
        },
        "id": "uqwW7NS0HqKq",
        "outputId": "979af0dd-1008-4a8f-8b19-edd7c627885e"
      },
      "execution_count": null,
      "outputs": [
        {
          "output_type": "stream",
          "name": "stdout",
          "text": [
            "Model: \"sequential\"\n",
            "_________________________________________________________________\n",
            " Layer (type)                Output Shape              Param #   \n",
            "=================================================================\n",
            " inputLayer (Flatten)        (None, 784)               0         \n",
            "                                                                 \n",
            " hiddenLayer01 (Dense)       (None, 300)               235500    \n",
            "                                                                 \n",
            " hiddenLayer02 (Dense)       (None, 100)               30100     \n",
            "                                                                 \n",
            " outputLayer (Dense)         (None, 10)                1010      \n",
            "                                                                 \n",
            "=================================================================\n",
            "Total params: 266610 (1.02 MB)\n",
            "Trainable params: 266610 (1.02 MB)\n",
            "Non-trainable params: 0 (0.00 Byte)\n",
            "_________________________________________________________________\n"
          ]
        }
      ]
    },
    {
      "cell_type": "code",
      "source": [
        "## checking the layers which are trainable\n",
        "for layer in pretrained_model.layers:\n",
        "    print(f\"{layer.name}: {layer.trainable}\")"
      ],
      "metadata": {
        "colab": {
          "base_uri": "https://localhost:8080/"
        },
        "id": "adMI2KYpHs4M",
        "outputId": "415eed12-35f7-4bc0-9928-e0d24ae904e5"
      },
      "execution_count": null,
      "outputs": [
        {
          "output_type": "stream",
          "name": "stdout",
          "text": [
            "inputLayer: True\n",
            "hiddenLayer01: True\n",
            "hiddenLayer02: True\n",
            "outputLayer: True\n"
          ]
        }
      ]
    },
    {
      "cell_type": "code",
      "source": [
        "## dont want all the layers to train again except the last one i.e output layer\n",
        "for layer in pretrained_model.layers[:-1]: # leave the last layer\n",
        "    layer.trainable = False"
      ],
      "metadata": {
        "id": "kDXst5CIH3nq"
      },
      "execution_count": null,
      "outputs": []
    },
    {
      "cell_type": "code",
      "source": [
        "## again checking all the layers after making above false\n",
        "for layer in pretrained_model.layers:\n",
        "    print(f\"{layer.name}: {layer.trainable}\")"
      ],
      "metadata": {
        "colab": {
          "base_uri": "https://localhost:8080/"
        },
        "id": "WasQxQQBISnz",
        "outputId": "79fca70d-bb8b-4241-bc5f-33405abb7810"
      },
      "execution_count": null,
      "outputs": [
        {
          "output_type": "stream",
          "name": "stdout",
          "text": [
            "inputLayer: False\n",
            "hiddenLayer01: False\n",
            "hiddenLayer02: False\n",
            "outputLayer: True\n"
          ]
        }
      ]
    },
    {
      "cell_type": "code",
      "source": [
        "lower_pretrained_model = pretrained_model.layers[:-1]"
      ],
      "metadata": {
        "id": "jsiJOQEsIc9z"
      },
      "execution_count": null,
      "outputs": []
    },
    {
      "cell_type": "code",
      "source": [
        "## adding last layer to train\n",
        "new_model = tf.keras.models.Sequential(lower_pretrained_model)\n",
        "new_model.add(\n",
        "    tf.keras.layers.Dense(2, activation=\"softmax\")\n",
        ")"
      ],
      "metadata": {
        "id": "ujToGLKOImQr"
      },
      "execution_count": null,
      "outputs": []
    },
    {
      "cell_type": "code",
      "source": [
        "new_model.summary()"
      ],
      "metadata": {
        "colab": {
          "base_uri": "https://localhost:8080/"
        },
        "id": "ifKHPErXJEIb",
        "outputId": "fa9713b5-f3e7-4437-d2d8-918077f44c05"
      },
      "execution_count": null,
      "outputs": [
        {
          "output_type": "stream",
          "name": "stdout",
          "text": [
            "Model: \"sequential_2\"\n",
            "_________________________________________________________________\n",
            " Layer (type)                Output Shape              Param #   \n",
            "=================================================================\n",
            " inputLayer (Flatten)        (None, 784)               0         \n",
            "                                                                 \n",
            " hiddenLayer01 (Dense)       (None, 300)               235500    \n",
            "                                                                 \n",
            " hiddenLayer02 (Dense)       (None, 100)               30100     \n",
            "                                                                 \n",
            " dense_1 (Dense)             (None, 2)                 202       \n",
            "                                                                 \n",
            "=================================================================\n",
            "Total params: 265802 (1.01 MB)\n",
            "Trainable params: 202 (808.00 Byte)\n",
            "Non-trainable params: 265600 (1.01 MB)\n",
            "_________________________________________________________________\n"
          ]
        }
      ]
    },
    {
      "cell_type": "code",
      "source": [
        "100*2 + 2"
      ],
      "metadata": {
        "colab": {
          "base_uri": "https://localhost:8080/"
        },
        "id": "54iVsXDPJVOq",
        "outputId": "8d78d046-d6d3-43dd-e2cc-80a343e2f9f2"
      },
      "execution_count": null,
      "outputs": [
        {
          "output_type": "execute_result",
          "data": {
            "text/plain": [
              "202"
            ]
          },
          "metadata": {},
          "execution_count": 56
        }
      ]
    },
    {
      "cell_type": "code",
      "source": [
        "def update_even_odd_labels(labels):\n",
        "    for idx, label in enumerate(labels):\n",
        "        labels[idx] = np.where(label%2 == 0, 1, 0) # 1 -> even, 0 -> odd\n",
        "    return labels"
      ],
      "metadata": {
        "id": "cQih9IMgJbzK"
      },
      "execution_count": null,
      "outputs": []
    },
    {
      "cell_type": "code",
      "source": [
        "y_train_bin, y_test_bin, y_valid_bin = update_even_odd_labels([y_train, y_test, y_valid])"
      ],
      "metadata": {
        "id": "Tg6wPXotKdWz"
      },
      "execution_count": null,
      "outputs": []
    },
    {
      "cell_type": "code",
      "source": [
        "np.unique(y_train_bin)"
      ],
      "metadata": {
        "colab": {
          "base_uri": "https://localhost:8080/"
        },
        "id": "VP4GUllgKsSy",
        "outputId": "3cabb021-b3c8-4299-dadd-eb3f17f20f07"
      },
      "execution_count": null,
      "outputs": [
        {
          "output_type": "execute_result",
          "data": {
            "text/plain": [
              "array([0, 1])"
            ]
          },
          "metadata": {},
          "execution_count": 60
        }
      ]
    },
    {
      "cell_type": "code",
      "source": [
        "new_model.compile(loss=\"sparse_categorical_crossentropy\",\n",
        "                  optimizer=\"SGD\",\n",
        "                  metrics=[\"accuracy\"]\n",
        "                  )"
      ],
      "metadata": {
        "id": "_RnWeqOlKvSY"
      },
      "execution_count": null,
      "outputs": []
    },
    {
      "cell_type": "code",
      "source": [
        "history = new_model.fit(\n",
        "    X_train, y_train_bin, epochs=10, validation_data = (X_valid, y_valid_bin)\n",
        ")"
      ],
      "metadata": {
        "colab": {
          "base_uri": "https://localhost:8080/"
        },
        "id": "3jKPsTjQLxiW",
        "outputId": "f723737d-ca27-40ea-ec3a-fea69c765f75"
      },
      "execution_count": null,
      "outputs": [
        {
          "output_type": "stream",
          "name": "stdout",
          "text": [
            "Epoch 1/10\n",
            "1719/1719 [==============================] - 6s 3ms/step - loss: 0.1661 - accuracy: 0.9427 - val_loss: 0.1197 - val_accuracy: 0.9582\n",
            "Epoch 2/10\n",
            "1719/1719 [==============================] - 5s 3ms/step - loss: 0.1138 - accuracy: 0.9619 - val_loss: 0.1076 - val_accuracy: 0.9626\n",
            "Epoch 3/10\n",
            "1719/1719 [==============================] - 6s 3ms/step - loss: 0.1047 - accuracy: 0.9646 - val_loss: 0.1039 - val_accuracy: 0.9646\n",
            "Epoch 4/10\n",
            "1719/1719 [==============================] - 5s 3ms/step - loss: 0.1000 - accuracy: 0.9663 - val_loss: 0.0987 - val_accuracy: 0.9652\n",
            "Epoch 5/10\n",
            "1719/1719 [==============================] - 7s 4ms/step - loss: 0.0970 - accuracy: 0.9670 - val_loss: 0.0973 - val_accuracy: 0.9652\n",
            "Epoch 6/10\n",
            "1719/1719 [==============================] - 5s 3ms/step - loss: 0.0949 - accuracy: 0.9681 - val_loss: 0.0958 - val_accuracy: 0.9662\n",
            "Epoch 7/10\n",
            "1719/1719 [==============================] - 5s 3ms/step - loss: 0.0933 - accuracy: 0.9683 - val_loss: 0.0953 - val_accuracy: 0.9660\n",
            "Epoch 8/10\n",
            "1719/1719 [==============================] - 6s 3ms/step - loss: 0.0918 - accuracy: 0.9693 - val_loss: 0.0937 - val_accuracy: 0.9676\n",
            "Epoch 9/10\n",
            "1719/1719 [==============================] - 5s 3ms/step - loss: 0.0909 - accuracy: 0.9691 - val_loss: 0.0938 - val_accuracy: 0.9662\n",
            "Epoch 10/10\n",
            "1719/1719 [==============================] - 5s 3ms/step - loss: 0.0900 - accuracy: 0.9700 - val_loss: 0.0923 - val_accuracy: 0.9668\n"
          ]
        }
      ]
    },
    {
      "cell_type": "code",
      "source": [
        "new_model.evaluate(X_test, y_test_bin)"
      ],
      "metadata": {
        "colab": {
          "base_uri": "https://localhost:8080/"
        },
        "id": "udTvkif8MCBg",
        "outputId": "96dff58b-d460-41bf-efb9-e03b9937dc58"
      },
      "execution_count": null,
      "outputs": [
        {
          "output_type": "stream",
          "name": "stdout",
          "text": [
            "313/313 [==============================] - 1s 2ms/step - loss: 0.0968 - accuracy: 0.9672\n"
          ]
        },
        {
          "output_type": "execute_result",
          "data": {
            "text/plain": [
              "[0.09677328169345856, 0.967199981212616]"
            ]
          },
          "metadata": {},
          "execution_count": 63
        }
      ]
    },
    {
      "cell_type": "code",
      "source": [
        "X_new = X_test[:3]\n",
        "\n",
        "y_prob = new_model.predict(X_new)\n",
        "y_prob.round(3)"
      ],
      "metadata": {
        "colab": {
          "base_uri": "https://localhost:8080/"
        },
        "id": "yDt7tx-AMWvI",
        "outputId": "eb2efe40-bff4-476f-b45b-44bbee6dce31"
      },
      "execution_count": null,
      "outputs": [
        {
          "output_type": "stream",
          "name": "stdout",
          "text": [
            "1/1 [==============================] - 0s 52ms/step\n"
          ]
        },
        {
          "output_type": "execute_result",
          "data": {
            "text/plain": [
              "array([[1.   , 0.   ],\n",
              "       [0.001, 0.999],\n",
              "       [0.971, 0.029]], dtype=float32)"
            ]
          },
          "metadata": {},
          "execution_count": 64
        }
      ]
    },
    {
      "cell_type": "code",
      "source": [
        "Y_pred = np.argmax(y_prob, axis=-1)\n",
        "Y_pred"
      ],
      "metadata": {
        "colab": {
          "base_uri": "https://localhost:8080/"
        },
        "id": "YCGXHyBHMoNH",
        "outputId": "9f00799c-ad38-422d-ab22-28376561e001"
      },
      "execution_count": null,
      "outputs": [
        {
          "output_type": "execute_result",
          "data": {
            "text/plain": [
              "array([0, 1, 0])"
            ]
          },
          "metadata": {},
          "execution_count": 65
        }
      ]
    },
    {
      "cell_type": "code",
      "source": [
        "y_test_bin[:3]"
      ],
      "metadata": {
        "colab": {
          "base_uri": "https://localhost:8080/"
        },
        "id": "p2BCkWSRMu7O",
        "outputId": "b54e2e45-12d7-4b6d-8fb6-c872060fae0a"
      },
      "execution_count": null,
      "outputs": [
        {
          "output_type": "execute_result",
          "data": {
            "text/plain": [
              "array([0, 1, 0])"
            ]
          },
          "metadata": {},
          "execution_count": 66
        }
      ]
    },
    {
      "cell_type": "code",
      "source": [
        "for img_array, pred, actual in zip(X_new, Y_pred, y_test_bin[:3]):\n",
        "    if pred == 1:\n",
        "        pred = \"even\"\n",
        "    else:\n",
        "        pred = \"odd\"\n",
        "\n",
        "    if actual == 1:\n",
        "        actual = \"even\"\n",
        "    else:\n",
        "        actual = \"odd\"\n",
        "    plt.imshow(img_array, cmap=\"gray\")\n",
        "    plt.title(f\"predicted: {pred}, actual: {actual}\")\n",
        "    plt.axis(\"off\")\n",
        "    plt.show()\n",
        "    print(\"--\"*30)"
      ],
      "metadata": {
        "colab": {
          "base_uri": "https://localhost:8080/",
          "height": 1000
        },
        "id": "93uk9ROPMdsP",
        "outputId": "7f50d8e6-315c-4900-cfd6-d8edd5e2230e"
      },
      "execution_count": null,
      "outputs": [
        {
          "output_type": "display_data",
          "data": {
            "text/plain": [
              "<Figure size 640x480 with 1 Axes>"
            ],
            "image/png": "[encoded data removed]"
          },
          "metadata": {}
        },
        {
          "output_type": "stream",
          "name": "stdout",
          "text": [
            "------------------------------------------------------------\n"
          ]
        },
        {
          "output_type": "display_data",
          "data": {
            "text/plain": [
              "<Figure size 640x480 with 1 Axes>"
            ],
            "image/png": "[encoded data removed]"
          },
          "metadata": {}
        },
        {
          "output_type": "stream",
          "name": "stdout",
          "text": [
            "------------------------------------------------------------\n"
          ]
        },
        {
          "output_type": "display_data",
          "data": {
            "text/plain": [
              "<Figure size 640x480 with 1 Axes>"
            ],
            "image/png": "[encoded data removed]"
          },
          "metadata": {}
        },
        {
          "output_type": "stream",
          "name": "stdout",
          "text": [
            "------------------------------------------------------------\n"
          ]
        }
      ]
    },
    {
      "cell_type": "code",
      "source": [],
      "metadata": {
        "id": "NMWbrqvQ4BFT"
      },
      "execution_count": null,
      "outputs": []
    }
  ]
}